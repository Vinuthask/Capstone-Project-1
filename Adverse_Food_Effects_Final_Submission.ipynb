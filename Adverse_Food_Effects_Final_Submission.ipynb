{
 "cells": [
  {
   "cell_type": "code",
   "execution_count": 1,
   "metadata": {},
   "outputs": [],
   "source": [
    "#Import necessary packages:\n",
    "import pandas as pd\n",
    "import csv\n",
    "import matplotlib.pyplot as plt   "
   ]
  },
  {
   "cell_type": "code",
   "execution_count": 2,
   "metadata": {},
   "outputs": [],
   "source": [
    "#Loading .csv file to Pandas dataframe\n",
    "adfood_eff= pd.read_csv('CAERS_ASCII_2004_2017Q2.csv')"
   ]
  },
  {
   "cell_type": "code",
   "execution_count": 3,
   "metadata": {},
   "outputs": [
    {
     "name": "stdout",
     "output_type": "stream",
     "text": [
      "<class 'pandas.core.frame.DataFrame'>\n",
      "RangeIndex: 90786 entries, 0 to 90785\n",
      "Data columns (total 12 columns):\n",
      "RA_Report #                        90786 non-null int64\n",
      "RA_CAERS Created Date              90786 non-null object\n",
      "AEC_Event Start Date               53653 non-null object\n",
      "PRI_Product Role                   90786 non-null object\n",
      "PRI_Reported Brand/Product Name    90786 non-null object\n",
      "PRI_FDA Industry Code              90786 non-null int64\n",
      "PRI_FDA Industry Name              90786 non-null object\n",
      "CI_Age at Adverse Event            52926 non-null float64\n",
      "CI_Age Unit                        90786 non-null object\n",
      "CI_Gender                          90786 non-null object\n",
      "AEC_One Row Outcomes               90786 non-null object\n",
      "SYM_One Row Coded Symptoms         90781 non-null object\n",
      "dtypes: float64(1), int64(2), object(9)\n",
      "memory usage: 8.3+ MB\n"
     ]
    }
   ],
   "source": [
    "#Exploring the data\n",
    "adfood_eff.info()"
   ]
  },
  {
   "cell_type": "code",
   "execution_count": 4,
   "metadata": {},
   "outputs": [
    {
     "data": {
      "text/html": [
       "<div>\n",
       "<style scoped>\n",
       "    .dataframe tbody tr th:only-of-type {\n",
       "        vertical-align: middle;\n",
       "    }\n",
       "\n",
       "    .dataframe tbody tr th {\n",
       "        vertical-align: top;\n",
       "    }\n",
       "\n",
       "    .dataframe thead th {\n",
       "        text-align: right;\n",
       "    }\n",
       "</style>\n",
       "<table border=\"1\" class=\"dataframe\">\n",
       "  <thead>\n",
       "    <tr style=\"text-align: right;\">\n",
       "      <th></th>\n",
       "      <th>RA_Report #</th>\n",
       "      <th>RA_CAERS Created Date</th>\n",
       "      <th>AEC_Event Start Date</th>\n",
       "      <th>PRI_Product Role</th>\n",
       "      <th>PRI_Reported Brand/Product Name</th>\n",
       "      <th>PRI_FDA Industry Code</th>\n",
       "      <th>PRI_FDA Industry Name</th>\n",
       "      <th>CI_Age at Adverse Event</th>\n",
       "      <th>CI_Age Unit</th>\n",
       "      <th>CI_Gender</th>\n",
       "      <th>AEC_One Row Outcomes</th>\n",
       "      <th>SYM_One Row Coded Symptoms</th>\n",
       "    </tr>\n",
       "  </thead>\n",
       "  <tbody>\n",
       "    <tr>\n",
       "      <th>0</th>\n",
       "      <td>65325</td>\n",
       "      <td>1/1/2004</td>\n",
       "      <td>8/4/2003</td>\n",
       "      <td>Suspect</td>\n",
       "      <td>MIDWEST COUNTRY FAIR CHOCOLATE FLAVORED CHIPS</td>\n",
       "      <td>3</td>\n",
       "      <td>Bakery Prod/Dough/Mix/Icing</td>\n",
       "      <td>2.0</td>\n",
       "      <td>Year(s)</td>\n",
       "      <td>Female</td>\n",
       "      <td>VISITED AN ER, VISITED A HEALTH CARE PROVIDER,...</td>\n",
       "      <td>SWELLING FACE, RASH, WHEEZING, COUGH, HOSPITAL...</td>\n",
       "    </tr>\n",
       "    <tr>\n",
       "      <th>1</th>\n",
       "      <td>65325</td>\n",
       "      <td>1/1/2004</td>\n",
       "      <td>8/4/2003</td>\n",
       "      <td>Suspect</td>\n",
       "      <td>MIDWEST COUNTRY FAIR CHOCOLATE FLAVORED CHIPS</td>\n",
       "      <td>3</td>\n",
       "      <td>Bakery Prod/Dough/Mix/Icing</td>\n",
       "      <td>2.0</td>\n",
       "      <td>Year(s)</td>\n",
       "      <td>Female</td>\n",
       "      <td>VISITED AN ER, VISITED A HEALTH CARE PROVIDER,...</td>\n",
       "      <td>SWELLING FACE, WHEEZING, COUGH, RASH, HOSPITAL...</td>\n",
       "    </tr>\n",
       "    <tr>\n",
       "      <th>2</th>\n",
       "      <td>65333</td>\n",
       "      <td>1/1/2004</td>\n",
       "      <td>NaN</td>\n",
       "      <td>Suspect</td>\n",
       "      <td>KROGER CLASSIC CREAM-DE-MINT CANDY MINT CHIP I...</td>\n",
       "      <td>13</td>\n",
       "      <td>Ice Cream Prod</td>\n",
       "      <td>NaN</td>\n",
       "      <td>Not Available</td>\n",
       "      <td>Female</td>\n",
       "      <td>VISITED AN ER</td>\n",
       "      <td>NAUSEA, DYSGEUSIA, DIARRHOEA</td>\n",
       "    </tr>\n",
       "    <tr>\n",
       "      <th>3</th>\n",
       "      <td>65335</td>\n",
       "      <td>1/1/2004</td>\n",
       "      <td>11/24/2003</td>\n",
       "      <td>Suspect</td>\n",
       "      <td>ENFAMIL LIPIL BABY FORMULA</td>\n",
       "      <td>40</td>\n",
       "      <td>Baby Food Prod</td>\n",
       "      <td>3.0</td>\n",
       "      <td>Month(s)</td>\n",
       "      <td>Not Available</td>\n",
       "      <td>NON-SERIOUS INJURIES/ ILLNESS</td>\n",
       "      <td>GASTROINTESTINAL DISORDER, VOMITING</td>\n",
       "    </tr>\n",
       "    <tr>\n",
       "      <th>4</th>\n",
       "      <td>65336</td>\n",
       "      <td>1/1/2004</td>\n",
       "      <td>NaN</td>\n",
       "      <td>Suspect</td>\n",
       "      <td>ENFIMIL LIPIL BABY FORMULA</td>\n",
       "      <td>40</td>\n",
       "      <td>Baby Food Prod</td>\n",
       "      <td>NaN</td>\n",
       "      <td>Not Available</td>\n",
       "      <td>Not Available</td>\n",
       "      <td>VISITED A HEALTH CARE PROVIDER</td>\n",
       "      <td>GASTROINTESTINAL DISORDER, PHYSICAL EXAMINATION</td>\n",
       "    </tr>\n",
       "  </tbody>\n",
       "</table>\n",
       "</div>"
      ],
      "text/plain": [
       "   RA_Report # RA_CAERS Created Date AEC_Event Start Date PRI_Product Role  \\\n",
       "0        65325              1/1/2004             8/4/2003          Suspect   \n",
       "1        65325              1/1/2004             8/4/2003          Suspect   \n",
       "2        65333              1/1/2004                  NaN          Suspect   \n",
       "3        65335              1/1/2004           11/24/2003          Suspect   \n",
       "4        65336              1/1/2004                  NaN          Suspect   \n",
       "\n",
       "                     PRI_Reported Brand/Product Name  PRI_FDA Industry Code  \\\n",
       "0      MIDWEST COUNTRY FAIR CHOCOLATE FLAVORED CHIPS                      3   \n",
       "1      MIDWEST COUNTRY FAIR CHOCOLATE FLAVORED CHIPS                      3   \n",
       "2  KROGER CLASSIC CREAM-DE-MINT CANDY MINT CHIP I...                     13   \n",
       "3                         ENFAMIL LIPIL BABY FORMULA                     40   \n",
       "4                         ENFIMIL LIPIL BABY FORMULA                     40   \n",
       "\n",
       "         PRI_FDA Industry Name  CI_Age at Adverse Event    CI_Age Unit  \\\n",
       "0  Bakery Prod/Dough/Mix/Icing                      2.0        Year(s)   \n",
       "1  Bakery Prod/Dough/Mix/Icing                      2.0        Year(s)   \n",
       "2               Ice Cream Prod                      NaN  Not Available   \n",
       "3               Baby Food Prod                      3.0       Month(s)   \n",
       "4               Baby Food Prod                      NaN  Not Available   \n",
       "\n",
       "       CI_Gender                               AEC_One Row Outcomes  \\\n",
       "0         Female  VISITED AN ER, VISITED A HEALTH CARE PROVIDER,...   \n",
       "1         Female  VISITED AN ER, VISITED A HEALTH CARE PROVIDER,...   \n",
       "2         Female                                      VISITED AN ER   \n",
       "3  Not Available                      NON-SERIOUS INJURIES/ ILLNESS   \n",
       "4  Not Available                     VISITED A HEALTH CARE PROVIDER   \n",
       "\n",
       "                          SYM_One Row Coded Symptoms  \n",
       "0  SWELLING FACE, RASH, WHEEZING, COUGH, HOSPITAL...  \n",
       "1  SWELLING FACE, WHEEZING, COUGH, RASH, HOSPITAL...  \n",
       "2                       NAUSEA, DYSGEUSIA, DIARRHOEA  \n",
       "3                GASTROINTESTINAL DISORDER, VOMITING  \n",
       "4    GASTROINTESTINAL DISORDER, PHYSICAL EXAMINATION  "
      ]
     },
     "execution_count": 4,
     "metadata": {},
     "output_type": "execute_result"
    }
   ],
   "source": [
    "#Exploring the data\n",
    "adfood_eff.head()"
   ]
  },
  {
   "cell_type": "code",
   "execution_count": 5,
   "metadata": {},
   "outputs": [],
   "source": [
    "#Removing unwanted columns which are not useful for my prediction\n",
    "adfood_eff= adfood_eff.drop(['PRI_Reported Brand/Product Name', 'RA_CAERS Created Date', 'AEC_Event Start Date', 'PRI_Product Role', 'PRI_FDA Industry Code'], axis=1)"
   ]
  },
  {
   "cell_type": "code",
   "execution_count": 6,
   "metadata": {},
   "outputs": [],
   "source": [
    "#Renaming the columns\n",
    "adfood_eff.columns= ['Report Number', 'Industry Name', 'Age', 'Age Unit', 'Gender', 'Outcomes', 'Symptoms']"
   ]
  },
  {
   "cell_type": "code",
   "execution_count": 7,
   "metadata": {},
   "outputs": [],
   "source": [
    "#Extracting the serious and non-serious outcomes\n",
    "adfood_eff['outcome']=((adfood_eff['Outcomes'].str.contains(\"(?:\\s|^)HOSPITALIZATION(?:\\s|$)\"))|\n",
    "                   (adfood_eff['Outcomes'].str.contains(\"(?:\\s|^)OTHER SERIOUS \\(IMPORTANT MEDICAL EVENTS\\)(?:\\s|$)\"))|\n",
    "                   (adfood_eff['Outcomes'].str.contains(\"(?:\\s|^)LIFE THREATENING(?:\\s|$)\"))|\n",
    "                   (adfood_eff['Outcomes'].str.contains(\"(?:\\s|^)SERIOUS INJURIES\\/ ILLNESS(?:\\s|$)\"))|\n",
    "                   (adfood_eff['Outcomes'].str.contains(\"(?:\\s|^)DISABILITY(?:\\s|$)\"))|\n",
    "                   (adfood_eff['Outcomes'].str.contains(\"(?:\\s|^)DEATH(?:\\s|$)\"))|\n",
    "                   (adfood_eff['Outcomes'].str.contains(\"(?:\\s|^)CONGENITAL ANOMALY(?:\\s|$)\")))"
   ]
  },
  {
   "cell_type": "code",
   "execution_count": 8,
   "metadata": {},
   "outputs": [],
   "source": [
    "#Converting the outcomes into binary values..\n",
    "adfood_eff['Serious']= [1 if o==True else 0 for o in adfood_eff['outcome']]"
   ]
  },
  {
   "cell_type": "code",
   "execution_count": 9,
   "metadata": {},
   "outputs": [],
   "source": [
    "#Dropping the unnecessary columns\n",
    "adfood_eff= adfood_eff.drop(['outcome'], axis=1)"
   ]
  },
  {
   "cell_type": "code",
   "execution_count": 10,
   "metadata": {},
   "outputs": [],
   "source": [
    "#Drop NaN values for Sumptoms\n",
    "adfood_eff=adfood_eff.dropna(subset=['Symptoms'])"
   ]
  },
  {
   "cell_type": "code",
   "execution_count": 11,
   "metadata": {},
   "outputs": [
    {
     "data": {
      "text/plain": [
       "array(['Year(s)', 'Not Available', 'Month(s)', 'Week(s)', 'Day(s)',\n",
       "       'Decade(s)'], dtype=object)"
      ]
     },
     "execution_count": 11,
     "metadata": {},
     "output_type": "execute_result"
    }
   ],
   "source": [
    "#Age units\n",
    "adfood_eff['Age Unit'].unique()"
   ]
  },
  {
   "cell_type": "code",
   "execution_count": 12,
   "metadata": {},
   "outputs": [],
   "source": [
    "#Converting all age into years\n",
    "adfood_eff.loc[adfood_eff['Age Unit']=='Month(s)', 'Age']=  adfood_eff['Age']/10\n",
    "adfood_eff.loc[adfood_eff['Age Unit']=='Week(s)', 'Age']=  adfood_eff['Age']/52.1429\n",
    "adfood_eff.loc[adfood_eff['Age Unit']=='Day(s)', 'Age']=  adfood_eff['Age']/365\n",
    "adfood_eff.loc[adfood_eff['Age Unit']=='Decade(s)', 'Age']=  adfood_eff['Age']*10 \n",
    "adfood_eff['Age Unit']= 'Year(s)'"
   ]
  },
  {
   "cell_type": "code",
   "execution_count": 13,
   "metadata": {},
   "outputs": [],
   "source": [
    "#Dropping the ages greater than 110 years\n",
    "adfood_eff= adfood_eff.drop(adfood_eff[adfood_eff['Age']>110].index)"
   ]
  },
  {
   "cell_type": "code",
   "execution_count": 14,
   "metadata": {},
   "outputs": [
    {
     "data": {
      "text/plain": [
       "OVARIAN CANCER                                                                                                                                                                                                                                                          4571\n",
       "CHOKING                                                                                                                                                                                                                                                                 1797\n",
       "DIARRHOEA                                                                                                                                                                                                                                                               1345\n",
       "VOMITING                                                                                                                                                                                                                                                                1005\n",
       "ALOPECIA                                                                                                                                                                                                                                                                 975\n",
       "NAUSEA                                                                                                                                                                                                                                                                   753\n",
       "MALAISE                                                                                                                                                                                                                                                                  660\n",
       "DYSGEUSIA                                                                                                                                                                                                                                                                657\n",
       "DIARRHOEA, VOMITING                                                                                                                                                                                                                                                      546\n",
       "DYSPHAGIA, CHOKING                                                                                                                                                                                                                                                       488\n",
       "HYPERSENSITIVITY                                                                                                                                                                                                                                                         411\n",
       "ALOPECIA, ALOPECIA                                                                                                                                                                                                                                                       387\n",
       "ABDOMINAL PAIN, DIARRHOEA                                                                                                                                                                                                                                                363\n",
       "BURNING SENSATION                                                                                                                                                                                                                                                        349\n",
       "COELIAC DISEASE                                                                                                                                                                                                                                                          326\n",
       "ABDOMINAL PAIN                                                                                                                                                                                                                                                           320\n",
       "RASH                                                                                                                                                                                                                                                                     265\n",
       "CONVULSION                                                                                                                                                                                                                                                               258\n",
       "HEADACHE                                                                                                                                                                                                                                                                 258\n",
       "VOMITING, DIARRHOEA                                                                                                                                                                                                                                                      255\n",
       "CHOKING, DYSPHAGIA                                                                                                                                                                                                                                                       253\n",
       "TOOTH INJURY                                                                                                                                                                                                                                                             248\n",
       "DIARRHOEA, ABDOMINAL PAIN                                                                                                                                                                                                                                                244\n",
       "BLOOD PRESSURE INCREASED                                                                                                                                                                                                                                                 243\n",
       "ABDOMINAL PAIN UPPER                                                                                                                                                                                                                                                     222\n",
       "LACERATION                                                                                                                                                                                                                                                               216\n",
       "DEATH                                                                                                                                                                                                                                                                    211\n",
       "NAUSEA, VOMITING                                                                                                                                                                                                                                                         201\n",
       "DIARRHOEA, NAUSEA                                                                                                                                                                                                                                                        193\n",
       "VOMITING, DIARRHOEA, NAUSEA                                                                                                                                                                                                                                              191\n",
       "                                                                                                                                                                                                                                                                        ... \n",
       "HEADACHE, DIZZINESS, EYE PAIN, BLOOD GLUCOSE INCREASED, HYPOAESTHESIA                                                                                                                                                                                                      1\n",
       "TREMOR, TREMOR                                                                                                                                                                                                                                                             1\n",
       "VOMITING, DIARRHOEA, MALAISE, ABDOMINAL DISTENSION, ABDOMINAL PAIN, INTESTINAL OBSTRUCTION                                                                                                                                                                                 1\n",
       "ABDOMINAL DISCOMFORT, VOMITING, NAUSEA, ABDOMINAL PAIN UPPER                                                                                                                                                                                                               1\n",
       "HEADACHE, VOMITING, CONVULSION, DIZZINESS, DYSPNOEA                                                                                                                                                                                                                        1\n",
       "NAUSEA, DYSPNOEA, DIARRHOEA, VOMITING, SWELLING FACE, ABDOMINAL DISCOMFORT                                                                                                                                                                                                 1\n",
       "HEADACHE, LIVER DISORDER, BLOOD GLUCOSE INCREASED                                                                                                                                                                                                                          1\n",
       "CHROMATURIA, HAEMATURIA                                                                                                                                                                                                                                                    1\n",
       "DIABETIC COMA                                                                                                                                                                                                                                                              1\n",
       "METHAEMOGLOBINAEMIA, HAEMORRHAGE                                                                                                                                                                                                                                           1\n",
       "NECROSIS, ULTRASOUND SCAN ABNORMAL, MENINGITIS CRONOBACTER                                                                                                                                                                                                                 1\n",
       "VISUAL FIELD DEFECT, AGE-RELATED MACULAR DEGENERATION, VISUAL IMPAIRMENT                                                                                                                                                                                                   1\n",
       "ABDOMINAL RIGIDITY, PAIN, HEPATIC ENZYME INCREASED                                                                                                                                                                                                                         1\n",
       "CARTILAGE INJURY, INFLAMMATION, MUSCULOSKELETAL PAIN, ARTHRALGIA, OSTEOARTHRITIS, JOINT SWELLING, MENISCUS INJURY, RHEUMATOID ARTHRITIS, CONDITION AGGRAVATED                                                                                                              1\n",
       "OEDEMA PERIPHERAL, ABDOMINAL DISTENSION, WEIGHT INCREASED                                                                                                                                                                                                                  1\n",
       "DYSPNOEA, FOREIGN BODY TRAUMA, SWELLING                                                                                                                                                                                                                                    1\n",
       "LETHARGY, MALAISE, ACTIVITIES OF DAILY LIVING IMPAIRED                                                                                                                                                                                                                     1\n",
       "URTICARIA, BLISTER, SKIN LESION, CAUSTIC INJURY                                                                                                                                                                                                                            1\n",
       "NAUSEA, ABDOMINAL PAIN UPPER, CHEMICAL POISONING                                                                                                                                                                                                                           1\n",
       "HEADACHE, VOMITING, NAUSEA, DIARRHOEA, ABDOMINAL PAIN, FEELING OF BODY TEMPERATURE CHANGE                                                                                                                                                                                  1\n",
       "LACRIMATION INCREASED, FEELING ABNORMAL, CHOKING                                                                                                                                                                                                                           1\n",
       "PHARYNGITIS, RESPIRATORY DISORDER, DYSPHAGIA, HYPERSENSITIVITY, PRURITUS, THROAT IRRITATION                                                                                                                                                                                1\n",
       "NAUSEA, VOMITING, CONSTIPATION, ABDOMINAL PAIN, GASTRITIS, DEHYDRATION, ABDOMINAL PAIN LOWER                                                                                                                                                                               1\n",
       "TENDERNESS, VOMITING, DYSPEPSIA, EAR DISCOMFORT, DECREASED APPETITE, DYSPEPSIA, GASTROOESOPHAGEAL REFLUX DISEASE, NAUSEA, HEADACHE, MUSCULOSKELETAL STIFFNESS, ABORTION SPONTANEOUS, MALAISE, EMOTIONAL DISTRESS, HEAD DISCOMFORT, FLUID RETENTION, FEELING ABNORMAL       1\n",
       "PYREXIA, VOMITING, INSOMNIA, CHILLS, DIARRHOEA                                                                                                                                                                                                                             1\n",
       "DIZZINESS, NAUSEA, DYSPEPSIA, HYPERHIDROSIS                                                                                                                                                                                                                                1\n",
       "BODY TEMPERATURE INCREASED, IRON OVERLOAD                                                                                                                                                                                                                                  1\n",
       "LETHARGY, MENSTRUAL DISORDER, ABDOMINAL PAIN, FLATULENCE, BREAST MASS                                                                                                                                                                                                      1\n",
       "DYSURIA, MUSCLE SPASMS, BLADDER CATHETERISATION                                                                                                                                                                                                                            1\n",
       "LOCAL SWELLING, SWOLLEN TONGUE, OROPHARYNGEAL SWELLING, ABDOMINAL DISCOMFORT, SOMNOLENCE                                                                                                                                                                                   1\n",
       "Name: Symptoms, Length: 33545, dtype: int64"
      ]
     },
     "execution_count": 14,
     "metadata": {},
     "output_type": "execute_result"
    }
   ],
   "source": [
    "#Symptoms value counts\n",
    "adfood_eff['Symptoms'].value_counts()"
   ]
  },
  {
   "cell_type": "code",
   "execution_count": 15,
   "metadata": {},
   "outputs": [],
   "source": [
    "#Creating dummy variables\n",
    "adfood_eff['ABDOMINAL SYMPTOMS']=((adfood_eff['Symptoms'].str.contains(\"(?:\\s|^)*DIARRHOEA,*(?:\\s|$)\"))|\n",
    "                                                       (adfood_eff['Symptoms'].str.contains(\"(?:\\s|^)*VOMITING,*(?:\\s|$)\"))|\n",
    "                                                       (adfood_eff['Symptoms'].str.contains(\"(?:\\s|^)*ABDOMINAL,*(?:\\s|$)\"))|\n",
    "                                                       (adfood_eff['Symptoms'].str.contains(\"(?:\\s|^)*PAIN,*(?:\\s|$)\"))|\n",
    "                                                       (adfood_eff['Symptoms'].str.contains(\"(?:\\s|^)*DYSGEUSIA,*(?:\\s|$)\"))|\n",
    "                                                       (adfood_eff['Symptoms'].str.contains(\"(?:\\s|^)*RASH,*(?:\\s|$)\"))|\n",
    "                                                       (adfood_eff['Symptoms'].str.contains(\"(?:\\s|^)*NAUSEA,*(?:\\s|$)\"))|\n",
    "                                                       (adfood_eff['Symptoms'].str.contains(\"(?:\\s|^)*GASTROINTESTINAL,*(?:\\s|$)\"))|\n",
    "                                                       (adfood_eff['Symptoms'].str.contains(\"(?:\\s|^)*GASTRIC,*(?:\\s|$)\"))|\n",
    "                                                       (adfood_eff['Symptoms'].str.contains(\"(?:\\s|^)*MALAISE,*(?:\\s|$)\"))|\n",
    "                                 (adfood_eff['Symptoms'].str.contains(\"(?:\\s|^)*LOOSE STOOLS,*(?:\\s|$)\"))|\n",
    "                                 (adfood_eff['Symptoms'].str.contains(\"(?:\\s|^)*BURNING SENSATION,*(?:\\s|$)\"))|\n",
    "                                 (adfood_eff['Symptoms'].str.contains(\"(?:\\s|^)*FAECES,*(?:\\s|$)\"))|\n",
    "                                 (adfood_eff['Symptoms'].str.contains(\"(?:\\s|^)*GASTROOESOPHAGEAL,*(?:\\s|$)\"))|\n",
    "                                 (adfood_eff['Symptoms'].str.contains(\"(?:\\s|^)*GASTROENTERITIS,*(?:\\s|$)\"))|\n",
    "                                 (adfood_eff['Symptoms'].str.contains(\"(?:\\s|^)*POTASSIUM,*(?:\\s|$)\"))|\n",
    "                                 (adfood_eff['Symptoms'].str.contains(\"(?:\\s|^)*STOMACH,*(?:\\s|$)\"))|\n",
    "                                 (adfood_eff['Symptoms'].str.contains(\"(?:\\s|^)*GASTRITIS,*(?:\\s|$)\")))\n",
    "\n",
    "adfood_eff['CHEST/HEART RELATED SYMPTOMS']=((adfood_eff['Symptoms'].str.contains(\"(?:\\s|^)*CHOKING,*(?:\\s|$)\"))|\n",
    "                                                       (adfood_eff['Symptoms'].str.contains(\"(?:\\s|^)*BLOOD BILIRUBIN,*(?:\\s|$)\"))|\n",
    "                                                       (adfood_eff['Symptoms'].str.contains(\"(?:\\s|^)*BLOOD PRESSURE,*(?:\\s|$)\"))|\n",
    "                                                       (adfood_eff['Symptoms'].str.contains(\"(?:\\s|^)*CHEST,*(?:\\s|$)\"))|\n",
    "                                                       (adfood_eff['Symptoms'].str.contains(\"(?:\\s|^)*DYSPNEA,*(?:\\s|$)\"))|\n",
    "                                                       (adfood_eff['Symptoms'].str.contains(\"(?:\\s|^)*LOSS OF CONSCIOUSNESS,*(?:\\s|$)\"))|\n",
    "                                  (adfood_eff['Symptoms'].str.contains(\"(?:\\s|^)*HEART RATE,*(?:\\s|$)\"))|\n",
    "                                  (adfood_eff['Symptoms'].str.contains(\"(?:\\s|^)*PHARYNGEAL OEDEMA,*(?:\\s|$)\"))|\n",
    "                                  (adfood_eff['Symptoms'].str.contains(\"(?:\\s|^)*HYPERTENSION,*(?:\\s|$)\"))|\n",
    "                                  (adfood_eff['Symptoms'].str.contains(\"(?:\\s|^)*SYNCOPE,*(?:\\s|$)\"))|\n",
    "                                   (adfood_eff['Symptoms'].str.contains(\"(?:\\s|^)*MYOCARDIAL INFARCTION,*(?:\\s|$)\"))|\n",
    "                                (adfood_eff['Symptoms'].str.contains(\"(?:\\s|^)*FALL,*(?:\\s|$)\"))|\n",
    "                                    (adfood_eff['Symptoms'].str.contains(\"(?:\\s|^)*DYSPHAGIA,*(?:\\s|$)\"))|\n",
    "                                    (adfood_eff['Symptoms'].str.contains(\"(?:\\s|^)*ATRIAL,*(?:\\s|$)\"))|\n",
    "                                    (adfood_eff['Symptoms'].str.contains(\"(?:\\s|^)*HYPOTENSION,*(?:\\s|$)\"))|\n",
    "                                    (adfood_eff['Symptoms'].str.contains(\"(?:\\s|^)*TACHYCARDIA,*(?:\\s|$)\"))|\n",
    "                                    (adfood_eff['Symptoms'].str.contains(\"(?:\\s|^)*PNEUMONIA,*(?:\\s|$)\"))|\n",
    "                                    (adfood_eff['Symptoms'].str.contains(\"(?:\\s|^)*ARRHYTHMIA,*(?:\\s|$)\"))|\n",
    "                                    (adfood_eff['Symptoms'].str.contains(\"(?:\\s|^)*CARDIAC,*(?:\\s|$)\")))\n",
    "                                  \n",
    "\n",
    "adfood_eff['COUGH/HEADACHE/DIZZINESS/NAUSEA']=((adfood_eff['Symptoms'].str.contains(\"(?:\\s|^)*COUGH,*(?:\\s|$)\"))|\n",
    "                                                       (adfood_eff['Symptoms'].str.contains(\"(?:\\s|^)*VOMITING,*(?:\\s|$)\"))|\n",
    "                                                       (adfood_eff['Symptoms'].str.contains(\"(?:\\s|^)*DIZZINESS,*(?:\\s|$)\"))|\n",
    "                                                       (adfood_eff['Symptoms'].str.contains(\"(?:\\s|^)*HEADACHE,*(?:\\s|$)\"))|                                                   \n",
    "                                                       (adfood_eff['Symptoms'].str.contains(\"(?:\\s|^)*NAUSEA,*(?:\\s|$)\"))|\n",
    "                                              (adfood_eff['Symptoms'].str.contains(\"(?:\\s|^)*WHEEZING,*(?:\\s|$)\"))|\n",
    "                                              (adfood_eff['Symptoms'].str.contains(\"(?:\\s|^)*FATIGUE,*(?:\\s|$)\"))|\n",
    "                                              (adfood_eff['Symptoms'].str.contains(\"(?:\\s|^)*RETCHING,*(?:\\s|$)\"))|\n",
    "                                              (adfood_eff['Symptoms'].str.contains(\"(?:\\s|^)*LETHARGY,*(?:\\s|$)\"))|\n",
    "                                              (adfood_eff['Symptoms'].str.contains(\"(?:\\s|^)*MAGRAINE,*(?:\\s|$)\")))\n",
    "\n",
    "adfood_eff['CANCER']=(adfood_eff['Symptoms'].str.contains(\"(?:\\s|^)*CANCER,*(?:\\s|$)\"))\n",
    "\n",
    "adfood_eff['IMMUNE SYMPTOMS']=((adfood_eff['Symptoms'].str.contains(\"(?:\\s|^)*COELIAC DISEASE,*(?:\\s|$)\"))|\n",
    "                               (adfood_eff['Symptoms'].str.contains(\"(?:\\s|^)*HYPERSENSITIVITY,*(?:\\s|$)\"))|\n",
    "                              (adfood_eff['Symptoms'].str.contains(\"(?:\\s|^)*TENDERNESS,*(?:\\s|$)\")))\n",
    "\n",
    "adfood_eff['HAIR LOSS SYMPTOMS']=((adfood_eff['Symptoms'].str.contains(\"(?:\\s|^)*ALOPECIA,*(?:\\s|$)\"))|\n",
    "                                  (adfood_eff['Symptoms'].str.contains(\"(?:\\s|^)*HAIR,*(?:\\s|$)\"))|\n",
    "                                 (adfood_eff['Symptoms'].str.contains(\"(?:\\s|^)*TRICHORRHEXIS,*(?:\\s|$)\"))|\n",
    "                                 (adfood_eff['Symptoms'].str.contains(\"(?:\\s|^)*HYPOTRICHOSIS,*(?:\\s|$)\")))\n",
    "\n",
    "adfood_eff['SKIN/BODY ALLERGIES']=((adfood_eff['Symptoms'].str.contains(\"(?:\\s|^)*RASH,*(?:\\s|$)\"))|\n",
    "                                   (adfood_eff['Symptoms'].str.contains(\"(?:\\s|^)*URTICARIA,*(?:\\s|$)\"))|\n",
    "                                   (adfood_eff['Symptoms'].str.contains(\"(?:\\s|^)*PRURITUS,*(?:\\s|$)\"))|\n",
    "                                   (adfood_eff['Symptoms'].str.contains(\"(?:\\s|^)*SWELLING,*(?:\\s|$)\"))|\n",
    "                                 (adfood_eff['Symptoms'].str.contains(\"(?:\\s|^)*ERYTHEMA,*(?:\\s|$)\"))|\n",
    "                                  (adfood_eff['Symptoms'].str.contains(\"(?:\\s|^)*BODY TEMPERATURE,*(?:\\s|$)\"))|\n",
    "                                  (adfood_eff['Symptoms'].str.contains(\"(?:\\s|^)*BLISTER,*(?:\\s|$)\"))|\n",
    "                                  (adfood_eff['Symptoms'].str.contains(\"(?:\\s|^)*FLUSHING,*(?:\\s|$)\"))|\n",
    "                                  (adfood_eff['Symptoms'].str.contains(\"(?:\\s|^)*SKIN,*(?:\\s|$)\"))|\n",
    "                                  (adfood_eff['Symptoms'].str.contains(\"(?:\\s|^)*HOT,*(?:\\s|$)\"))|\n",
    "                                  (adfood_eff['Symptoms'].str.contains(\"(?:\\s|^)*SWOLLEN,*(?:\\s|$)\"))|\n",
    "                                  (adfood_eff['Symptoms'].str.contains(\"(?:\\s|^)*OEDEMA PERIPHERAL,*(?:\\s|$)\"))|\n",
    "                                  (adfood_eff['Symptoms'].str.contains(\"(?:\\s|^)*INFECTION,*(?:\\s|$)\"))|\n",
    "                                  (adfood_eff['Symptoms'].str.contains(\"(?:\\s|^)*INFLAMMATION,*(?:\\s|$)\"))|\n",
    "                                  (adfood_eff['Symptoms'].str.contains(\"(?:\\s|^)*ALLERGY,*(?:\\s|$)\"))|\n",
    "                                  (adfood_eff['Symptoms'].str.contains(\"(?:\\s|^)*HYPERAEMIA,*(?:\\s|$)\")))    \n",
    "\n",
    "adfood_eff['ASTHENIA']=(adfood_eff['Symptoms'].str.contains(\"(?:\\s|^)*ASTHENIA,*(?:\\s|$)\"))\n",
    "adfood_eff['FOREIGN BODY TRAUMA']=(adfood_eff['Symptoms'].str.contains(\"(?:\\s|^)*FOREIGN BODY,*(?:\\s|$)\"))\n",
    "adfood_eff['DEHYDRATION']=(adfood_eff['Symptoms'].str.contains(\"(?:\\s|^)*DEHYDRATION,*(?:\\s|$)\"))\n",
    "adfood_eff['DYSPEPSIA']=(adfood_eff['Symptoms'].str.contains(\"(?:\\s|^)*DYSPEPSIA,*(?:\\s|$)\"))\n",
    "adfood_eff['PARAESTHESIA']=(adfood_eff['Symptoms'].str.contains(\"(?:\\s|^)*PARAESTHESIA,*(?:\\s|$)\"))\n",
    "adfood_eff['PALPITATIONS']=(adfood_eff['Symptoms'].str.contains(\"(?:\\s|^)*PALPITATIONS,*(?:\\s|$)\"))\n",
    "adfood_eff['HYPERHIDROSIS']=(adfood_eff['Symptoms'].str.contains(\"(?:\\s|^)*HYPERHIDROSIS,*(?:\\s|$)\"))\n",
    "adfood_eff['CONSTIPATION']=(adfood_eff['Symptoms'].str.contains(\"(?:\\s|^)*CONSTIPATION,*(?:\\s|$)\"))\n",
    "adfood_eff['THROAT SYMPTOMS']=((adfood_eff['Symptoms'].str.contains(\"(?:\\s|^)*THROAT,*(?:\\s|$)\"))|\n",
    "                            (adfood_eff['Symptoms'].str.contains(\"(?:\\s|^)*PHARYNGITIS,*(?:\\s|$)\"))|\n",
    "                            (adfood_eff['Symptoms'].str.contains(\"(?:\\s|^)*DYSPHONIA,*(?:\\s|$)\"))|\n",
    "                              (adfood_eff['Symptoms'].str.contains(\"(?:\\s|^)*SPEECH,*(?:\\s|$)\"))|\n",
    "                              (adfood_eff['Symptoms'].str.contains(\"(?:\\s|^)*ORAL,*(?:\\s|$)\")))\n",
    "    \n",
    "adfood_eff['FLATULENCE']=(adfood_eff['Symptoms'].str.contains(\"(?:\\s|^)*FLATULENCE,*(?:\\s|$)\"))\n",
    "adfood_eff['CHILLS']=(adfood_eff['Symptoms'].str.contains(\"(?:\\s|^)*CHILLS,*(?:\\s|$)\"))\n",
    "\n",
    "adfood_eff['INSOMNIA']=((adfood_eff['Symptoms'].str.contains(\"(?:\\s|^)*INSOMNIA,*(?:\\s|$)\"))|\n",
    "                        (adfood_eff['Symptoms'].str.contains(\"(?:\\s|^)*SOMNOLENCE,*(?:\\s|$)\")))\n",
    "\n",
    "adfood_eff['TREMOR']=(adfood_eff['Symptoms'].str.contains(\"(?:\\s|^)*TREMOR,*(?:\\s|$)\"))\n",
    "adfood_eff['HYPOAESTHESIA']=(adfood_eff['Symptoms'].str.contains(\"(?:\\s|^)*HYPOAESTHESIA,*(?:\\s|$)\"))\n",
    "adfood_eff['CONVULSION']=(adfood_eff['Symptoms'].str.contains(\"(?:\\s|^)*CONVULSION,*(?:\\s|$)\"))\n",
    "adfood_eff['JAUNDICE']=(adfood_eff['Symptoms'].str.contains(\"(?:\\s|^)*JAUNDICE,*(?:\\s|$)\"))\n",
    "adfood_eff['WEIGHT ALLERGIES']=(adfood_eff['Symptoms'].str.contains(\"(?:\\s|^)*WEIGHT,*(?:\\s|$)\"))\n",
    "adfood_eff['HAEMATOCHEZIA']=(adfood_eff['Symptoms'].str.contains(\"(?:\\s|^)*HAEMATOCHEZIA,*(?:\\s|$)\"))\n",
    "adfood_eff['PYREXIA']=(adfood_eff['Symptoms'].str.contains(\"(?:\\s|^)*PYREXIA,*(?:\\s|$)\"))\n",
    "adfood_eff['APPETITE SYMPTOMS']=(adfood_eff['Symptoms'].str.contains(\"(?:\\s|^)*APPETITE,*(?:\\s|$)\"))\n",
    "adfood_eff['AMINOTRANSFERASE']=(adfood_eff['Symptoms'].str.contains(\"(?:\\s|^)*AMINOTRANSFERASE,*(?:\\s|$)\"))\n",
    "adfood_eff['ABNORMAL']=((adfood_eff['Symptoms'].str.contains(\"(?:\\s|^)*ABNORMAL,*(?:\\s|$)\"))|\n",
    "                        (adfood_eff['Symptoms'].str.contains(\"(?:\\s|^)*FEAR,*(?:\\s|$)\"))|\n",
    "                        (adfood_eff['Symptoms'].str.contains(\"(?:\\s|^)*PANIC,*(?:\\s|$)\"))|\n",
    "                       (adfood_eff['Symptoms'].str.contains(\"(?:\\s|^)*IRRITABILITY,*(?:\\s|$)\"))|\n",
    "                       (adfood_eff['Symptoms'].str.contains(\"(?:\\s|^)*COLD SWEAT,*(?:\\s|$)\")))\n",
    "                        "
   ]
  },
  {
   "cell_type": "code",
   "execution_count": 16,
   "metadata": {},
   "outputs": [],
   "source": [
    "#Creating dummy variables\n",
    "adfood_eff['HEPATIC ENZYME']=(adfood_eff['Symptoms'].str.contains(\"(?:\\s|^)*HEPATIC ENZYME,*(?:\\s|$)\"))\n",
    "\n",
    "adfood_eff['HAEMORRHAGE']=((adfood_eff['Symptoms'].str.contains(\"(?:\\s|^)*HAEMORRHAGE,*(?:\\s|$)\"))|\n",
    "                           (adfood_eff['Symptoms'].str.contains(\"(?:\\s|^)*EPISTAXIS,*(?:\\s|$)\")))\n",
    "\n",
    "adfood_eff['CEREBROVASCULAR SYSTOMS']=(adfood_eff['Symptoms'].str.contains(\"(?:\\s|^)*CEREBROVASCULAR,*(?:\\s|$)\"))\n",
    "adfood_eff['BACK BONES/MUSCLES']=((adfood_eff['Symptoms'].str.contains(\"(?:\\s|^)*BACK,*(?:\\s|$)\"))|\n",
    "                                  (adfood_eff['Symptoms'].str.contains(\"(?:\\s|^)*MYALGIA,*(?:\\s|$)\"))|\n",
    "                                 (adfood_eff['Symptoms'].str.contains(\"(?:\\s|^)*ARTHRALGIA,*(?:\\s|$)\"))|\n",
    "                                 (adfood_eff['Symptoms'].str.contains(\"(?:\\s|^)*MUSCULAR,*(?:\\s|$)\")))\n",
    "\n",
    "adfood_eff['FOOD POISONING']=(adfood_eff['Symptoms'].str.contains(\"(?:\\s|^)*FOOD POISONING,*(?:\\s|$)\"))\n",
    "adfood_eff['VISION/EYE']=((adfood_eff['Symptoms'].str.contains(\"(?:\\s|^)*VISION,*(?:\\s|$)\"))|\n",
    "                         (adfood_eff['Symptoms'].str.contains(\"(?:\\s|^)*EYE,*(?:\\s|$)\"))|\n",
    "                         (adfood_eff['Symptoms'].str.contains(\"(?:\\s|^)*VISUAL,*(?:\\s|$)\")))\n",
    "\n",
    "adfood_eff['DEATH']=((adfood_eff['Symptoms'].str.contains(\"(?:\\s|^)*DEATH,*(?:\\s|$)\"))|\n",
    "                     (adfood_eff['Symptoms'].str.contains(\"(?:\\s|^)*AGGRAVATED,*(?:\\s|$)\")))\n",
    "\n",
    "adfood_eff['URINARY INFECTIONS']=((adfood_eff['Symptoms'].str.contains(\"(?:\\s|^)*CHROMATURIA,*(?:\\s|$)\"))|\n",
    "                                 (adfood_eff['Symptoms'].str.contains(\"(?:\\s|^)*URINE,*(?:\\s|$)\"))|\n",
    "                                 (adfood_eff['Symptoms'].str.contains(\"(?:\\s|^)*URINARY,*(?:\\s|$)\")))\n",
    "    \n",
    "adfood_eff['CONFUSIONAL STATE']=(adfood_eff['Symptoms'].str.contains(\"(?:\\s|^)*CONFUSIONAL,*(?:\\s|$)\"))\n",
    "adfood_eff['DIABETES']=(adfood_eff['Symptoms'].str.contains(\"(?:\\s|^)*BLOOD GLUCOSE,*(?:\\s|$)\"))\n",
    "adfood_eff['HOSPITALISATION']=(adfood_eff['Symptoms'].str.contains(\"(?:\\s|^)*HOSPITALISATION,*(?:\\s|$)\"))\n",
    "adfood_eff['ANAPHYLACTIC REACTION']=(adfood_eff['Symptoms'].str.contains(\"(?:\\s|^)*ANAPHYLACTIC,*(?:\\s|$)\"))  \n",
    "\n",
    "\n",
    "\n",
    "adfood_eff['BLOOD RELATED SYSTOMS']=(adfood_eff['Symptoms'].str.contains(\"(?:\\s|^)*BLOOD,*(?:\\s|$)\"))\n",
    "adfood_eff['EMOTIONAL SYMPTOMS']=((adfood_eff['Symptoms'].str.contains(\"(?:\\s|^)*EMOTIONAL,*(?:\\s|$)\"))|\n",
    "                                  (adfood_eff['Symptoms'].str.contains(\"(?:\\s|^)*DEPRESSION,*(?:\\s|$)\")))\n",
    "                                 \n",
    "\n",
    "adfood_eff['INFLUENZA LIKE ILLNESS']=(adfood_eff['Symptoms'].str.contains(\"(?:\\s|^)*INFLUENZA,*(?:\\s|$)\"))\n",
    "adfood_eff['NERVOUSNESS']=(adfood_eff['Symptoms'].str.contains(\"(?:\\s|^)*NERVOUSNESS,*(?:\\s|$)\"))\n",
    "adfood_eff['GAIT DISTURBANCE']=(adfood_eff['Symptoms'].str.contains(\"(?:\\s|^)*GAIT,*(?:\\s|$)\"))\n",
    "\n",
    "adfood_eff['LIVER INFECTIONS']=((adfood_eff['Symptoms'].str.contains(\"(?:\\s|^)*LIVER,*(?:\\s|$)\"))|\n",
    "                                (adfood_eff['Symptoms'].str.contains(\"(?:\\s|^)*HEPATITIS,*(?:\\s|$)\")))\n",
    "                                \n",
    "adfood_eff['DISCOMFORT']=((adfood_eff['Symptoms'].str.contains(\"(?:\\s|^)*DISCOMFORT,*(?:\\s|$)\"))|\n",
    "                          (adfood_eff['Symptoms'].str.contains(\"(?:\\s|^)*BALANCE,*(?:\\s|$)\")))\n",
    "\n",
    "adfood_eff['KIDNEY SYMPTOMS']=((adfood_eff['Symptoms'].str.contains(\"(?:\\s|^)*RENAL,*(?:\\s|$)\"))|\n",
    "                               (adfood_eff['Symptoms'].str.contains(\"(?:\\s|^)*NEPHROLITHIASIS,*(?:\\s|$)\"))|\n",
    "                              (adfood_eff['Symptoms'].str.contains(\"(?:\\s|^)*KIDNEY,*(?:\\s|$)\"))|\n",
    "                              (adfood_eff['Symptoms'].str.contains(\"(?:\\s|^)*RHABDOMYOLYSIS,*(?:\\s|$)\")))\n",
    "\n",
    "adfood_eff['DENTAL SYMPTOMS']=(adfood_eff['Symptoms'].str.contains(\"(?:\\s|^)*TOOTH,*(?:\\s|$)\"))\n",
    "adfood_eff['SKIN/BODY INJURY']=((adfood_eff['Symptoms'].str.contains(\"(?:\\s|^)*LACERATION,*(?:\\s|$)\"))|\n",
    "                                (adfood_eff['Symptoms'].str.contains(\"(?:\\s|^)*INJURY,*(?:\\s|$)\")))\n",
    "\n",
    "adfood_eff['BREATHING PROBLEMS']=((adfood_eff['Symptoms'].str.contains(\"(?:\\s|^)*ASTHMA,*(?:\\s|$)\"))|\n",
    "                                  (adfood_eff['Symptoms'].str.contains(\"(?:\\s|^)*BREATH,*(?:\\s|$)\"))|\n",
    "                                 (adfood_eff['Symptoms'].str.contains(\"(?:\\s|^)*WHEEZING,*(?:\\s|$)\")))\n",
    "\n",
    "\n",
    "adfood_eff['EXAMINATION']=(adfood_eff['Symptoms'].str.contains(\"(?:\\s|^)*PHYSICAL,*(?:\\s|$)\"))\n",
    "adfood_eff['MEMORY INJURY']=((adfood_eff['Symptoms'].str.contains(\"(?:\\s|^)*MEMORY,*(?:\\s|$)\"))|\n",
    "                             (adfood_eff['Symptoms'].str.contains(\"(?:\\s|^)*AMNESIA,*(?:\\s|$)\")))\n",
    "\n",
    "adfood_eff['BLOOD CLOTTING']=(adfood_eff['Symptoms'].str.contains(\"(?:\\s|^)*THROMBOSIS,*(?:\\s|$)\"))\n",
    "\n",
    "adfood_eff['DAILING LIVING']=(adfood_eff['Symptoms'].str.contains(\"(?:\\s|^)*ACTIVITIES OF DAILY LIVING,*(?:\\s|$)\"))\n",
    "adfood_eff['PANCREATITIS']=(adfood_eff['Symptoms'].str.contains(\"(?:\\s|^)*PANCREATITIS,*(?:\\s|$)\"))\n",
    "adfood_eff['SALMONELLA']=(adfood_eff['Symptoms'].str.contains(\"(?:\\s|^)*SALMONELLA,*(?:\\s|$)\"))\n",
    "adfood_eff['ABASIA']=(adfood_eff['Symptoms'].str.contains(\"(?:\\s|^)*ABASIA,*(?:\\s|$)\"))\n"
   ]
  },
  {
   "cell_type": "code",
   "execution_count": 17,
   "metadata": {},
   "outputs": [],
   "source": [
    "#List of unique symptoms\n",
    "symptoms_list= ['DIARRHOEA','VOMITING','ABDOMINAL','PAIN','DYSGEUSIA','RASH','NAUSEA','GASTROINTESTINAL','GASTRIC','MALAISE'\n",
    "                ,'LOOSE STOOLS','BURNING SENSATION','FAECES','GASTROOESOPHAGEAL','GASTROENTERITIS','POTASSIUM'\n",
    "                ,'STOMACH','GASTRITIS','CHOKING','BLOOD BILIRUBIN','BLOOD PRESSURE','CHEST','DYSPNEA','LOSS OF CONSCIOUSNESS'\n",
    "                ,'HEART RATE','PHARYNGEAL OEDEMA','HYPERTENSION','SYNCOPE','MYOCARDIAL INFARCTION','FALL','DYSPHAGIA','ATRIAL'\n",
    "                ,'HYPOTENSION','TACHYCARDIA','PNEUMONIA','ARRHYTHMIA','CARDIAC','COUGH','VOMITING','DIZZINESS','HEADACHE'\n",
    "                ,'NAUSEA','WHEEZING','FATIGUE','RETCHING','LETHARGY','MAGRAINE','CANCER','COELIAC DISEASE','HYPERSENSITIVITY'\n",
    "                ,'TENDERNESS','ALOPECIA','HAIR','TRICHORRHEXIS','HYPOTRICHOSIS','RASH','URTICARIA','PRURITUS','SWELLING'\n",
    "                ,'ERYTHEMA','BODY TEMPERATURE','BLISTER','FLUSHING','SKIN','HOT','SWOLLEN','OEDEMA PERIPHERAL','INFECTION'\n",
    "                ,'INFLAMMATION','ALLERGY','HYPERAEMIA','ASTHENIA','FOREIGN BODY','DEHYDRATION','DYSPEPSIA','PARAESTHESIA'\n",
    "                ,'PALPITATIONS','HYPERHIDROSIS','CONSTIPATION','THROAT','PHARYNGITIS','DYSPHONIA','SPEECH','ORAL','FLATULENCE'\n",
    "                ,'CHILLS','INSOMNIA','SOMNOLENCE','TREMOR','HYPOAESTHESIA','CONVULSION','JAUNDICE','WEIGHT','HAEMATOCHEZIA'\n",
    "                ,'PYREXIA','APPETITE','AMINOTRANSFERASE','ABNORMAL','FEAR','PANIC','IRRITABILITY','COLD SWEAT','HEPATIC ENZYME'\n",
    "                ,'HAEMORRHAGE','EPISTAXIS','CEREBROVASCULAR','BACK','MYALGIA','ARTHRALGIA','MUSCULAR','FOOD POISONING','VISION'\n",
    "                ,'EYE','VISUAL','DEATH','AGGRAVATED','CHROMATURIA','URINE','URINARY','CONFUSIONAL','BLOOD GLUCOSE'\n",
    "                ,'HOSPITALISATION','ANAPHYLACTIC','BLOOD','EMOTIONAL','DEPRESSION','INFLUENZA','NERVOUSNESS','GAIT','LIVER'\n",
    "                ,'HEPATITIS','DISCOMFORT','BALANCE','RENAL','NEPHROLITHIASIS','KIDNEY','RHABDOMYOLYSIS','TOOTH','LACERATION'\n",
    "                ,'INJURY','ASTHMA','BREATH','WHEEZING','PHYSICAL','MEMORY','AMNESIA','THROMBOSIS','ACTIVITIES OF DAILY LIVING'\n",
    "                ,'PANCREATITIS','SALMONELLA','ABASIA']"
   ]
  },
  {
   "cell_type": "code",
   "execution_count": 18,
   "metadata": {},
   "outputs": [],
   "source": [
    "#String checker to create dummy variables\n",
    "def stringChecker(stringList, word):\n",
    "    truth_list = [string in word for string in stringList]\n",
    "    return max(pd.Series(truth_list))\n",
    "adfood_eff['symptoms_list']= adfood_eff['Symptoms'].apply(lambda x: stringChecker(symptoms_list, x))\n",
    "adfood_eff['Other']= [False if symps==True else True for symps in adfood_eff['symptoms_list']]"
   ]
  },
  {
   "cell_type": "code",
   "execution_count": 19,
   "metadata": {},
   "outputs": [],
   "source": [
    "#Dropping the unnecessary columns\n",
    "adfood_eff= adfood_eff.drop(['symptoms_list'], axis=1)"
   ]
  },
  {
   "cell_type": "code",
   "execution_count": 20,
   "metadata": {},
   "outputs": [
    {
     "data": {
      "text/html": [
       "<div>\n",
       "<style scoped>\n",
       "    .dataframe tbody tr th:only-of-type {\n",
       "        vertical-align: middle;\n",
       "    }\n",
       "\n",
       "    .dataframe tbody tr th {\n",
       "        vertical-align: top;\n",
       "    }\n",
       "\n",
       "    .dataframe thead th {\n",
       "        text-align: right;\n",
       "    }\n",
       "</style>\n",
       "<table border=\"1\" class=\"dataframe\">\n",
       "  <thead>\n",
       "    <tr style=\"text-align: right;\">\n",
       "      <th></th>\n",
       "      <th>Report Number</th>\n",
       "      <th>Industry Name</th>\n",
       "      <th>Age</th>\n",
       "      <th>Age Unit</th>\n",
       "      <th>Gender</th>\n",
       "      <th>Outcomes</th>\n",
       "      <th>Symptoms</th>\n",
       "      <th>Serious</th>\n",
       "      <th>ABDOMINAL SYMPTOMS</th>\n",
       "      <th>CHEST/HEART RELATED SYMPTOMS</th>\n",
       "      <th>...</th>\n",
       "      <th>SKIN/BODY INJURY</th>\n",
       "      <th>BREATHING PROBLEMS</th>\n",
       "      <th>EXAMINATION</th>\n",
       "      <th>MEMORY INJURY</th>\n",
       "      <th>BLOOD CLOTTING</th>\n",
       "      <th>DAILING LIVING</th>\n",
       "      <th>PANCREATITIS</th>\n",
       "      <th>SALMONELLA</th>\n",
       "      <th>ABASIA</th>\n",
       "      <th>Other</th>\n",
       "    </tr>\n",
       "  </thead>\n",
       "  <tbody>\n",
       "    <tr>\n",
       "      <th>0</th>\n",
       "      <td>65325</td>\n",
       "      <td>Bakery Prod/Dough/Mix/Icing</td>\n",
       "      <td>2.0</td>\n",
       "      <td>Year(s)</td>\n",
       "      <td>Female</td>\n",
       "      <td>VISITED AN ER, VISITED A HEALTH CARE PROVIDER,...</td>\n",
       "      <td>SWELLING FACE, RASH, WHEEZING, COUGH, HOSPITAL...</td>\n",
       "      <td>1</td>\n",
       "      <td>True</td>\n",
       "      <td>False</td>\n",
       "      <td>...</td>\n",
       "      <td>False</td>\n",
       "      <td>True</td>\n",
       "      <td>False</td>\n",
       "      <td>False</td>\n",
       "      <td>False</td>\n",
       "      <td>False</td>\n",
       "      <td>False</td>\n",
       "      <td>False</td>\n",
       "      <td>False</td>\n",
       "      <td>False</td>\n",
       "    </tr>\n",
       "    <tr>\n",
       "      <th>1</th>\n",
       "      <td>65325</td>\n",
       "      <td>Bakery Prod/Dough/Mix/Icing</td>\n",
       "      <td>2.0</td>\n",
       "      <td>Year(s)</td>\n",
       "      <td>Female</td>\n",
       "      <td>VISITED AN ER, VISITED A HEALTH CARE PROVIDER,...</td>\n",
       "      <td>SWELLING FACE, WHEEZING, COUGH, RASH, HOSPITAL...</td>\n",
       "      <td>1</td>\n",
       "      <td>True</td>\n",
       "      <td>False</td>\n",
       "      <td>...</td>\n",
       "      <td>False</td>\n",
       "      <td>True</td>\n",
       "      <td>False</td>\n",
       "      <td>False</td>\n",
       "      <td>False</td>\n",
       "      <td>False</td>\n",
       "      <td>False</td>\n",
       "      <td>False</td>\n",
       "      <td>False</td>\n",
       "      <td>False</td>\n",
       "    </tr>\n",
       "    <tr>\n",
       "      <th>2</th>\n",
       "      <td>65333</td>\n",
       "      <td>Ice Cream Prod</td>\n",
       "      <td>NaN</td>\n",
       "      <td>Year(s)</td>\n",
       "      <td>Female</td>\n",
       "      <td>VISITED AN ER</td>\n",
       "      <td>NAUSEA, DYSGEUSIA, DIARRHOEA</td>\n",
       "      <td>0</td>\n",
       "      <td>True</td>\n",
       "      <td>False</td>\n",
       "      <td>...</td>\n",
       "      <td>False</td>\n",
       "      <td>False</td>\n",
       "      <td>False</td>\n",
       "      <td>False</td>\n",
       "      <td>False</td>\n",
       "      <td>False</td>\n",
       "      <td>False</td>\n",
       "      <td>False</td>\n",
       "      <td>False</td>\n",
       "      <td>False</td>\n",
       "    </tr>\n",
       "    <tr>\n",
       "      <th>3</th>\n",
       "      <td>65335</td>\n",
       "      <td>Baby Food Prod</td>\n",
       "      <td>0.3</td>\n",
       "      <td>Year(s)</td>\n",
       "      <td>Not Available</td>\n",
       "      <td>NON-SERIOUS INJURIES/ ILLNESS</td>\n",
       "      <td>GASTROINTESTINAL DISORDER, VOMITING</td>\n",
       "      <td>0</td>\n",
       "      <td>True</td>\n",
       "      <td>False</td>\n",
       "      <td>...</td>\n",
       "      <td>False</td>\n",
       "      <td>False</td>\n",
       "      <td>False</td>\n",
       "      <td>False</td>\n",
       "      <td>False</td>\n",
       "      <td>False</td>\n",
       "      <td>False</td>\n",
       "      <td>False</td>\n",
       "      <td>False</td>\n",
       "      <td>False</td>\n",
       "    </tr>\n",
       "    <tr>\n",
       "      <th>4</th>\n",
       "      <td>65336</td>\n",
       "      <td>Baby Food Prod</td>\n",
       "      <td>NaN</td>\n",
       "      <td>Year(s)</td>\n",
       "      <td>Not Available</td>\n",
       "      <td>VISITED A HEALTH CARE PROVIDER</td>\n",
       "      <td>GASTROINTESTINAL DISORDER, PHYSICAL EXAMINATION</td>\n",
       "      <td>0</td>\n",
       "      <td>True</td>\n",
       "      <td>False</td>\n",
       "      <td>...</td>\n",
       "      <td>False</td>\n",
       "      <td>False</td>\n",
       "      <td>True</td>\n",
       "      <td>False</td>\n",
       "      <td>False</td>\n",
       "      <td>False</td>\n",
       "      <td>False</td>\n",
       "      <td>False</td>\n",
       "      <td>False</td>\n",
       "      <td>False</td>\n",
       "    </tr>\n",
       "  </tbody>\n",
       "</table>\n",
       "<p>5 rows × 68 columns</p>\n",
       "</div>"
      ],
      "text/plain": [
       "   Report Number                Industry Name  Age Age Unit         Gender  \\\n",
       "0          65325  Bakery Prod/Dough/Mix/Icing  2.0  Year(s)         Female   \n",
       "1          65325  Bakery Prod/Dough/Mix/Icing  2.0  Year(s)         Female   \n",
       "2          65333               Ice Cream Prod  NaN  Year(s)         Female   \n",
       "3          65335               Baby Food Prod  0.3  Year(s)  Not Available   \n",
       "4          65336               Baby Food Prod  NaN  Year(s)  Not Available   \n",
       "\n",
       "                                            Outcomes  \\\n",
       "0  VISITED AN ER, VISITED A HEALTH CARE PROVIDER,...   \n",
       "1  VISITED AN ER, VISITED A HEALTH CARE PROVIDER,...   \n",
       "2                                      VISITED AN ER   \n",
       "3                      NON-SERIOUS INJURIES/ ILLNESS   \n",
       "4                     VISITED A HEALTH CARE PROVIDER   \n",
       "\n",
       "                                            Symptoms  Serious  \\\n",
       "0  SWELLING FACE, RASH, WHEEZING, COUGH, HOSPITAL...        1   \n",
       "1  SWELLING FACE, WHEEZING, COUGH, RASH, HOSPITAL...        1   \n",
       "2                       NAUSEA, DYSGEUSIA, DIARRHOEA        0   \n",
       "3                GASTROINTESTINAL DISORDER, VOMITING        0   \n",
       "4    GASTROINTESTINAL DISORDER, PHYSICAL EXAMINATION        0   \n",
       "\n",
       "   ABDOMINAL SYMPTOMS  CHEST/HEART RELATED SYMPTOMS  ...    SKIN/BODY INJURY  \\\n",
       "0                True                         False  ...               False   \n",
       "1                True                         False  ...               False   \n",
       "2                True                         False  ...               False   \n",
       "3                True                         False  ...               False   \n",
       "4                True                         False  ...               False   \n",
       "\n",
       "   BREATHING PROBLEMS  EXAMINATION  MEMORY INJURY  BLOOD CLOTTING  \\\n",
       "0                True        False          False           False   \n",
       "1                True        False          False           False   \n",
       "2               False        False          False           False   \n",
       "3               False        False          False           False   \n",
       "4               False         True          False           False   \n",
       "\n",
       "   DAILING LIVING  PANCREATITIS  SALMONELLA  ABASIA  Other  \n",
       "0           False         False       False   False  False  \n",
       "1           False         False       False   False  False  \n",
       "2           False         False       False   False  False  \n",
       "3           False         False       False   False  False  \n",
       "4           False         False       False   False  False  \n",
       "\n",
       "[5 rows x 68 columns]"
      ]
     },
     "execution_count": 20,
     "metadata": {},
     "output_type": "execute_result"
    }
   ],
   "source": [
    "#Exploring final data\n",
    "adfood_eff.head()"
   ]
  },
  {
   "cell_type": "markdown",
   "metadata": {},
   "source": [
    "#### Exploratory Data Analysis on the final dataset"
   ]
  },
  {
   "cell_type": "code",
   "execution_count": 21,
   "metadata": {},
   "outputs": [
    {
     "data": {
      "image/png": "[encoded data removed]",
      "text/plain": [
       "<Figure size 432x288 with 1 Axes>"
      ]
     },
     "metadata": {},
     "output_type": "display_data"
    }
   ],
   "source": [
    "#Viaualization of number of outcomes \n",
    "import seaborn as sns\n",
    "sns.countplot(x='Serious', data=adfood_eff)\n",
    "plt.show()"
   ]
  },
  {
   "cell_type": "code",
   "execution_count": 22,
   "metadata": {},
   "outputs": [
    {
     "name": "stdout",
     "output_type": "stream",
     "text": [
      "percentage of serious reports is 57.07376724099943\n",
      "percentage of non_serious reports is 42.92623275900057\n"
     ]
    }
   ],
   "source": [
    "#Percentage of serious and non-serious\n",
    "count_serious= len(adfood_eff[adfood_eff['Serious']==1])\n",
    "count_non_serious= len(adfood_eff[adfood_eff['Serious']==0])\n",
    "percent_serious= count_serious/len(adfood_eff)\n",
    "print(\"percentage of serious reports is\", percent_serious*100)\n",
    "percent_non_serious= count_non_serious/len(adfood_eff)\n",
    "print(\"percentage of non_serious reports is\", percent_non_serious*100)"
   ]
  },
  {
   "cell_type": "code",
   "execution_count": 23,
   "metadata": {},
   "outputs": [
    {
     "name": "stdout",
     "output_type": "stream",
     "text": [
      "The mean of \"Age\" is 50.37\n",
      "The median of \"Age\" is 53.00\n"
     ]
    }
   ],
   "source": [
    "# mean and median of age\n",
    "print('The mean of \"Age\" is %.2f' %(adfood_eff[\"Age\"].mean(skipna=True)))\n",
    "# median age\n",
    "print('The median of \"Age\" is %.2f' %(adfood_eff[\"Age\"].median(skipna=True)))"
   ]
  },
  {
   "cell_type": "code",
   "execution_count": 24,
   "metadata": {},
   "outputs": [
    {
     "data": {
      "image/png": "[encoded data removed]",
      "text/plain": [
       "<Figure size 432x288 with 1 Axes>"
      ]
     },
     "metadata": {},
     "output_type": "display_data"
    }
   ],
   "source": [
    "#Distribution of age\n",
    "ax = adfood_eff[\"Age\"].hist(bins=15, density=True, stacked=True, alpha=0.6)\n",
    "adfood_eff[\"Age\"].plot(kind='density', color='teal')\n",
    "ax.set(xlabel='Age')\n",
    "plt.xlim(-5,110)\n",
    "plt.show()"
   ]
  },
  {
   "cell_type": "code",
   "execution_count": 25,
   "metadata": {},
   "outputs": [
    {
     "name": "stderr",
     "output_type": "stream",
     "text": [
      "C:\\ProgramData\\Anaconda3\\lib\\site-packages\\statsmodels\\nonparametric\\kde.py:448: RuntimeWarning: invalid value encountered in greater\n",
      "  X = X[np.logical_and(X > clip[0], X < clip[1])] # won't work for two columns.\n",
      "C:\\ProgramData\\Anaconda3\\lib\\site-packages\\statsmodels\\nonparametric\\kde.py:448: RuntimeWarning: invalid value encountered in less\n",
      "  X = X[np.logical_and(X > clip[0], X < clip[1])] # won't work for two columns.\n"
     ]
    },
    {
     "data": {
      "text/plain": [
       "(-20, 115)"
      ]
     },
     "execution_count": 25,
     "metadata": {},
     "output_type": "execute_result"
    },
    {
     "data": {
      "image/png": "[encoded data removed]",
      "text/plain": [
       "<Figure size 1080x576 with 1 Axes>"
      ]
     },
     "metadata": {},
     "output_type": "display_data"
    }
   ],
   "source": [
    "#Density plot\n",
    "plt.figure(figsize=(15,8))\n",
    "ax = sns.kdeplot(adfood_eff[\"Age\"][adfood_eff.Serious == 1], color=\"darkturquoise\", shade=True)\n",
    "sns.kdeplot(adfood_eff[\"Age\"][adfood_eff.Serious == 0], color=\"lightcoral\", shade=True)\n",
    "plt.legend(['Serious', 'Non-Serious'])\n",
    "plt.title('Density Plot of Age for Serious and Non-Serious Population')\n",
    "ax.set(xlabel='Age')\n",
    "plt.xlim(-20,115)"
   ]
  },
  {
   "cell_type": "code",
   "execution_count": 26,
   "metadata": {},
   "outputs": [
    {
     "data": {
      "text/plain": [
       "Text(0,0.5,'Frequency of Serious and Non-Serious')"
      ]
     },
     "execution_count": 26,
     "metadata": {},
     "output_type": "execute_result"
    },
    {
     "data": {
      "image/png": "[encoded data removed]",
      "text/plain": [
       "<Figure size 1080x432 with 1 Axes>"
      ]
     },
     "metadata": {},
     "output_type": "display_data"
    }
   ],
   "source": [
    "#Visualization of serious and non-serious based on industry\n",
    "%matplotlib inline\n",
    "import matplotlib as mpl\n",
    "mpl.rcParams['figure.figsize'] = (15,6)\n",
    "pd.crosstab(adfood_eff['Industry Name'],adfood_eff['Serious']).plot(kind='bar')\n",
    "plt.title('Serious and Non-Serious based on Food Industry')\n",
    "plt.xlabel('Industry Name')\n",
    "plt.ylabel('Frequency of Serious and Non-Serious')"
   ]
  },
  {
   "cell_type": "markdown",
   "metadata": {},
   "source": [
    "#### Creating Dummy variables to get prepared for the model"
   ]
  },
  {
   "cell_type": "code",
   "execution_count": 27,
   "metadata": {},
   "outputs": [],
   "source": [
    "#Creating dummy variables for remaining string columns\n",
    "cat_vars=['Industry Name','Gender','Age Unit']\n",
    "for var in cat_vars:\n",
    "    cat_list='var'+'_'+var\n",
    "    cat_list = pd.get_dummies(adfood_eff[var], prefix=var)\n",
    "    adfood_eff1=adfood_eff.join(cat_list)\n",
    "    adfood_eff=adfood_eff1"
   ]
  },
  {
   "cell_type": "code",
   "execution_count": 28,
   "metadata": {},
   "outputs": [],
   "source": [
    "#Creating dummy variables for remaining string columns\n",
    "cat_vars=['Industry Name','Gender','Age Unit']\n",
    "adfood_eff_vars=adfood_eff.columns.values.tolist()\n",
    "to_keep=[i for i in adfood_eff_vars if i not in cat_vars]"
   ]
  },
  {
   "cell_type": "code",
   "execution_count": 29,
   "metadata": {},
   "outputs": [
    {
     "data": {
      "text/plain": [
       "array(['Report Number', 'Age', 'Outcomes', 'Symptoms', 'Serious',\n",
       "       'ABDOMINAL SYMPTOMS', 'CHEST/HEART RELATED SYMPTOMS',\n",
       "       'COUGH/HEADACHE/DIZZINESS/NAUSEA', 'CANCER', 'IMMUNE SYMPTOMS',\n",
       "       'HAIR LOSS SYMPTOMS', 'SKIN/BODY ALLERGIES', 'ASTHENIA',\n",
       "       'FOREIGN BODY TRAUMA', 'DEHYDRATION', 'DYSPEPSIA', 'PARAESTHESIA',\n",
       "       'PALPITATIONS', 'HYPERHIDROSIS', 'CONSTIPATION', 'THROAT SYMPTOMS',\n",
       "       'FLATULENCE', 'CHILLS', 'INSOMNIA', 'TREMOR', 'HYPOAESTHESIA',\n",
       "       'CONVULSION', 'JAUNDICE', 'WEIGHT ALLERGIES', 'HAEMATOCHEZIA',\n",
       "       'PYREXIA', 'APPETITE SYMPTOMS', 'AMINOTRANSFERASE', 'ABNORMAL',\n",
       "       'HEPATIC ENZYME', 'HAEMORRHAGE', 'CEREBROVASCULAR SYSTOMS',\n",
       "       'BACK BONES/MUSCLES', 'FOOD POISONING', 'VISION/EYE', 'DEATH',\n",
       "       'URINARY INFECTIONS', 'CONFUSIONAL STATE', 'DIABETES',\n",
       "       'HOSPITALISATION', 'ANAPHYLACTIC REACTION',\n",
       "       'BLOOD RELATED SYSTOMS', 'EMOTIONAL SYMPTOMS',\n",
       "       'INFLUENZA LIKE ILLNESS', 'NERVOUSNESS', 'GAIT DISTURBANCE',\n",
       "       'LIVER INFECTIONS', 'DISCOMFORT', 'KIDNEY SYMPTOMS',\n",
       "       'DENTAL SYMPTOMS', 'SKIN/BODY INJURY', 'BREATHING PROBLEMS',\n",
       "       'EXAMINATION', 'MEMORY INJURY', 'BLOOD CLOTTING', 'DAILING LIVING',\n",
       "       'PANCREATITIS', 'SALMONELLA', 'ABASIA', 'Other',\n",
       "       'Industry Name_Alcoholic Beverage', 'Industry Name_Baby Food Prod',\n",
       "       'Industry Name_Bakery Prod/Dough/Mix/Icing',\n",
       "       'Industry Name_Beverage Bases/Conc/Nectar',\n",
       "       'Industry Name_Candy W/O Choc/Special/Chew Gum',\n",
       "       'Industry Name_Cereal Prep/Breakfast Food',\n",
       "       'Industry Name_Cheese/Cheese Prod',\n",
       "       'Industry Name_Choc/Cocoa Prod', 'Industry Name_Coffee/Tea',\n",
       "       'Industry Name_Color Additiv Food/Drug/Cosmetic',\n",
       "       'Industry Name_Cosmetics',\n",
       "       'Industry Name_Dietary Conv Food/Meal Replacements',\n",
       "       'Industry Name_Dressing/Condiment',\n",
       "       'Industry Name_EDIBLE INSECTS AND INSECT-DERIVED FOODS',\n",
       "       'Industry Name_Egg/Egg Prod',\n",
       "       'Industry Name_Filled Milk/Imit Milk Prod',\n",
       "       'Industry Name_Fishery/Seafood Prod',\n",
       "       'Industry Name_Food Additives (Human Use)',\n",
       "       'Industry Name_Food Service/Conveyance',\n",
       "       'Industry Name_Food Sweeteners (Nutritive)',\n",
       "       'Industry Name_Fruit/Fruit Prod',\n",
       "       'Industry Name_Gelatin/Rennet/Pudding Mix/Pie Filling',\n",
       "       'Industry Name_Ice Cream Prod',\n",
       "       'Industry Name_Macaroni/Noodle Prod',\n",
       "       'Industry Name_Meat, Meat Products and Poultry',\n",
       "       'Industry Name_Milk/Butter/Dried Milk Prod',\n",
       "       'Industry Name_Miscellaneous Food Related Items',\n",
       "       'Industry Name_Mult Food Dinner/Grav/Sauce/Special',\n",
       "       'Industry Name_Multiple Food Warehouses',\n",
       "       'Industry Name_Not Available', 'Industry Name_Nuts/Edible Seed',\n",
       "       'Industry Name_Prep Salad Prod', 'Industry Name_Snack Food Item',\n",
       "       'Industry Name_Soft Drink/Water', 'Industry Name_Soup',\n",
       "       'Industry Name_Spices, Flavors And Salts',\n",
       "       'Industry Name_Vegetable Oils',\n",
       "       'Industry Name_Vegetable Protein Prod',\n",
       "       'Industry Name_Vegetables/Vegetable Products',\n",
       "       'Industry Name_Vit/Min/Prot/Unconv Diet(Human/Animal)',\n",
       "       'Industry Name_Whole Grain/Milled Grain Prod/Starch',\n",
       "       'Gender_Female', 'Gender_Male', 'Gender_Not Available',\n",
       "       'Gender_Not Reported', 'Gender_Unknown', 'Age Unit_Year(s)'],\n",
       "      dtype=object)"
      ]
     },
     "execution_count": 29,
     "metadata": {},
     "output_type": "execute_result"
    }
   ],
   "source": [
    "#Final values and coulmns\n",
    "adfood_eff_final=adfood_eff[to_keep]\n",
    "adfood_eff_final.columns.values"
   ]
  },
  {
   "cell_type": "markdown",
   "metadata": {},
   "source": [
    "#### Buiding the Random Forest Model to Predict the Serious and Non Serious reports"
   ]
  },
  {
   "cell_type": "code",
   "execution_count": 30,
   "metadata": {},
   "outputs": [],
   "source": [
    "#Splitting the data for model evaluation\n",
    "from sklearn.model_selection import train_test_split\n",
    "adfood_eff_train, adfood_eff_test = train_test_split(adfood_eff_final, test_size=0.3, random_state=42)"
   ]
  },
  {
   "cell_type": "code",
   "execution_count": 31,
   "metadata": {},
   "outputs": [],
   "source": [
    "#Creating Final test dataset\n",
    "adfood_eff_Finaltest= adfood_eff_test.drop(['Serious', 'Symptoms', 'Outcomes'], axis=1)"
   ]
  },
  {
   "cell_type": "code",
   "execution_count": 32,
   "metadata": {},
   "outputs": [],
   "source": [
    "#Creating target and feature variables\n",
    "X= adfood_eff_train.drop(['Serious', 'Symptoms', 'Outcomes'], axis=1)\n",
    "y= adfood_eff_train['Serious']"
   ]
  },
  {
   "cell_type": "code",
   "execution_count": 33,
   "metadata": {},
   "outputs": [
    {
     "data": {
      "text/plain": [
       "Pipeline(memory=None,\n",
       "     steps=[('imputation', Imputer(axis=0, copy=True, missing_values='NaN', strategy='mean', verbose=0)), ('Random Forest', RandomForestClassifier(bootstrap=True, class_weight=None, criterion='gini',\n",
       "            max_depth=None, max_features='auto', max_leaf_nodes=None,\n",
       "            min_impurity_decrease=0...estimators=10, n_jobs=5,\n",
       "            oob_score=False, random_state=2, verbose=0, warm_start=False))])"
      ]
     },
     "execution_count": 33,
     "metadata": {},
     "output_type": "execute_result"
    }
   ],
   "source": [
    "#Expermenting the Randomforest model and fitting the train data\n",
    "from sklearn.pipeline import Pipeline\n",
    "from sklearn.ensemble import RandomForestClassifier\n",
    "from sklearn.preprocessing import Imputer\n",
    "from sklearn.model_selection import train_test_split\n",
    "\n",
    "imp=Imputer(missing_values='NaN', strategy='mean', axis=0)\n",
    "\n",
    "\n",
    "#Randomforest Classifier\n",
    "clf= RandomForestClassifier(n_jobs=5, random_state=2)\n",
    "\n",
    "steps= [('imputation', imp), ('Random Forest', clf)]\n",
    "pipe=Pipeline(steps)\n",
    "\n",
    "pipe.fit(X, y)"
   ]
  },
  {
   "cell_type": "code",
   "execution_count": 35,
   "metadata": {},
   "outputs": [
    {
     "name": "stdout",
     "output_type": "stream",
     "text": [
      "Score:  0.9913440352533837\n"
     ]
    }
   ],
   "source": [
    "#Printing the scores for the model\n",
    "print('Score: ', pipe.score(X, y))"
   ]
  },
  {
   "cell_type": "code",
   "execution_count": 36,
   "metadata": {},
   "outputs": [
    {
     "data": {
      "text/plain": [
       "GridSearchCV(cv=5, error_score='raise',\n",
       "       estimator=Pipeline(memory=None,\n",
       "     steps=[('imputation', Imputer(axis=0, copy=True, missing_values='NaN', strategy='mean', verbose=0)), ('Random Forest', RandomForestClassifier(bootstrap=True, class_weight=None, criterion='gini',\n",
       "            max_depth=None, max_features='auto', max_leaf_nodes=None,\n",
       "            min_impurity_decrease=0..._estimators=10, n_jobs=5,\n",
       "            oob_score=True, random_state=2, verbose=0, warm_start=False))]),\n",
       "       fit_params=None, iid=True, n_jobs=1,\n",
       "       param_grid={'Random Forest__n_estimators': [200, 700], 'Random Forest__max_features': ['auto', 'sqrt', 'log2']},\n",
       "       pre_dispatch='2*n_jobs', refit=True, return_train_score='warn',\n",
       "       scoring=None, verbose=0)"
      ]
     },
     "execution_count": 36,
     "metadata": {},
     "output_type": "execute_result"
    }
   ],
   "source": [
    "#Random forest model evaluation with cross validation and GridSearchCV\n",
    "from sklearn.model_selection import GridSearchCV\n",
    "import numpy as np\n",
    "scoring = {'AUC': 'roc_auc', 'Log_loss': 'neg_log_loss'}\n",
    "\n",
    "#Randomforest Classifier\n",
    "clf= RandomForestClassifier(n_jobs=5, random_state=2, oob_score = True)\n",
    "\n",
    "#Assigning the parameters\n",
    "param_grid = { \n",
    "    'Random Forest__n_estimators': [200, 700],\n",
    "    'Random Forest__max_features': ['auto', 'sqrt', 'log2']\n",
    "}\n",
    "\n",
    "#Buiding a pipeline for imputation and classification\n",
    "forest_clf_pipe = Pipeline(steps=[('imputation', imp), ('Random Forest',clf)])\n",
    "\n",
    "#GridSearchCV model evaluation\n",
    "\n",
    "forest_clf = GridSearchCV(estimator=forest_clf_pipe, cv=5,\n",
    "              param_grid=param_grid, )\n",
    "#Fitting the model on the train data\n",
    "forest_clf.fit(X, y)"
   ]
  },
  {
   "cell_type": "code",
   "execution_count": 37,
   "metadata": {},
   "outputs": [
    {
     "data": {
      "text/html": [
       "<div>\n",
       "<style scoped>\n",
       "    .dataframe tbody tr th:only-of-type {\n",
       "        vertical-align: middle;\n",
       "    }\n",
       "\n",
       "    .dataframe tbody tr th {\n",
       "        vertical-align: top;\n",
       "    }\n",
       "\n",
       "    .dataframe thead th {\n",
       "        text-align: right;\n",
       "    }\n",
       "</style>\n",
       "<table border=\"1\" class=\"dataframe\">\n",
       "  <thead>\n",
       "    <tr style=\"text-align: right;\">\n",
       "      <th></th>\n",
       "      <th>Report Number</th>\n",
       "      <th>Serious</th>\n",
       "    </tr>\n",
       "  </thead>\n",
       "  <tbody>\n",
       "    <tr>\n",
       "      <th>51621</th>\n",
       "      <td>174989</td>\n",
       "      <td>0</td>\n",
       "    </tr>\n",
       "    <tr>\n",
       "      <th>14522</th>\n",
       "      <td>106801</td>\n",
       "      <td>1</td>\n",
       "    </tr>\n",
       "    <tr>\n",
       "      <th>32372</th>\n",
       "      <td>146616</td>\n",
       "      <td>1</td>\n",
       "    </tr>\n",
       "    <tr>\n",
       "      <th>31724</th>\n",
       "      <td>145318</td>\n",
       "      <td>0</td>\n",
       "    </tr>\n",
       "    <tr>\n",
       "      <th>13206</th>\n",
       "      <td>103814</td>\n",
       "      <td>1</td>\n",
       "    </tr>\n",
       "  </tbody>\n",
       "</table>\n",
       "</div>"
      ],
      "text/plain": [
       "       Report Number  Serious\n",
       "51621         174989        0\n",
       "14522         106801        1\n",
       "32372         146616        1\n",
       "31724         145318        0\n",
       "13206         103814        1"
      ]
     },
     "execution_count": 37,
     "metadata": {},
     "output_type": "execute_result"
    }
   ],
   "source": [
    "#Final test on the testing data\n",
    "adfood_eff_Finaltest['Serious'] = forest_clf.predict(adfood_eff_Finaltest)\n",
    "\n",
    "Final_report = adfood_eff_Finaltest[['Report Number','Serious']]\n",
    "\n",
    "Final_report.to_csv(\"Final_report.csv\", index=False)\n",
    "#Printing the Final report\n",
    "Final_report.tail()"
   ]
  },
  {
   "cell_type": "code",
   "execution_count": 38,
   "metadata": {},
   "outputs": [
    {
     "data": {
      "text/plain": [
       "['Random Forest',\n",
       " 'Random Forest__bootstrap',\n",
       " 'Random Forest__class_weight',\n",
       " 'Random Forest__criterion',\n",
       " 'Random Forest__max_depth',\n",
       " 'Random Forest__max_features',\n",
       " 'Random Forest__max_leaf_nodes',\n",
       " 'Random Forest__min_impurity_decrease',\n",
       " 'Random Forest__min_impurity_split',\n",
       " 'Random Forest__min_samples_leaf',\n",
       " 'Random Forest__min_samples_split',\n",
       " 'Random Forest__min_weight_fraction_leaf',\n",
       " 'Random Forest__n_estimators',\n",
       " 'Random Forest__n_jobs',\n",
       " 'Random Forest__oob_score',\n",
       " 'Random Forest__random_state',\n",
       " 'Random Forest__verbose',\n",
       " 'Random Forest__warm_start',\n",
       " 'imputation',\n",
       " 'imputation__axis',\n",
       " 'imputation__copy',\n",
       " 'imputation__missing_values',\n",
       " 'imputation__strategy',\n",
       " 'imputation__verbose',\n",
       " 'memory',\n",
       " 'steps']"
      ]
     },
     "execution_count": 38,
     "metadata": {},
     "output_type": "execute_result"
    }
   ],
   "source": [
    "sorted(pipe.get_params().keys())"
   ]
  },
  {
   "cell_type": "code",
   "execution_count": null,
   "metadata": {},
   "outputs": [],
   "source": []
  }
 ],
 "metadata": {
  "kernelspec": {
   "display_name": "Python 3",
   "language": "python",
   "name": "python3"
  },
  "language_info": {
   "codemirror_mode": {
    "name": "ipython",
    "version": 3
   },
   "file_extension": ".py",
   "mimetype": "text/x-python",
   "name": "python",
   "nbconvert_exporter": "python",
   "pygments_lexer": "ipython3",
   "version": "3.6.5"
  }
 },
 "nbformat": 4,
 "nbformat_minor": 2
}
