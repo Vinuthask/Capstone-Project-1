{
 "cells": [
  {
   "cell_type": "code",
   "execution_count": 1,
   "metadata": {},
   "outputs": [],
   "source": [
    "#Importing required packages\n",
    "import pandas as pd\n",
    "import csv\n",
    "import re\n",
    "import numpy as np\n",
    "import collections\n",
    "import matplotlib.pyplot as plt\n",
    "import seaborn as sns"
   ]
  },
  {
   "cell_type": "code",
   "execution_count": 2,
   "metadata": {},
   "outputs": [],
   "source": [
    "#Loading .csv file to Pandas dataframe\n",
    "ad_food_effects= pd.read_csv('CAERS_ASCII_2004_2017Q2.csv')"
   ]
  },
  {
   "cell_type": "code",
   "execution_count": 3,
   "metadata": {},
   "outputs": [
    {
     "name": "stdout",
     "output_type": "stream",
     "text": [
      "<class 'pandas.core.frame.DataFrame'>\n",
      "RangeIndex: 90786 entries, 0 to 90785\n",
      "Data columns (total 12 columns):\n",
      "RA_Report #                        90786 non-null int64\n",
      "RA_CAERS Created Date              90786 non-null object\n",
      "AEC_Event Start Date               53653 non-null object\n",
      "PRI_Product Role                   90786 non-null object\n",
      "PRI_Reported Brand/Product Name    90786 non-null object\n",
      "PRI_FDA Industry Code              90786 non-null int64\n",
      "PRI_FDA Industry Name              90786 non-null object\n",
      "CI_Age at Adverse Event            52926 non-null float64\n",
      "CI_Age Unit                        90786 non-null object\n",
      "CI_Gender                          90786 non-null object\n",
      "AEC_One Row Outcomes               90786 non-null object\n",
      "SYM_One Row Coded Symptoms         90781 non-null object\n",
      "dtypes: float64(1), int64(2), object(9)\n",
      "memory usage: 8.3+ MB\n"
     ]
    }
   ],
   "source": [
    "#Exploring the information of the data\n",
    "ad_food_effects.info()"
   ]
  },
  {
   "cell_type": "code",
   "execution_count": 4,
   "metadata": {},
   "outputs": [],
   "source": [
    "#Renaming the column names\n",
    "ad_food_effects.columns= ['Report #', 'Created Date', 'Start Date', 'Product Role', 'Product Brand/Name', 'Industry Code', 'Industry Name', 'Age', 'Age Unit', 'Gender', 'Outcomes', 'Symptoms']"
   ]
  },
  {
   "cell_type": "code",
   "execution_count": 5,
   "metadata": {},
   "outputs": [
    {
     "data": {
      "text/html": [
       "<div>\n",
       "<style scoped>\n",
       "    .dataframe tbody tr th:only-of-type {\n",
       "        vertical-align: middle;\n",
       "    }\n",
       "\n",
       "    .dataframe tbody tr th {\n",
       "        vertical-align: top;\n",
       "    }\n",
       "\n",
       "    .dataframe thead th {\n",
       "        text-align: right;\n",
       "    }\n",
       "</style>\n",
       "<table border=\"1\" class=\"dataframe\">\n",
       "  <thead>\n",
       "    <tr style=\"text-align: right;\">\n",
       "      <th></th>\n",
       "      <th>Report #</th>\n",
       "      <th>Created Date</th>\n",
       "      <th>Start Date</th>\n",
       "      <th>Product Role</th>\n",
       "      <th>Product Brand/Name</th>\n",
       "      <th>Industry Code</th>\n",
       "      <th>Industry Name</th>\n",
       "      <th>Age</th>\n",
       "      <th>Age Unit</th>\n",
       "      <th>Gender</th>\n",
       "      <th>Outcomes</th>\n",
       "      <th>Symptoms</th>\n",
       "    </tr>\n",
       "  </thead>\n",
       "  <tbody>\n",
       "    <tr>\n",
       "      <th>0</th>\n",
       "      <td>65325</td>\n",
       "      <td>1/1/2004</td>\n",
       "      <td>8/4/2003</td>\n",
       "      <td>Suspect</td>\n",
       "      <td>MIDWEST COUNTRY FAIR CHOCOLATE FLAVORED CHIPS</td>\n",
       "      <td>3</td>\n",
       "      <td>Bakery Prod/Dough/Mix/Icing</td>\n",
       "      <td>2.0</td>\n",
       "      <td>Year(s)</td>\n",
       "      <td>Female</td>\n",
       "      <td>VISITED AN ER, VISITED A HEALTH CARE PROVIDER,...</td>\n",
       "      <td>SWELLING FACE, RASH, WHEEZING, COUGH, HOSPITAL...</td>\n",
       "    </tr>\n",
       "    <tr>\n",
       "      <th>1</th>\n",
       "      <td>65325</td>\n",
       "      <td>1/1/2004</td>\n",
       "      <td>8/4/2003</td>\n",
       "      <td>Suspect</td>\n",
       "      <td>MIDWEST COUNTRY FAIR CHOCOLATE FLAVORED CHIPS</td>\n",
       "      <td>3</td>\n",
       "      <td>Bakery Prod/Dough/Mix/Icing</td>\n",
       "      <td>2.0</td>\n",
       "      <td>Year(s)</td>\n",
       "      <td>Female</td>\n",
       "      <td>VISITED AN ER, VISITED A HEALTH CARE PROVIDER,...</td>\n",
       "      <td>SWELLING FACE, WHEEZING, COUGH, RASH, HOSPITAL...</td>\n",
       "    </tr>\n",
       "    <tr>\n",
       "      <th>243</th>\n",
       "      <td>65973</td>\n",
       "      <td>1/22/2004</td>\n",
       "      <td>NaN</td>\n",
       "      <td>Suspect</td>\n",
       "      <td>PREMIER PIGMENTS PERMANENT TATTOO PIGMENTS: RO...</td>\n",
       "      <td>53</td>\n",
       "      <td>Cosmetics</td>\n",
       "      <td>51.0</td>\n",
       "      <td>Year(s)</td>\n",
       "      <td>Female</td>\n",
       "      <td>NON-SERIOUS INJURIES/ ILLNESS</td>\n",
       "      <td>BLISTER, SWELLING FACE, CHEILITIS, PRURITUS, H...</td>\n",
       "    </tr>\n",
       "    <tr>\n",
       "      <th>244</th>\n",
       "      <td>65973</td>\n",
       "      <td>1/22/2004</td>\n",
       "      <td>NaN</td>\n",
       "      <td>Suspect</td>\n",
       "      <td>PREMIER PIGMENTS PERMANENT TATTOO PIGMENTS: RO...</td>\n",
       "      <td>53</td>\n",
       "      <td>Cosmetics</td>\n",
       "      <td>51.0</td>\n",
       "      <td>Year(s)</td>\n",
       "      <td>Female</td>\n",
       "      <td>NON-SERIOUS INJURIES/ ILLNESS</td>\n",
       "      <td>SWELLING FACE, CHEILITIS, BLISTER, PRURITUS, H...</td>\n",
       "    </tr>\n",
       "    <tr>\n",
       "      <th>281</th>\n",
       "      <td>66120</td>\n",
       "      <td>1/28/2004</td>\n",
       "      <td>NaN</td>\n",
       "      <td>Suspect</td>\n",
       "      <td>CRAB OMELET</td>\n",
       "      <td>16</td>\n",
       "      <td>Fishery/Seafood Prod</td>\n",
       "      <td>NaN</td>\n",
       "      <td>Not Available</td>\n",
       "      <td>Not Available</td>\n",
       "      <td>NON-SERIOUS INJURIES/ ILLNESS, VISITED AN ER</td>\n",
       "      <td>FEELING ABNORMAL, AMNESIA, ABDOMINAL PAIN, DIA...</td>\n",
       "    </tr>\n",
       "    <tr>\n",
       "      <th>282</th>\n",
       "      <td>66120</td>\n",
       "      <td>1/28/2004</td>\n",
       "      <td>NaN</td>\n",
       "      <td>Suspect</td>\n",
       "      <td>CRAB OMELET</td>\n",
       "      <td>16</td>\n",
       "      <td>Fishery/Seafood Prod</td>\n",
       "      <td>NaN</td>\n",
       "      <td>Not Available</td>\n",
       "      <td>Not Available</td>\n",
       "      <td>NON-SERIOUS INJURIES/ ILLNESS, VISITED AN ER</td>\n",
       "      <td>FEELING ABNORMAL, AMNESIA, VOMITING, ABDOMINAL...</td>\n",
       "    </tr>\n",
       "    <tr>\n",
       "      <th>299</th>\n",
       "      <td>66157</td>\n",
       "      <td>1/28/2004</td>\n",
       "      <td>7/17/2003</td>\n",
       "      <td>Suspect</td>\n",
       "      <td>KRAFT ZESTY ITALIAN</td>\n",
       "      <td>27</td>\n",
       "      <td>Dressing/Condiment</td>\n",
       "      <td>NaN</td>\n",
       "      <td>Not Available</td>\n",
       "      <td>Female</td>\n",
       "      <td>NON-SERIOUS INJURIES/ ILLNESS</td>\n",
       "      <td>FEELING ABNORMAL, BALANCE DISORDER, DIZZINESS,...</td>\n",
       "    </tr>\n",
       "    <tr>\n",
       "      <th>300</th>\n",
       "      <td>66157</td>\n",
       "      <td>1/28/2004</td>\n",
       "      <td>7/17/2003</td>\n",
       "      <td>Suspect</td>\n",
       "      <td>KRAFT ZESTY ITALIAN</td>\n",
       "      <td>27</td>\n",
       "      <td>Dressing/Condiment</td>\n",
       "      <td>NaN</td>\n",
       "      <td>Not Available</td>\n",
       "      <td>Female</td>\n",
       "      <td>NON-SERIOUS INJURIES/ ILLNESS</td>\n",
       "      <td>FEELING ABNORMAL, DIZZINESS, NAUSEA, ABDOMINAL...</td>\n",
       "    </tr>\n",
       "    <tr>\n",
       "      <th>586</th>\n",
       "      <td>67149</td>\n",
       "      <td>3/5/2004</td>\n",
       "      <td>1/31/2004</td>\n",
       "      <td>Suspect</td>\n",
       "      <td>ENZYMATIC THERAPY EPHEDRA</td>\n",
       "      <td>54</td>\n",
       "      <td>Vit/Min/Prot/Unconv Diet(Human/Animal)</td>\n",
       "      <td>NaN</td>\n",
       "      <td>Not Available</td>\n",
       "      <td>Male</td>\n",
       "      <td>NON-SERIOUS INJURIES/ ILLNESS</td>\n",
       "      <td>EMERGENCY CARE EXAMINATION, HEART RATE INCREAS...</td>\n",
       "    </tr>\n",
       "    <tr>\n",
       "      <th>587</th>\n",
       "      <td>67149</td>\n",
       "      <td>3/5/2004</td>\n",
       "      <td>1/31/2004</td>\n",
       "      <td>Suspect</td>\n",
       "      <td>ENZYMATIC THERAPY EPHEDRA</td>\n",
       "      <td>54</td>\n",
       "      <td>Vit/Min/Prot/Unconv Diet(Human/Animal)</td>\n",
       "      <td>NaN</td>\n",
       "      <td>Not Available</td>\n",
       "      <td>Male</td>\n",
       "      <td>NON-SERIOUS INJURIES/ ILLNESS</td>\n",
       "      <td>EMERGENCY CARE EXAMINATION, HEART RATE INCREAS...</td>\n",
       "    </tr>\n",
       "    <tr>\n",
       "      <th>1116</th>\n",
       "      <td>68778</td>\n",
       "      <td>5/6/2004</td>\n",
       "      <td>1/30/2004</td>\n",
       "      <td>Suspect</td>\n",
       "      <td>M-ONE-T</td>\n",
       "      <td>54</td>\n",
       "      <td>Vit/Min/Prot/Unconv Diet(Human/Animal)</td>\n",
       "      <td>30.0</td>\n",
       "      <td>Year(s)</td>\n",
       "      <td>Male</td>\n",
       "      <td>REQ. INTERVENTION TO PRVNT PERM. IMPRMNT., LIF...</td>\n",
       "      <td>BLOOD CHOLESTEROL INCREASED, JAUNDICE, ALANINE...</td>\n",
       "    </tr>\n",
       "    <tr>\n",
       "      <th>1117</th>\n",
       "      <td>68778</td>\n",
       "      <td>5/6/2004</td>\n",
       "      <td>1/30/2004</td>\n",
       "      <td>Suspect</td>\n",
       "      <td>M-ONE-T</td>\n",
       "      <td>54</td>\n",
       "      <td>Vit/Min/Prot/Unconv Diet(Human/Animal)</td>\n",
       "      <td>30.0</td>\n",
       "      <td>Year(s)</td>\n",
       "      <td>Male</td>\n",
       "      <td>REQ. INTERVENTION TO PRVNT PERM. IMPRMNT., LIF...</td>\n",
       "      <td>BLOOD CHOLESTEROL INCREASED, JAUNDICE, BLOOD B...</td>\n",
       "    </tr>\n",
       "    <tr>\n",
       "      <th>6986</th>\n",
       "      <td>86927</td>\n",
       "      <td>7/15/2006</td>\n",
       "      <td>NaN</td>\n",
       "      <td>Suspect</td>\n",
       "      <td>WONDER WHOLE WHEAT BREAD</td>\n",
       "      <td>3</td>\n",
       "      <td>Bakery Prod/Dough/Mix/Icing</td>\n",
       "      <td>NaN</td>\n",
       "      <td>Not Available</td>\n",
       "      <td>Male</td>\n",
       "      <td>NON-SERIOUS INJURIES/ ILLNESS</td>\n",
       "      <td>NAUSEA, ABDOMINAL PAIN, HEADACHE, MALAISE</td>\n",
       "    </tr>\n",
       "    <tr>\n",
       "      <th>6987</th>\n",
       "      <td>86927</td>\n",
       "      <td>7/15/2006</td>\n",
       "      <td>NaN</td>\n",
       "      <td>Suspect</td>\n",
       "      <td>WONDER WHOLE WHEAT BREAD</td>\n",
       "      <td>3</td>\n",
       "      <td>Bakery Prod/Dough/Mix/Icing</td>\n",
       "      <td>NaN</td>\n",
       "      <td>Not Available</td>\n",
       "      <td>Male</td>\n",
       "      <td>NON-SERIOUS INJURIES/ ILLNESS</td>\n",
       "      <td>NAUSEA, HEADACHE, ABDOMINAL PAIN, MALAISE</td>\n",
       "    </tr>\n",
       "    <tr>\n",
       "      <th>7086</th>\n",
       "      <td>87263</td>\n",
       "      <td>7/31/2006</td>\n",
       "      <td>NaN</td>\n",
       "      <td>Suspect</td>\n",
       "      <td>MRS. SMITH'S FROZEN DEEP PAN APPLE PIE</td>\n",
       "      <td>3</td>\n",
       "      <td>Bakery Prod/Dough/Mix/Icing</td>\n",
       "      <td>NaN</td>\n",
       "      <td>Not Available</td>\n",
       "      <td>Male</td>\n",
       "      <td>NON-SERIOUS INJURIES/ ILLNESS</td>\n",
       "      <td>DIARRHOEA, HEADACHE, DIZZINESS, FATIGUE, NAUSE...</td>\n",
       "    </tr>\n",
       "    <tr>\n",
       "      <th>7087</th>\n",
       "      <td>87263</td>\n",
       "      <td>7/31/2006</td>\n",
       "      <td>NaN</td>\n",
       "      <td>Suspect</td>\n",
       "      <td>MRS. SMITH'S FROZEN DEEP PAN APPLE PIE</td>\n",
       "      <td>3</td>\n",
       "      <td>Bakery Prod/Dough/Mix/Icing</td>\n",
       "      <td>NaN</td>\n",
       "      <td>Not Available</td>\n",
       "      <td>Male</td>\n",
       "      <td>NON-SERIOUS INJURIES/ ILLNESS</td>\n",
       "      <td>DIARRHOEA, HEADACHE, DIZZINESS, NAUSEA, FATIGU...</td>\n",
       "    </tr>\n",
       "    <tr>\n",
       "      <th>7738</th>\n",
       "      <td>89285</td>\n",
       "      <td>11/6/2006</td>\n",
       "      <td>9/5/2006</td>\n",
       "      <td>Suspect</td>\n",
       "      <td>TRADER JOE'S T.J.'S BABY SPINACH SALAD</td>\n",
       "      <td>24</td>\n",
       "      <td>Vegetables/Vegetable Products</td>\n",
       "      <td>NaN</td>\n",
       "      <td>Not Available</td>\n",
       "      <td>Male</td>\n",
       "      <td>NON-SERIOUS INJURIES/ ILLNESS</td>\n",
       "      <td>DIARRHOEA, HYPERHIDROSIS, MALAISE, ASTHENIA, M...</td>\n",
       "    </tr>\n",
       "    <tr>\n",
       "      <th>7739</th>\n",
       "      <td>89285</td>\n",
       "      <td>11/6/2006</td>\n",
       "      <td>9/5/2006</td>\n",
       "      <td>Suspect</td>\n",
       "      <td>TRADER JOE'S T.J.'S BABY SPINACH SALAD</td>\n",
       "      <td>24</td>\n",
       "      <td>Vegetables/Vegetable Products</td>\n",
       "      <td>NaN</td>\n",
       "      <td>Not Available</td>\n",
       "      <td>Male</td>\n",
       "      <td>NON-SERIOUS INJURIES/ ILLNESS</td>\n",
       "      <td>MALAISE, ASTHENIA, HYPERHIDROSIS, DIARRHOEA, M...</td>\n",
       "    </tr>\n",
       "    <tr>\n",
       "      <th>8733</th>\n",
       "      <td>92124</td>\n",
       "      <td>3/20/2007</td>\n",
       "      <td>2/27/2007</td>\n",
       "      <td>Suspect</td>\n",
       "      <td>MAGGIE DROZD SPICE DIET PILLS</td>\n",
       "      <td>54</td>\n",
       "      <td>Vit/Min/Prot/Unconv Diet(Human/Animal)</td>\n",
       "      <td>36.0</td>\n",
       "      <td>Year(s)</td>\n",
       "      <td>Female</td>\n",
       "      <td>HOSPITALIZATION, LIFE THREATENING, VISITED A H...</td>\n",
       "      <td>NAUSEA, ABDOMINAL PAIN, ASPARTATE AMINOTRANSFE...</td>\n",
       "    </tr>\n",
       "    <tr>\n",
       "      <th>8734</th>\n",
       "      <td>92124</td>\n",
       "      <td>3/20/2007</td>\n",
       "      <td>2/27/2007</td>\n",
       "      <td>Suspect</td>\n",
       "      <td>MAGGIE DROZD SPICE DIET PILLS</td>\n",
       "      <td>54</td>\n",
       "      <td>Vit/Min/Prot/Unconv Diet(Human/Animal)</td>\n",
       "      <td>36.0</td>\n",
       "      <td>Year(s)</td>\n",
       "      <td>Female</td>\n",
       "      <td>HOSPITALIZATION, LIFE THREATENING, VISITED A H...</td>\n",
       "      <td>NAUSEA, ABDOMINAL PAIN, LIVER FUNCTION TEST AB...</td>\n",
       "    </tr>\n",
       "    <tr>\n",
       "      <th>10151</th>\n",
       "      <td>96091</td>\n",
       "      <td>9/6/2007</td>\n",
       "      <td>NaN</td>\n",
       "      <td>Suspect</td>\n",
       "      <td>GREAT VALUE CREAMY PEANUT BUTTER</td>\n",
       "      <td>23</td>\n",
       "      <td>Nuts/Edible Seed</td>\n",
       "      <td>NaN</td>\n",
       "      <td>Not Available</td>\n",
       "      <td>Not Available</td>\n",
       "      <td>VISITED A HEALTH CARE PROVIDER</td>\n",
       "      <td>BODY TEMPERATURE INCREASED, DIARRHOEA, VOMITIN...</td>\n",
       "    </tr>\n",
       "    <tr>\n",
       "      <th>10152</th>\n",
       "      <td>96091</td>\n",
       "      <td>9/6/2007</td>\n",
       "      <td>NaN</td>\n",
       "      <td>Suspect</td>\n",
       "      <td>GREAT VALUE CREAMY PEANUT BUTTER</td>\n",
       "      <td>23</td>\n",
       "      <td>Nuts/Edible Seed</td>\n",
       "      <td>NaN</td>\n",
       "      <td>Not Available</td>\n",
       "      <td>Not Available</td>\n",
       "      <td>VISITED A HEALTH CARE PROVIDER</td>\n",
       "      <td>BODY TEMPERATURE INCREASED, VOMITING, DIARRHOE...</td>\n",
       "    </tr>\n",
       "    <tr>\n",
       "      <th>14417</th>\n",
       "      <td>106590</td>\n",
       "      <td>9/24/2008</td>\n",
       "      <td>9/4/2008</td>\n",
       "      <td>Suspect</td>\n",
       "      <td>DIVINA ORGANIC PITTED KALAMATA OLIVES, CANNED ...</td>\n",
       "      <td>25</td>\n",
       "      <td>Vegetables/Vegetable Products</td>\n",
       "      <td>3.0</td>\n",
       "      <td>Year(s)</td>\n",
       "      <td>Female</td>\n",
       "      <td>NON-SERIOUS INJURIES/ ILLNESS</td>\n",
       "      <td>APPETITE DISORDER, VOMITING, DIARRHOEA, ABDOMI...</td>\n",
       "    </tr>\n",
       "    <tr>\n",
       "      <th>14418</th>\n",
       "      <td>106590</td>\n",
       "      <td>9/24/2008</td>\n",
       "      <td>9/4/2008</td>\n",
       "      <td>Suspect</td>\n",
       "      <td>DIVINA ORGANIC PITTED KALAMATA OLIVES, CANNED ...</td>\n",
       "      <td>25</td>\n",
       "      <td>Vegetables/Vegetable Products</td>\n",
       "      <td>3.0</td>\n",
       "      <td>Year(s)</td>\n",
       "      <td>Female</td>\n",
       "      <td>NON-SERIOUS INJURIES/ ILLNESS</td>\n",
       "      <td>APPETITE DISORDER, VOMITING, DIARRHOEA, ABDOMI...</td>\n",
       "    </tr>\n",
       "    <tr>\n",
       "      <th>15321</th>\n",
       "      <td>108960</td>\n",
       "      <td>1/5/2009</td>\n",
       "      <td>6/28/2008</td>\n",
       "      <td>Suspect</td>\n",
       "      <td>GROUPER FISH</td>\n",
       "      <td>16</td>\n",
       "      <td>Fishery/Seafood Prod</td>\n",
       "      <td>NaN</td>\n",
       "      <td>Not Available</td>\n",
       "      <td>Not Available</td>\n",
       "      <td>HOSPITALIZATION, VISITED A HEALTH CARE PROVIDE...</td>\n",
       "      <td>MALAISE, DIARRHOEA, VOMITING, CHILLS, FEELING ...</td>\n",
       "    </tr>\n",
       "    <tr>\n",
       "      <th>15322</th>\n",
       "      <td>108960</td>\n",
       "      <td>1/5/2009</td>\n",
       "      <td>6/28/2008</td>\n",
       "      <td>Suspect</td>\n",
       "      <td>GROUPER FISH</td>\n",
       "      <td>16</td>\n",
       "      <td>Fishery/Seafood Prod</td>\n",
       "      <td>NaN</td>\n",
       "      <td>Not Available</td>\n",
       "      <td>Not Available</td>\n",
       "      <td>HOSPITALIZATION, VISITED A HEALTH CARE PROVIDE...</td>\n",
       "      <td>VOMITING, MALAISE, DIARRHOEA, CHILLS, FEELING ...</td>\n",
       "    </tr>\n",
       "    <tr>\n",
       "      <th>15628</th>\n",
       "      <td>109585</td>\n",
       "      <td>1/29/2009</td>\n",
       "      <td>1/23/2009</td>\n",
       "      <td>Suspect</td>\n",
       "      <td>ONE A DAY WEIGHT SMART ADVANCED</td>\n",
       "      <td>54</td>\n",
       "      <td>Vit/Min/Prot/Unconv Diet(Human/Animal)</td>\n",
       "      <td>56.0</td>\n",
       "      <td>Year(s)</td>\n",
       "      <td>Female</td>\n",
       "      <td>SERIOUS INJURIES/ ILLNESS, HOSPITALIZATION</td>\n",
       "      <td>ATRIAL FIBRILLATION, HYPERTENSION, HEART RATE ...</td>\n",
       "    </tr>\n",
       "    <tr>\n",
       "      <th>15629</th>\n",
       "      <td>109585</td>\n",
       "      <td>1/29/2009</td>\n",
       "      <td>1/23/2009</td>\n",
       "      <td>Suspect</td>\n",
       "      <td>ONE A DAY WEIGHT SMART ADVANCED</td>\n",
       "      <td>54</td>\n",
       "      <td>Vit/Min/Prot/Unconv Diet(Human/Animal)</td>\n",
       "      <td>56.0</td>\n",
       "      <td>Year(s)</td>\n",
       "      <td>Female</td>\n",
       "      <td>SERIOUS INJURIES/ ILLNESS, HOSPITALIZATION</td>\n",
       "      <td>ATRIAL FIBRILLATION, HYPERTENSION, HEART RATE ...</td>\n",
       "    </tr>\n",
       "    <tr>\n",
       "      <th>17053</th>\n",
       "      <td>112441</td>\n",
       "      <td>4/28/2009</td>\n",
       "      <td>3/4/2009</td>\n",
       "      <td>Suspect</td>\n",
       "      <td>PHILLIPS LAXATIVE DIETARY SUPPLEMENT CAPLETS</td>\n",
       "      <td>54</td>\n",
       "      <td>Vit/Min/Prot/Unconv Diet(Human/Animal)</td>\n",
       "      <td>95.0</td>\n",
       "      <td>Year(s)</td>\n",
       "      <td>Female</td>\n",
       "      <td>SERIOUS INJURIES/ ILLNESS, HOSPITALIZATION</td>\n",
       "      <td>MUSCLE ATROPHY, LOSS OF CONSCIOUSNESS, DIARRHO...</td>\n",
       "    </tr>\n",
       "    <tr>\n",
       "      <th>17054</th>\n",
       "      <td>112441</td>\n",
       "      <td>4/28/2009</td>\n",
       "      <td>3/4/2009</td>\n",
       "      <td>Suspect</td>\n",
       "      <td>PHILLIPS LAXATIVE DIETARY SUPPLEMENT CAPLETS</td>\n",
       "      <td>54</td>\n",
       "      <td>Vit/Min/Prot/Unconv Diet(Human/Animal)</td>\n",
       "      <td>95.0</td>\n",
       "      <td>Year(s)</td>\n",
       "      <td>Female</td>\n",
       "      <td>SERIOUS INJURIES/ ILLNESS, HOSPITALIZATION</td>\n",
       "      <td>MUSCLE ATROPHY, LOSS OF CONSCIOUSNESS, DIARRHO...</td>\n",
       "    </tr>\n",
       "    <tr>\n",
       "      <th>...</th>\n",
       "      <td>...</td>\n",
       "      <td>...</td>\n",
       "      <td>...</td>\n",
       "      <td>...</td>\n",
       "      <td>...</td>\n",
       "      <td>...</td>\n",
       "      <td>...</td>\n",
       "      <td>...</td>\n",
       "      <td>...</td>\n",
       "      <td>...</td>\n",
       "      <td>...</td>\n",
       "      <td>...</td>\n",
       "    </tr>\n",
       "    <tr>\n",
       "      <th>39418</th>\n",
       "      <td>158650</td>\n",
       "      <td>11/6/2012</td>\n",
       "      <td>10/9/2012</td>\n",
       "      <td>Suspect</td>\n",
       "      <td>MONSTER REHAB TEA + ORANGEADE + ENERGY  NON CA...</td>\n",
       "      <td>54</td>\n",
       "      <td>Vit/Min/Prot/Unconv Diet(Human/Animal)</td>\n",
       "      <td>13.0</td>\n",
       "      <td>Year(s)</td>\n",
       "      <td>Female</td>\n",
       "      <td>LIFE THREATENING, VISITED AN ER</td>\n",
       "      <td>HEADACHE, TREMOR, CEREBROVASCULAR ACCIDENT, PA...</td>\n",
       "    </tr>\n",
       "    <tr>\n",
       "      <th>39419</th>\n",
       "      <td>158650</td>\n",
       "      <td>11/6/2012</td>\n",
       "      <td>10/9/2012</td>\n",
       "      <td>Suspect</td>\n",
       "      <td>MONSTER REHAB TEA + ORANGEADE + ENERGY  NON CA...</td>\n",
       "      <td>54</td>\n",
       "      <td>Vit/Min/Prot/Unconv Diet(Human/Animal)</td>\n",
       "      <td>13.0</td>\n",
       "      <td>Year(s)</td>\n",
       "      <td>Female</td>\n",
       "      <td>LIFE THREATENING, VISITED AN ER</td>\n",
       "      <td>TREMOR, HEADACHE, CEREBROVASCULAR ACCIDENT, PA...</td>\n",
       "    </tr>\n",
       "    <tr>\n",
       "      <th>39576</th>\n",
       "      <td>158896</td>\n",
       "      <td>11/13/2012</td>\n",
       "      <td>NaN</td>\n",
       "      <td>Suspect</td>\n",
       "      <td>PURITAN'S PRIDE SAW PALMETTO 1000MG SOFTGELS</td>\n",
       "      <td>54</td>\n",
       "      <td>Vit/Min/Prot/Unconv Diet(Human/Animal)</td>\n",
       "      <td>81.0</td>\n",
       "      <td>Year(s)</td>\n",
       "      <td>Male</td>\n",
       "      <td>HOSPITALIZATION, VISITED A HEALTH CARE PROVIDE...</td>\n",
       "      <td>PAIN, PNEUMONIA PRIMARY ATYPICAL, BODY TEMPERA...</td>\n",
       "    </tr>\n",
       "    <tr>\n",
       "      <th>39577</th>\n",
       "      <td>158896</td>\n",
       "      <td>11/13/2012</td>\n",
       "      <td>NaN</td>\n",
       "      <td>Suspect</td>\n",
       "      <td>PURITAN'S PRIDE SAW PALMETTO 1000MG SOFTGELS</td>\n",
       "      <td>54</td>\n",
       "      <td>Vit/Min/Prot/Unconv Diet(Human/Animal)</td>\n",
       "      <td>81.0</td>\n",
       "      <td>Year(s)</td>\n",
       "      <td>Male</td>\n",
       "      <td>HOSPITALIZATION, VISITED A HEALTH CARE PROVIDE...</td>\n",
       "      <td>PAIN, PNEUMONIA PRIMARY ATYPICAL, BODY TEMPERA...</td>\n",
       "    </tr>\n",
       "    <tr>\n",
       "      <th>41188</th>\n",
       "      <td>161823</td>\n",
       "      <td>2/5/2013</td>\n",
       "      <td>1/14/2013</td>\n",
       "      <td>Suspect</td>\n",
       "      <td>ELECTROLYTE POWER PAK CONCORD GRAPE</td>\n",
       "      <td>54</td>\n",
       "      <td>Vit/Min/Prot/Unconv Diet(Human/Animal)</td>\n",
       "      <td>50.0</td>\n",
       "      <td>Year(s)</td>\n",
       "      <td>Female</td>\n",
       "      <td>VISITED A HEALTH CARE PROVIDER, OTHER SERIOUS ...</td>\n",
       "      <td>HEART RATE INCREASED, CHEST DISCOMFORT, CARDIO...</td>\n",
       "    </tr>\n",
       "    <tr>\n",
       "      <th>41189</th>\n",
       "      <td>161823</td>\n",
       "      <td>2/5/2013</td>\n",
       "      <td>1/14/2013</td>\n",
       "      <td>Suspect</td>\n",
       "      <td>ELECTROLYTE POWER PAK CONCORD GRAPE</td>\n",
       "      <td>54</td>\n",
       "      <td>Vit/Min/Prot/Unconv Diet(Human/Animal)</td>\n",
       "      <td>50.0</td>\n",
       "      <td>Year(s)</td>\n",
       "      <td>Female</td>\n",
       "      <td>VISITED A HEALTH CARE PROVIDER, OTHER SERIOUS ...</td>\n",
       "      <td>HEART RATE INCREASED, CHEST DISCOMFORT, MALAIS...</td>\n",
       "    </tr>\n",
       "    <tr>\n",
       "      <th>41476</th>\n",
       "      <td>162333</td>\n",
       "      <td>2/16/2013</td>\n",
       "      <td>8/12/2012</td>\n",
       "      <td>Suspect</td>\n",
       "      <td>RAW CLAMS</td>\n",
       "      <td>16</td>\n",
       "      <td>Fishery/Seafood Prod</td>\n",
       "      <td>52.0</td>\n",
       "      <td>Year(s)</td>\n",
       "      <td>Male</td>\n",
       "      <td>HOSPITALIZATION</td>\n",
       "      <td>DIARRHOEA, FEELING OF BODY TEMPERATURE CHANGE,...</td>\n",
       "    </tr>\n",
       "    <tr>\n",
       "      <th>41477</th>\n",
       "      <td>162333</td>\n",
       "      <td>2/16/2013</td>\n",
       "      <td>8/12/2012</td>\n",
       "      <td>Suspect</td>\n",
       "      <td>RAW CLAMS</td>\n",
       "      <td>16</td>\n",
       "      <td>Fishery/Seafood Prod</td>\n",
       "      <td>52.0</td>\n",
       "      <td>Year(s)</td>\n",
       "      <td>Male</td>\n",
       "      <td>HOSPITALIZATION</td>\n",
       "      <td>NAUSEA, FEELING OF BODY TEMPERATURE CHANGE, DI...</td>\n",
       "    </tr>\n",
       "    <tr>\n",
       "      <th>41790</th>\n",
       "      <td>162794</td>\n",
       "      <td>2/28/2013</td>\n",
       "      <td>NaN</td>\n",
       "      <td>Suspect</td>\n",
       "      <td>NATURE'S BOUNTY RED YEAST RICE 600MG CAPSULES</td>\n",
       "      <td>54</td>\n",
       "      <td>Vit/Min/Prot/Unconv Diet(Human/Animal)</td>\n",
       "      <td>NaN</td>\n",
       "      <td>Not Available</td>\n",
       "      <td>Not Available</td>\n",
       "      <td>VISITED AN ER, REQ. INTERVENTION TO PRVNT PERM...</td>\n",
       "      <td>STRESS, CHEST PAIN, ASTHENIA, MALAISE, DYSPNOE...</td>\n",
       "    </tr>\n",
       "    <tr>\n",
       "      <th>41791</th>\n",
       "      <td>162794</td>\n",
       "      <td>2/28/2013</td>\n",
       "      <td>NaN</td>\n",
       "      <td>Suspect</td>\n",
       "      <td>NATURE'S BOUNTY RED YEAST RICE 600MG CAPSULES</td>\n",
       "      <td>54</td>\n",
       "      <td>Vit/Min/Prot/Unconv Diet(Human/Animal)</td>\n",
       "      <td>NaN</td>\n",
       "      <td>Not Available</td>\n",
       "      <td>Not Available</td>\n",
       "      <td>VISITED AN ER, REQ. INTERVENTION TO PRVNT PERM...</td>\n",
       "      <td>STRESS, CHEST PAIN, ASTHENIA, MALAISE, DYSPNOE...</td>\n",
       "    </tr>\n",
       "    <tr>\n",
       "      <th>46425</th>\n",
       "      <td>169532</td>\n",
       "      <td>8/30/2013</td>\n",
       "      <td>8/8/2013</td>\n",
       "      <td>Suspect</td>\n",
       "      <td>PURITAN'S PRIDE FLAX OIL 1000MG RAPID RELEASE ...</td>\n",
       "      <td>54</td>\n",
       "      <td>Vit/Min/Prot/Unconv Diet(Human/Animal)</td>\n",
       "      <td>65.0</td>\n",
       "      <td>Year(s)</td>\n",
       "      <td>Male</td>\n",
       "      <td>OTHER SERIOUS (IMPORTANT MEDICAL EVENTS)</td>\n",
       "      <td>FLUSHING, HYPERSENSITIVITY, PHARYNGEAL OEDEMA,...</td>\n",
       "    </tr>\n",
       "    <tr>\n",
       "      <th>46426</th>\n",
       "      <td>169532</td>\n",
       "      <td>8/30/2013</td>\n",
       "      <td>8/8/2013</td>\n",
       "      <td>Suspect</td>\n",
       "      <td>PURITAN'S PRIDE FLAX OIL 1000MG RAPID RELEASE ...</td>\n",
       "      <td>54</td>\n",
       "      <td>Vit/Min/Prot/Unconv Diet(Human/Animal)</td>\n",
       "      <td>65.0</td>\n",
       "      <td>Year(s)</td>\n",
       "      <td>Male</td>\n",
       "      <td>OTHER SERIOUS (IMPORTANT MEDICAL EVENTS)</td>\n",
       "      <td>FLUSHING, HYPERSENSITIVITY, URTICARIA, DYSPNOE...</td>\n",
       "    </tr>\n",
       "    <tr>\n",
       "      <th>46771</th>\n",
       "      <td>169846</td>\n",
       "      <td>9/10/2013</td>\n",
       "      <td>12/18/2011</td>\n",
       "      <td>Suspect</td>\n",
       "      <td>REDACTED</td>\n",
       "      <td>40</td>\n",
       "      <td>Baby Food Prod</td>\n",
       "      <td>16.0</td>\n",
       "      <td>Year(s)</td>\n",
       "      <td>Female</td>\n",
       "      <td>HOSPITALIZATION, REQ. INTERVENTION TO PRVNT PE...</td>\n",
       "      <td>ACUTE RESPIRATORY FAILURE, RESPIRATORY FAILURE...</td>\n",
       "    </tr>\n",
       "    <tr>\n",
       "      <th>46772</th>\n",
       "      <td>169846</td>\n",
       "      <td>9/10/2013</td>\n",
       "      <td>12/18/2011</td>\n",
       "      <td>Suspect</td>\n",
       "      <td>REDACTED</td>\n",
       "      <td>41</td>\n",
       "      <td>Dietary Conv Food/Meal Replacements</td>\n",
       "      <td>16.0</td>\n",
       "      <td>Year(s)</td>\n",
       "      <td>Female</td>\n",
       "      <td>HOSPITALIZATION, REQ. INTERVENTION TO PRVNT PE...</td>\n",
       "      <td>ACUTE RESPIRATORY FAILURE, RESPIRATORY FAILURE...</td>\n",
       "    </tr>\n",
       "    <tr>\n",
       "      <th>48145</th>\n",
       "      <td>171116</td>\n",
       "      <td>10/23/2013</td>\n",
       "      <td>8/20/2013</td>\n",
       "      <td>Suspect</td>\n",
       "      <td>OYSTERS</td>\n",
       "      <td>16</td>\n",
       "      <td>Fishery/Seafood Prod</td>\n",
       "      <td>NaN</td>\n",
       "      <td>Not Available</td>\n",
       "      <td>Not Available</td>\n",
       "      <td>OTHER SERIOUS (IMPORTANT MEDICAL EVENTS)</td>\n",
       "      <td>ABDOMINAL PAIN, HYPERHIDROSIS, DIARRHOEA, TEND...</td>\n",
       "    </tr>\n",
       "    <tr>\n",
       "      <th>48146</th>\n",
       "      <td>171116</td>\n",
       "      <td>10/23/2013</td>\n",
       "      <td>8/20/2013</td>\n",
       "      <td>Suspect</td>\n",
       "      <td>OYSTERS</td>\n",
       "      <td>16</td>\n",
       "      <td>Fishery/Seafood Prod</td>\n",
       "      <td>NaN</td>\n",
       "      <td>Not Available</td>\n",
       "      <td>Not Available</td>\n",
       "      <td>OTHER SERIOUS (IMPORTANT MEDICAL EVENTS)</td>\n",
       "      <td>ABDOMINAL PAIN, HYPERHIDROSIS, DIARRHOEA, TEND...</td>\n",
       "    </tr>\n",
       "    <tr>\n",
       "      <th>53548</th>\n",
       "      <td>176762</td>\n",
       "      <td>5/29/2014</td>\n",
       "      <td>2/16/2012</td>\n",
       "      <td>Concomitant</td>\n",
       "      <td>IRON</td>\n",
       "      <td>54</td>\n",
       "      <td>Vit/Min/Prot/Unconv Diet(Human/Animal)</td>\n",
       "      <td>47.0</td>\n",
       "      <td>Year(s)</td>\n",
       "      <td>Female</td>\n",
       "      <td>OTHER SERIOUS (IMPORTANT MEDICAL EVENTS)</td>\n",
       "      <td>HEPATITIS, AUTOIMMUNE HEPATITIS, FAT TISSUE IN...</td>\n",
       "    </tr>\n",
       "    <tr>\n",
       "      <th>53550</th>\n",
       "      <td>176762</td>\n",
       "      <td>5/29/2014</td>\n",
       "      <td>2/16/2012</td>\n",
       "      <td>Suspect</td>\n",
       "      <td>IRON</td>\n",
       "      <td>54</td>\n",
       "      <td>Vit/Min/Prot/Unconv Diet(Human/Animal)</td>\n",
       "      <td>47.0</td>\n",
       "      <td>Year(s)</td>\n",
       "      <td>Female</td>\n",
       "      <td>OTHER SERIOUS (IMPORTANT MEDICAL EVENTS)</td>\n",
       "      <td>HEPATITIS, AUTOIMMUNE HEPATITIS, FAT TISSUE IN...</td>\n",
       "    </tr>\n",
       "    <tr>\n",
       "      <th>64909</th>\n",
       "      <td>187472</td>\n",
       "      <td>6/30/2015</td>\n",
       "      <td>6/1/2015</td>\n",
       "      <td>Suspect</td>\n",
       "      <td>REDACTED</td>\n",
       "      <td>31</td>\n",
       "      <td>Coffee/Tea</td>\n",
       "      <td>31.0</td>\n",
       "      <td>Year(s)</td>\n",
       "      <td>Female</td>\n",
       "      <td>HOSPITALIZATION, VISITED AN ER</td>\n",
       "      <td>GASTROINTESTINAL PAIN, URTICARIA, GASTRITIS, A...</td>\n",
       "    </tr>\n",
       "    <tr>\n",
       "      <th>64910</th>\n",
       "      <td>187472</td>\n",
       "      <td>6/30/2015</td>\n",
       "      <td>6/1/2015</td>\n",
       "      <td>Suspect</td>\n",
       "      <td>REDACTED</td>\n",
       "      <td>41</td>\n",
       "      <td>Dietary Conv Food/Meal Replacements</td>\n",
       "      <td>31.0</td>\n",
       "      <td>Year(s)</td>\n",
       "      <td>Female</td>\n",
       "      <td>HOSPITALIZATION, VISITED AN ER</td>\n",
       "      <td>GASTROINTESTINAL PAIN, URTICARIA, GASTRITIS, A...</td>\n",
       "    </tr>\n",
       "    <tr>\n",
       "      <th>66230</th>\n",
       "      <td>188905</td>\n",
       "      <td>8/17/2015</td>\n",
       "      <td>1/30/2015</td>\n",
       "      <td>Concomitant</td>\n",
       "      <td>METABOLIC NUTRITION SYNEDREX</td>\n",
       "      <td>54</td>\n",
       "      <td>Vit/Min/Prot/Unconv Diet(Human/Animal)</td>\n",
       "      <td>35.0</td>\n",
       "      <td>Year(s)</td>\n",
       "      <td>Female</td>\n",
       "      <td>NON-SERIOUS INJURIES/ ILLNESS</td>\n",
       "      <td>RASH, CHEST DISCOMFORT, FEELING ABNORMAL, HEAR...</td>\n",
       "    </tr>\n",
       "    <tr>\n",
       "      <th>66231</th>\n",
       "      <td>188905</td>\n",
       "      <td>8/17/2015</td>\n",
       "      <td>1/30/2015</td>\n",
       "      <td>Suspect</td>\n",
       "      <td>METABOLIC NUTRITION SYNEDREX</td>\n",
       "      <td>54</td>\n",
       "      <td>Vit/Min/Prot/Unconv Diet(Human/Animal)</td>\n",
       "      <td>35.0</td>\n",
       "      <td>Year(s)</td>\n",
       "      <td>Female</td>\n",
       "      <td>NON-SERIOUS INJURIES/ ILLNESS</td>\n",
       "      <td>RASH, CHEST DISCOMFORT, FEELING ABNORMAL, HEAR...</td>\n",
       "    </tr>\n",
       "    <tr>\n",
       "      <th>76510</th>\n",
       "      <td>197922</td>\n",
       "      <td>6/30/2016</td>\n",
       "      <td>NaN</td>\n",
       "      <td>Concomitant</td>\n",
       "      <td>ALL DAY ENERGY GREENS</td>\n",
       "      <td>54</td>\n",
       "      <td>Vit/Min/Prot/Unconv Diet(Human/Animal)</td>\n",
       "      <td>NaN</td>\n",
       "      <td>Not Available</td>\n",
       "      <td>Male</td>\n",
       "      <td>VISITED A HEALTH CARE PROVIDER, HOSPITALIZATION</td>\n",
       "      <td>DIVERTICULITIS, GOUT</td>\n",
       "    </tr>\n",
       "    <tr>\n",
       "      <th>76511</th>\n",
       "      <td>197922</td>\n",
       "      <td>6/30/2016</td>\n",
       "      <td>NaN</td>\n",
       "      <td>Suspect</td>\n",
       "      <td>ALL DAY ENERGY GREENS</td>\n",
       "      <td>54</td>\n",
       "      <td>Vit/Min/Prot/Unconv Diet(Human/Animal)</td>\n",
       "      <td>NaN</td>\n",
       "      <td>Not Available</td>\n",
       "      <td>Male</td>\n",
       "      <td>VISITED A HEALTH CARE PROVIDER, HOSPITALIZATION</td>\n",
       "      <td>DIVERTICULITIS, GOUT</td>\n",
       "    </tr>\n",
       "    <tr>\n",
       "      <th>88166</th>\n",
       "      <td>207970</td>\n",
       "      <td>2/23/2017</td>\n",
       "      <td>1/27/2017</td>\n",
       "      <td>Concomitant</td>\n",
       "      <td>BEARD CZAR</td>\n",
       "      <td>54</td>\n",
       "      <td>Vit/Min/Prot/Unconv Diet(Human/Animal)</td>\n",
       "      <td>NaN</td>\n",
       "      <td>Not Available</td>\n",
       "      <td>Male</td>\n",
       "      <td>LIFE THREATENING, HOSPITALIZATION</td>\n",
       "      <td>RHABDOMYOLYSIS, BLOOD CREATINE PHOSPHOKINASE I...</td>\n",
       "    </tr>\n",
       "    <tr>\n",
       "      <th>88167</th>\n",
       "      <td>207970</td>\n",
       "      <td>2/23/2017</td>\n",
       "      <td>1/27/2017</td>\n",
       "      <td>Suspect</td>\n",
       "      <td>BEARD CZAR</td>\n",
       "      <td>54</td>\n",
       "      <td>Vit/Min/Prot/Unconv Diet(Human/Animal)</td>\n",
       "      <td>NaN</td>\n",
       "      <td>Not Available</td>\n",
       "      <td>Male</td>\n",
       "      <td>LIFE THREATENING, HOSPITALIZATION</td>\n",
       "      <td>RHABDOMYOLYSIS, BLOOD CREATINE PHOSPHOKINASE I...</td>\n",
       "    </tr>\n",
       "    <tr>\n",
       "      <th>88508</th>\n",
       "      <td>208314</td>\n",
       "      <td>3/1/2017</td>\n",
       "      <td>2/2/2017</td>\n",
       "      <td>Concomitant</td>\n",
       "      <td>PHYSIC CANDY CURVE</td>\n",
       "      <td>54</td>\n",
       "      <td>Vit/Min/Prot/Unconv Diet(Human/Animal)</td>\n",
       "      <td>19.0</td>\n",
       "      <td>Year(s)</td>\n",
       "      <td>Female</td>\n",
       "      <td>LIFE THREATENING</td>\n",
       "      <td>CARDIAC DISORDER, BLOOD PRESSURE INCREASED</td>\n",
       "    </tr>\n",
       "    <tr>\n",
       "      <th>88509</th>\n",
       "      <td>208314</td>\n",
       "      <td>3/1/2017</td>\n",
       "      <td>2/2/2017</td>\n",
       "      <td>Suspect</td>\n",
       "      <td>PHYSIC CANDY CURVE</td>\n",
       "      <td>54</td>\n",
       "      <td>Vit/Min/Prot/Unconv Diet(Human/Animal)</td>\n",
       "      <td>19.0</td>\n",
       "      <td>Year(s)</td>\n",
       "      <td>Female</td>\n",
       "      <td>LIFE THREATENING</td>\n",
       "      <td>CARDIAC DISORDER, BLOOD PRESSURE INCREASED</td>\n",
       "    </tr>\n",
       "    <tr>\n",
       "      <th>88842</th>\n",
       "      <td>208674</td>\n",
       "      <td>3/9/2017</td>\n",
       "      <td>2/16/2017</td>\n",
       "      <td>Concomitant</td>\n",
       "      <td>TRADER JOE'S ACIDOPHILUS WITH LIVEBAC</td>\n",
       "      <td>54</td>\n",
       "      <td>Vit/Min/Prot/Unconv Diet(Human/Animal)</td>\n",
       "      <td>NaN</td>\n",
       "      <td>Not Available</td>\n",
       "      <td>Male</td>\n",
       "      <td>OTHER SERIOUS (IMPORTANT MEDICAL EVENTS)</td>\n",
       "      <td>ABDOMINAL DISCOMFORT</td>\n",
       "    </tr>\n",
       "    <tr>\n",
       "      <th>88843</th>\n",
       "      <td>208674</td>\n",
       "      <td>3/9/2017</td>\n",
       "      <td>2/16/2017</td>\n",
       "      <td>Suspect</td>\n",
       "      <td>TRADER JOE'S ACIDOPHILUS WITH LIVEBAC</td>\n",
       "      <td>54</td>\n",
       "      <td>Vit/Min/Prot/Unconv Diet(Human/Animal)</td>\n",
       "      <td>NaN</td>\n",
       "      <td>Not Available</td>\n",
       "      <td>Male</td>\n",
       "      <td>OTHER SERIOUS (IMPORTANT MEDICAL EVENTS)</td>\n",
       "      <td>ABDOMINAL DISCOMFORT</td>\n",
       "    </tr>\n",
       "  </tbody>\n",
       "</table>\n",
       "<p>74 rows × 12 columns</p>\n",
       "</div>"
      ],
      "text/plain": [
       "       Report # Created Date  Start Date Product Role  \\\n",
       "0         65325     1/1/2004    8/4/2003      Suspect   \n",
       "1         65325     1/1/2004    8/4/2003      Suspect   \n",
       "243       65973    1/22/2004         NaN      Suspect   \n",
       "244       65973    1/22/2004         NaN      Suspect   \n",
       "281       66120    1/28/2004         NaN      Suspect   \n",
       "282       66120    1/28/2004         NaN      Suspect   \n",
       "299       66157    1/28/2004   7/17/2003      Suspect   \n",
       "300       66157    1/28/2004   7/17/2003      Suspect   \n",
       "586       67149     3/5/2004   1/31/2004      Suspect   \n",
       "587       67149     3/5/2004   1/31/2004      Suspect   \n",
       "1116      68778     5/6/2004   1/30/2004      Suspect   \n",
       "1117      68778     5/6/2004   1/30/2004      Suspect   \n",
       "6986      86927    7/15/2006         NaN      Suspect   \n",
       "6987      86927    7/15/2006         NaN      Suspect   \n",
       "7086      87263    7/31/2006         NaN      Suspect   \n",
       "7087      87263    7/31/2006         NaN      Suspect   \n",
       "7738      89285    11/6/2006    9/5/2006      Suspect   \n",
       "7739      89285    11/6/2006    9/5/2006      Suspect   \n",
       "8733      92124    3/20/2007   2/27/2007      Suspect   \n",
       "8734      92124    3/20/2007   2/27/2007      Suspect   \n",
       "10151     96091     9/6/2007         NaN      Suspect   \n",
       "10152     96091     9/6/2007         NaN      Suspect   \n",
       "14417    106590    9/24/2008    9/4/2008      Suspect   \n",
       "14418    106590    9/24/2008    9/4/2008      Suspect   \n",
       "15321    108960     1/5/2009   6/28/2008      Suspect   \n",
       "15322    108960     1/5/2009   6/28/2008      Suspect   \n",
       "15628    109585    1/29/2009   1/23/2009      Suspect   \n",
       "15629    109585    1/29/2009   1/23/2009      Suspect   \n",
       "17053    112441    4/28/2009    3/4/2009      Suspect   \n",
       "17054    112441    4/28/2009    3/4/2009      Suspect   \n",
       "...         ...          ...         ...          ...   \n",
       "39418    158650    11/6/2012   10/9/2012      Suspect   \n",
       "39419    158650    11/6/2012   10/9/2012      Suspect   \n",
       "39576    158896   11/13/2012         NaN      Suspect   \n",
       "39577    158896   11/13/2012         NaN      Suspect   \n",
       "41188    161823     2/5/2013   1/14/2013      Suspect   \n",
       "41189    161823     2/5/2013   1/14/2013      Suspect   \n",
       "41476    162333    2/16/2013   8/12/2012      Suspect   \n",
       "41477    162333    2/16/2013   8/12/2012      Suspect   \n",
       "41790    162794    2/28/2013         NaN      Suspect   \n",
       "41791    162794    2/28/2013         NaN      Suspect   \n",
       "46425    169532    8/30/2013    8/8/2013      Suspect   \n",
       "46426    169532    8/30/2013    8/8/2013      Suspect   \n",
       "46771    169846    9/10/2013  12/18/2011      Suspect   \n",
       "46772    169846    9/10/2013  12/18/2011      Suspect   \n",
       "48145    171116   10/23/2013   8/20/2013      Suspect   \n",
       "48146    171116   10/23/2013   8/20/2013      Suspect   \n",
       "53548    176762    5/29/2014   2/16/2012  Concomitant   \n",
       "53550    176762    5/29/2014   2/16/2012      Suspect   \n",
       "64909    187472    6/30/2015    6/1/2015      Suspect   \n",
       "64910    187472    6/30/2015    6/1/2015      Suspect   \n",
       "66230    188905    8/17/2015   1/30/2015  Concomitant   \n",
       "66231    188905    8/17/2015   1/30/2015      Suspect   \n",
       "76510    197922    6/30/2016         NaN  Concomitant   \n",
       "76511    197922    6/30/2016         NaN      Suspect   \n",
       "88166    207970    2/23/2017   1/27/2017  Concomitant   \n",
       "88167    207970    2/23/2017   1/27/2017      Suspect   \n",
       "88508    208314     3/1/2017    2/2/2017  Concomitant   \n",
       "88509    208314     3/1/2017    2/2/2017      Suspect   \n",
       "88842    208674     3/9/2017   2/16/2017  Concomitant   \n",
       "88843    208674     3/9/2017   2/16/2017      Suspect   \n",
       "\n",
       "                                      Product Brand/Name  Industry Code  \\\n",
       "0          MIDWEST COUNTRY FAIR CHOCOLATE FLAVORED CHIPS              3   \n",
       "1          MIDWEST COUNTRY FAIR CHOCOLATE FLAVORED CHIPS              3   \n",
       "243    PREMIER PIGMENTS PERMANENT TATTOO PIGMENTS: RO...             53   \n",
       "244    PREMIER PIGMENTS PERMANENT TATTOO PIGMENTS: RO...             53   \n",
       "281                                          CRAB OMELET             16   \n",
       "282                                          CRAB OMELET             16   \n",
       "299                                  KRAFT ZESTY ITALIAN             27   \n",
       "300                                  KRAFT ZESTY ITALIAN             27   \n",
       "586                            ENZYMATIC THERAPY EPHEDRA             54   \n",
       "587                            ENZYMATIC THERAPY EPHEDRA             54   \n",
       "1116                                             M-ONE-T             54   \n",
       "1117                                             M-ONE-T             54   \n",
       "6986                            WONDER WHOLE WHEAT BREAD              3   \n",
       "6987                            WONDER WHOLE WHEAT BREAD              3   \n",
       "7086              MRS. SMITH'S FROZEN DEEP PAN APPLE PIE              3   \n",
       "7087              MRS. SMITH'S FROZEN DEEP PAN APPLE PIE              3   \n",
       "7738              TRADER JOE'S T.J.'S BABY SPINACH SALAD             24   \n",
       "7739              TRADER JOE'S T.J.'S BABY SPINACH SALAD             24   \n",
       "8733                       MAGGIE DROZD SPICE DIET PILLS             54   \n",
       "8734                       MAGGIE DROZD SPICE DIET PILLS             54   \n",
       "10151                   GREAT VALUE CREAMY PEANUT BUTTER             23   \n",
       "10152                   GREAT VALUE CREAMY PEANUT BUTTER             23   \n",
       "14417  DIVINA ORGANIC PITTED KALAMATA OLIVES, CANNED ...             25   \n",
       "14418  DIVINA ORGANIC PITTED KALAMATA OLIVES, CANNED ...             25   \n",
       "15321                                       GROUPER FISH             16   \n",
       "15322                                       GROUPER FISH             16   \n",
       "15628                    ONE A DAY WEIGHT SMART ADVANCED             54   \n",
       "15629                    ONE A DAY WEIGHT SMART ADVANCED             54   \n",
       "17053       PHILLIPS LAXATIVE DIETARY SUPPLEMENT CAPLETS             54   \n",
       "17054       PHILLIPS LAXATIVE DIETARY SUPPLEMENT CAPLETS             54   \n",
       "...                                                  ...            ...   \n",
       "39418  MONSTER REHAB TEA + ORANGEADE + ENERGY  NON CA...             54   \n",
       "39419  MONSTER REHAB TEA + ORANGEADE + ENERGY  NON CA...             54   \n",
       "39576       PURITAN'S PRIDE SAW PALMETTO 1000MG SOFTGELS             54   \n",
       "39577       PURITAN'S PRIDE SAW PALMETTO 1000MG SOFTGELS             54   \n",
       "41188                ELECTROLYTE POWER PAK CONCORD GRAPE             54   \n",
       "41189                ELECTROLYTE POWER PAK CONCORD GRAPE             54   \n",
       "41476                                          RAW CLAMS             16   \n",
       "41477                                          RAW CLAMS             16   \n",
       "41790      NATURE'S BOUNTY RED YEAST RICE 600MG CAPSULES             54   \n",
       "41791      NATURE'S BOUNTY RED YEAST RICE 600MG CAPSULES             54   \n",
       "46425  PURITAN'S PRIDE FLAX OIL 1000MG RAPID RELEASE ...             54   \n",
       "46426  PURITAN'S PRIDE FLAX OIL 1000MG RAPID RELEASE ...             54   \n",
       "46771                                           REDACTED             40   \n",
       "46772                                           REDACTED             41   \n",
       "48145                                            OYSTERS             16   \n",
       "48146                                            OYSTERS             16   \n",
       "53548                                               IRON             54   \n",
       "53550                                               IRON             54   \n",
       "64909                                           REDACTED             31   \n",
       "64910                                           REDACTED             41   \n",
       "66230                       METABOLIC NUTRITION SYNEDREX             54   \n",
       "66231                       METABOLIC NUTRITION SYNEDREX             54   \n",
       "76510                              ALL DAY ENERGY GREENS             54   \n",
       "76511                              ALL DAY ENERGY GREENS             54   \n",
       "88166                                         BEARD CZAR             54   \n",
       "88167                                         BEARD CZAR             54   \n",
       "88508                                 PHYSIC CANDY CURVE             54   \n",
       "88509                                 PHYSIC CANDY CURVE             54   \n",
       "88842              TRADER JOE'S ACIDOPHILUS WITH LIVEBAC             54   \n",
       "88843              TRADER JOE'S ACIDOPHILUS WITH LIVEBAC             54   \n",
       "\n",
       "                                Industry Name   Age       Age Unit  \\\n",
       "0                 Bakery Prod/Dough/Mix/Icing   2.0        Year(s)   \n",
       "1                 Bakery Prod/Dough/Mix/Icing   2.0        Year(s)   \n",
       "243                                 Cosmetics  51.0        Year(s)   \n",
       "244                                 Cosmetics  51.0        Year(s)   \n",
       "281                      Fishery/Seafood Prod   NaN  Not Available   \n",
       "282                      Fishery/Seafood Prod   NaN  Not Available   \n",
       "299                        Dressing/Condiment   NaN  Not Available   \n",
       "300                        Dressing/Condiment   NaN  Not Available   \n",
       "586    Vit/Min/Prot/Unconv Diet(Human/Animal)   NaN  Not Available   \n",
       "587    Vit/Min/Prot/Unconv Diet(Human/Animal)   NaN  Not Available   \n",
       "1116   Vit/Min/Prot/Unconv Diet(Human/Animal)  30.0        Year(s)   \n",
       "1117   Vit/Min/Prot/Unconv Diet(Human/Animal)  30.0        Year(s)   \n",
       "6986              Bakery Prod/Dough/Mix/Icing   NaN  Not Available   \n",
       "6987              Bakery Prod/Dough/Mix/Icing   NaN  Not Available   \n",
       "7086              Bakery Prod/Dough/Mix/Icing   NaN  Not Available   \n",
       "7087              Bakery Prod/Dough/Mix/Icing   NaN  Not Available   \n",
       "7738            Vegetables/Vegetable Products   NaN  Not Available   \n",
       "7739            Vegetables/Vegetable Products   NaN  Not Available   \n",
       "8733   Vit/Min/Prot/Unconv Diet(Human/Animal)  36.0        Year(s)   \n",
       "8734   Vit/Min/Prot/Unconv Diet(Human/Animal)  36.0        Year(s)   \n",
       "10151                        Nuts/Edible Seed   NaN  Not Available   \n",
       "10152                        Nuts/Edible Seed   NaN  Not Available   \n",
       "14417           Vegetables/Vegetable Products   3.0        Year(s)   \n",
       "14418           Vegetables/Vegetable Products   3.0        Year(s)   \n",
       "15321                    Fishery/Seafood Prod   NaN  Not Available   \n",
       "15322                    Fishery/Seafood Prod   NaN  Not Available   \n",
       "15628  Vit/Min/Prot/Unconv Diet(Human/Animal)  56.0        Year(s)   \n",
       "15629  Vit/Min/Prot/Unconv Diet(Human/Animal)  56.0        Year(s)   \n",
       "17053  Vit/Min/Prot/Unconv Diet(Human/Animal)  95.0        Year(s)   \n",
       "17054  Vit/Min/Prot/Unconv Diet(Human/Animal)  95.0        Year(s)   \n",
       "...                                       ...   ...            ...   \n",
       "39418  Vit/Min/Prot/Unconv Diet(Human/Animal)  13.0        Year(s)   \n",
       "39419  Vit/Min/Prot/Unconv Diet(Human/Animal)  13.0        Year(s)   \n",
       "39576  Vit/Min/Prot/Unconv Diet(Human/Animal)  81.0        Year(s)   \n",
       "39577  Vit/Min/Prot/Unconv Diet(Human/Animal)  81.0        Year(s)   \n",
       "41188  Vit/Min/Prot/Unconv Diet(Human/Animal)  50.0        Year(s)   \n",
       "41189  Vit/Min/Prot/Unconv Diet(Human/Animal)  50.0        Year(s)   \n",
       "41476                    Fishery/Seafood Prod  52.0        Year(s)   \n",
       "41477                    Fishery/Seafood Prod  52.0        Year(s)   \n",
       "41790  Vit/Min/Prot/Unconv Diet(Human/Animal)   NaN  Not Available   \n",
       "41791  Vit/Min/Prot/Unconv Diet(Human/Animal)   NaN  Not Available   \n",
       "46425  Vit/Min/Prot/Unconv Diet(Human/Animal)  65.0        Year(s)   \n",
       "46426  Vit/Min/Prot/Unconv Diet(Human/Animal)  65.0        Year(s)   \n",
       "46771                          Baby Food Prod  16.0        Year(s)   \n",
       "46772     Dietary Conv Food/Meal Replacements  16.0        Year(s)   \n",
       "48145                    Fishery/Seafood Prod   NaN  Not Available   \n",
       "48146                    Fishery/Seafood Prod   NaN  Not Available   \n",
       "53548  Vit/Min/Prot/Unconv Diet(Human/Animal)  47.0        Year(s)   \n",
       "53550  Vit/Min/Prot/Unconv Diet(Human/Animal)  47.0        Year(s)   \n",
       "64909                              Coffee/Tea  31.0        Year(s)   \n",
       "64910     Dietary Conv Food/Meal Replacements  31.0        Year(s)   \n",
       "66230  Vit/Min/Prot/Unconv Diet(Human/Animal)  35.0        Year(s)   \n",
       "66231  Vit/Min/Prot/Unconv Diet(Human/Animal)  35.0        Year(s)   \n",
       "76510  Vit/Min/Prot/Unconv Diet(Human/Animal)   NaN  Not Available   \n",
       "76511  Vit/Min/Prot/Unconv Diet(Human/Animal)   NaN  Not Available   \n",
       "88166  Vit/Min/Prot/Unconv Diet(Human/Animal)   NaN  Not Available   \n",
       "88167  Vit/Min/Prot/Unconv Diet(Human/Animal)   NaN  Not Available   \n",
       "88508  Vit/Min/Prot/Unconv Diet(Human/Animal)  19.0        Year(s)   \n",
       "88509  Vit/Min/Prot/Unconv Diet(Human/Animal)  19.0        Year(s)   \n",
       "88842  Vit/Min/Prot/Unconv Diet(Human/Animal)   NaN  Not Available   \n",
       "88843  Vit/Min/Prot/Unconv Diet(Human/Animal)   NaN  Not Available   \n",
       "\n",
       "              Gender                                           Outcomes  \\\n",
       "0             Female  VISITED AN ER, VISITED A HEALTH CARE PROVIDER,...   \n",
       "1             Female  VISITED AN ER, VISITED A HEALTH CARE PROVIDER,...   \n",
       "243           Female                      NON-SERIOUS INJURIES/ ILLNESS   \n",
       "244           Female                      NON-SERIOUS INJURIES/ ILLNESS   \n",
       "281    Not Available       NON-SERIOUS INJURIES/ ILLNESS, VISITED AN ER   \n",
       "282    Not Available       NON-SERIOUS INJURIES/ ILLNESS, VISITED AN ER   \n",
       "299           Female                      NON-SERIOUS INJURIES/ ILLNESS   \n",
       "300           Female                      NON-SERIOUS INJURIES/ ILLNESS   \n",
       "586             Male                      NON-SERIOUS INJURIES/ ILLNESS   \n",
       "587             Male                      NON-SERIOUS INJURIES/ ILLNESS   \n",
       "1116            Male  REQ. INTERVENTION TO PRVNT PERM. IMPRMNT., LIF...   \n",
       "1117            Male  REQ. INTERVENTION TO PRVNT PERM. IMPRMNT., LIF...   \n",
       "6986            Male                      NON-SERIOUS INJURIES/ ILLNESS   \n",
       "6987            Male                      NON-SERIOUS INJURIES/ ILLNESS   \n",
       "7086            Male                      NON-SERIOUS INJURIES/ ILLNESS   \n",
       "7087            Male                      NON-SERIOUS INJURIES/ ILLNESS   \n",
       "7738            Male                      NON-SERIOUS INJURIES/ ILLNESS   \n",
       "7739            Male                      NON-SERIOUS INJURIES/ ILLNESS   \n",
       "8733          Female  HOSPITALIZATION, LIFE THREATENING, VISITED A H...   \n",
       "8734          Female  HOSPITALIZATION, LIFE THREATENING, VISITED A H...   \n",
       "10151  Not Available                     VISITED A HEALTH CARE PROVIDER   \n",
       "10152  Not Available                     VISITED A HEALTH CARE PROVIDER   \n",
       "14417         Female                      NON-SERIOUS INJURIES/ ILLNESS   \n",
       "14418         Female                      NON-SERIOUS INJURIES/ ILLNESS   \n",
       "15321  Not Available  HOSPITALIZATION, VISITED A HEALTH CARE PROVIDE...   \n",
       "15322  Not Available  HOSPITALIZATION, VISITED A HEALTH CARE PROVIDE...   \n",
       "15628         Female         SERIOUS INJURIES/ ILLNESS, HOSPITALIZATION   \n",
       "15629         Female         SERIOUS INJURIES/ ILLNESS, HOSPITALIZATION   \n",
       "17053         Female         SERIOUS INJURIES/ ILLNESS, HOSPITALIZATION   \n",
       "17054         Female         SERIOUS INJURIES/ ILLNESS, HOSPITALIZATION   \n",
       "...              ...                                                ...   \n",
       "39418         Female                    LIFE THREATENING, VISITED AN ER   \n",
       "39419         Female                    LIFE THREATENING, VISITED AN ER   \n",
       "39576           Male  HOSPITALIZATION, VISITED A HEALTH CARE PROVIDE...   \n",
       "39577           Male  HOSPITALIZATION, VISITED A HEALTH CARE PROVIDE...   \n",
       "41188         Female  VISITED A HEALTH CARE PROVIDER, OTHER SERIOUS ...   \n",
       "41189         Female  VISITED A HEALTH CARE PROVIDER, OTHER SERIOUS ...   \n",
       "41476           Male                                    HOSPITALIZATION   \n",
       "41477           Male                                    HOSPITALIZATION   \n",
       "41790  Not Available  VISITED AN ER, REQ. INTERVENTION TO PRVNT PERM...   \n",
       "41791  Not Available  VISITED AN ER, REQ. INTERVENTION TO PRVNT PERM...   \n",
       "46425           Male           OTHER SERIOUS (IMPORTANT MEDICAL EVENTS)   \n",
       "46426           Male           OTHER SERIOUS (IMPORTANT MEDICAL EVENTS)   \n",
       "46771         Female  HOSPITALIZATION, REQ. INTERVENTION TO PRVNT PE...   \n",
       "46772         Female  HOSPITALIZATION, REQ. INTERVENTION TO PRVNT PE...   \n",
       "48145  Not Available           OTHER SERIOUS (IMPORTANT MEDICAL EVENTS)   \n",
       "48146  Not Available           OTHER SERIOUS (IMPORTANT MEDICAL EVENTS)   \n",
       "53548         Female           OTHER SERIOUS (IMPORTANT MEDICAL EVENTS)   \n",
       "53550         Female           OTHER SERIOUS (IMPORTANT MEDICAL EVENTS)   \n",
       "64909         Female                     HOSPITALIZATION, VISITED AN ER   \n",
       "64910         Female                     HOSPITALIZATION, VISITED AN ER   \n",
       "66230         Female                      NON-SERIOUS INJURIES/ ILLNESS   \n",
       "66231         Female                      NON-SERIOUS INJURIES/ ILLNESS   \n",
       "76510           Male    VISITED A HEALTH CARE PROVIDER, HOSPITALIZATION   \n",
       "76511           Male    VISITED A HEALTH CARE PROVIDER, HOSPITALIZATION   \n",
       "88166           Male                  LIFE THREATENING, HOSPITALIZATION   \n",
       "88167           Male                  LIFE THREATENING, HOSPITALIZATION   \n",
       "88508         Female                                   LIFE THREATENING   \n",
       "88509         Female                                   LIFE THREATENING   \n",
       "88842           Male           OTHER SERIOUS (IMPORTANT MEDICAL EVENTS)   \n",
       "88843           Male           OTHER SERIOUS (IMPORTANT MEDICAL EVENTS)   \n",
       "\n",
       "                                                Symptoms  \n",
       "0      SWELLING FACE, RASH, WHEEZING, COUGH, HOSPITAL...  \n",
       "1      SWELLING FACE, WHEEZING, COUGH, RASH, HOSPITAL...  \n",
       "243    BLISTER, SWELLING FACE, CHEILITIS, PRURITUS, H...  \n",
       "244    SWELLING FACE, CHEILITIS, BLISTER, PRURITUS, H...  \n",
       "281    FEELING ABNORMAL, AMNESIA, ABDOMINAL PAIN, DIA...  \n",
       "282    FEELING ABNORMAL, AMNESIA, VOMITING, ABDOMINAL...  \n",
       "299    FEELING ABNORMAL, BALANCE DISORDER, DIZZINESS,...  \n",
       "300    FEELING ABNORMAL, DIZZINESS, NAUSEA, ABDOMINAL...  \n",
       "586    EMERGENCY CARE EXAMINATION, HEART RATE INCREAS...  \n",
       "587    EMERGENCY CARE EXAMINATION, HEART RATE INCREAS...  \n",
       "1116   BLOOD CHOLESTEROL INCREASED, JAUNDICE, ALANINE...  \n",
       "1117   BLOOD CHOLESTEROL INCREASED, JAUNDICE, BLOOD B...  \n",
       "6986           NAUSEA, ABDOMINAL PAIN, HEADACHE, MALAISE  \n",
       "6987           NAUSEA, HEADACHE, ABDOMINAL PAIN, MALAISE  \n",
       "7086   DIARRHOEA, HEADACHE, DIZZINESS, FATIGUE, NAUSE...  \n",
       "7087   DIARRHOEA, HEADACHE, DIZZINESS, NAUSEA, FATIGU...  \n",
       "7738   DIARRHOEA, HYPERHIDROSIS, MALAISE, ASTHENIA, M...  \n",
       "7739   MALAISE, ASTHENIA, HYPERHIDROSIS, DIARRHOEA, M...  \n",
       "8733   NAUSEA, ABDOMINAL PAIN, ASPARTATE AMINOTRANSFE...  \n",
       "8734   NAUSEA, ABDOMINAL PAIN, LIVER FUNCTION TEST AB...  \n",
       "10151  BODY TEMPERATURE INCREASED, DIARRHOEA, VOMITIN...  \n",
       "10152  BODY TEMPERATURE INCREASED, VOMITING, DIARRHOE...  \n",
       "14417  APPETITE DISORDER, VOMITING, DIARRHOEA, ABDOMI...  \n",
       "14418  APPETITE DISORDER, VOMITING, DIARRHOEA, ABDOMI...  \n",
       "15321  MALAISE, DIARRHOEA, VOMITING, CHILLS, FEELING ...  \n",
       "15322  VOMITING, MALAISE, DIARRHOEA, CHILLS, FEELING ...  \n",
       "15628  ATRIAL FIBRILLATION, HYPERTENSION, HEART RATE ...  \n",
       "15629  ATRIAL FIBRILLATION, HYPERTENSION, HEART RATE ...  \n",
       "17053  MUSCLE ATROPHY, LOSS OF CONSCIOUSNESS, DIARRHO...  \n",
       "17054  MUSCLE ATROPHY, LOSS OF CONSCIOUSNESS, DIARRHO...  \n",
       "...                                                  ...  \n",
       "39418  HEADACHE, TREMOR, CEREBROVASCULAR ACCIDENT, PA...  \n",
       "39419  TREMOR, HEADACHE, CEREBROVASCULAR ACCIDENT, PA...  \n",
       "39576  PAIN, PNEUMONIA PRIMARY ATYPICAL, BODY TEMPERA...  \n",
       "39577  PAIN, PNEUMONIA PRIMARY ATYPICAL, BODY TEMPERA...  \n",
       "41188  HEART RATE INCREASED, CHEST DISCOMFORT, CARDIO...  \n",
       "41189  HEART RATE INCREASED, CHEST DISCOMFORT, MALAIS...  \n",
       "41476  DIARRHOEA, FEELING OF BODY TEMPERATURE CHANGE,...  \n",
       "41477  NAUSEA, FEELING OF BODY TEMPERATURE CHANGE, DI...  \n",
       "41790  STRESS, CHEST PAIN, ASTHENIA, MALAISE, DYSPNOE...  \n",
       "41791  STRESS, CHEST PAIN, ASTHENIA, MALAISE, DYSPNOE...  \n",
       "46425  FLUSHING, HYPERSENSITIVITY, PHARYNGEAL OEDEMA,...  \n",
       "46426  FLUSHING, HYPERSENSITIVITY, URTICARIA, DYSPNOE...  \n",
       "46771  ACUTE RESPIRATORY FAILURE, RESPIRATORY FAILURE...  \n",
       "46772  ACUTE RESPIRATORY FAILURE, RESPIRATORY FAILURE...  \n",
       "48145  ABDOMINAL PAIN, HYPERHIDROSIS, DIARRHOEA, TEND...  \n",
       "48146  ABDOMINAL PAIN, HYPERHIDROSIS, DIARRHOEA, TEND...  \n",
       "53548  HEPATITIS, AUTOIMMUNE HEPATITIS, FAT TISSUE IN...  \n",
       "53550  HEPATITIS, AUTOIMMUNE HEPATITIS, FAT TISSUE IN...  \n",
       "64909  GASTROINTESTINAL PAIN, URTICARIA, GASTRITIS, A...  \n",
       "64910  GASTROINTESTINAL PAIN, URTICARIA, GASTRITIS, A...  \n",
       "66230  RASH, CHEST DISCOMFORT, FEELING ABNORMAL, HEAR...  \n",
       "66231  RASH, CHEST DISCOMFORT, FEELING ABNORMAL, HEAR...  \n",
       "76510                               DIVERTICULITIS, GOUT  \n",
       "76511                               DIVERTICULITIS, GOUT  \n",
       "88166  RHABDOMYOLYSIS, BLOOD CREATINE PHOSPHOKINASE I...  \n",
       "88167  RHABDOMYOLYSIS, BLOOD CREATINE PHOSPHOKINASE I...  \n",
       "88508         CARDIAC DISORDER, BLOOD PRESSURE INCREASED  \n",
       "88509         CARDIAC DISORDER, BLOOD PRESSURE INCREASED  \n",
       "88842                               ABDOMINAL DISCOMFORT  \n",
       "88843                               ABDOMINAL DISCOMFORT  \n",
       "\n",
       "[74 rows x 12 columns]"
      ]
     },
     "execution_count": 5,
     "metadata": {},
     "output_type": "execute_result"
    }
   ],
   "source": [
    "#Exploring the duplicates\n",
    "ad_food_effects[ad_food_effects.duplicated(['Report #', 'Product Brand/Name'], keep=False)]"
   ]
  },
  {
   "cell_type": "code",
   "execution_count": 6,
   "metadata": {},
   "outputs": [],
   "source": [
    "#Dropping the duplicates\n",
    "ad_food_effects=ad_food_effects.drop_duplicates(subset=['Report #', 'Product Brand/Name'], keep='first')"
   ]
  },
  {
   "cell_type": "code",
   "execution_count": 7,
   "metadata": {},
   "outputs": [],
   "source": [
    "#Dropping few rows without symptoms of the suspect\n",
    "ad_food_effects=ad_food_effects.drop([4598, 6171, 18406, 39364, 48914])"
   ]
  },
  {
   "cell_type": "code",
   "execution_count": 8,
   "metadata": {},
   "outputs": [],
   "source": [
    "#Dropping the NaN's in Age column\n",
    "ad_food_effects=ad_food_effects.dropna(subset=['Age'])"
   ]
  },
  {
   "cell_type": "code",
   "execution_count": 9,
   "metadata": {},
   "outputs": [],
   "source": [
    "#Extracting product name(toddler) and filling missing values\n",
    "toddler= ad_food_effects[ad_food_effects['Product Brand/Name'].str.contains(\"(?:\\s|^)TODDLER(?:\\s|$)\")][['Age']].fillna(18)\n",
    "#Assigning toddler to the original dataframe\n",
    "ad_food_effects.loc[ad_food_effects['Product Brand/Name'].str.contains(\"(?:\\s|^)TODDLER(?:\\s|$)\"), 'Age']=toddler"
   ]
  },
  {
   "cell_type": "code",
   "execution_count": 10,
   "metadata": {},
   "outputs": [
    {
     "name": "stderr",
     "output_type": "stream",
     "text": [
      "C:\\ProgramData\\Anaconda3\\lib\\site-packages\\pandas\\core\\indexing.py:543: SettingWithCopyWarning: \n",
      "A value is trying to be set on a copy of a slice from a DataFrame.\n",
      "Try using .loc[row_indexer,col_indexer] = value instead\n",
      "\n",
      "See the caveats in the documentation: http://pandas.pydata.org/pandas-docs/stable/indexing.html#indexing-view-versus-copy\n",
      "  self.obj[item] = s\n"
     ]
    }
   ],
   "source": [
    "#Adding Age Unit to the above filled values\n",
    "toddler_df= ad_food_effects.loc[ad_food_effects['Product Brand/Name'].str.contains(\"(?:\\s|^)TODDLER(?:\\s|$)\")]\n",
    "toddler_df.loc[toddler_df['Age Unit']=='Not Available', 'Age Unit']= 'Month(s)'"
   ]
  },
  {
   "cell_type": "code",
   "execution_count": 11,
   "metadata": {},
   "outputs": [],
   "source": [
    "#Extracting product name(other baby products) and filling missing values\n",
    "baby= ad_food_effects[ad_food_effects['Industry Code']==40][['Age']].fillna(12)\n",
    "#Assigning toddler to the original dataframe\n",
    "ad_food_effects.loc[ad_food_effects['Industry Code']==40, 'Age']=baby"
   ]
  },
  {
   "cell_type": "code",
   "execution_count": 12,
   "metadata": {},
   "outputs": [],
   "source": [
    "#Correcting Outliers of Age 736 months to 61 years\n",
    "ad_food_effects.loc[ad_food_effects['Report #']==109769, 'Age']=61\n",
    "ad_food_effects.loc[ad_food_effects['Report #']==109769, 'Age Unit']='Year(s)'"
   ]
  },
  {
   "cell_type": "code",
   "execution_count": 13,
   "metadata": {},
   "outputs": [],
   "source": [
    "#Correcting Outliers of Age 112 years to 12 years\n",
    "ad_food_effects.loc[ad_food_effects['Report #']==103361, 'Age']=12"
   ]
  },
  {
   "cell_type": "code",
   "execution_count": 14,
   "metadata": {},
   "outputs": [],
   "source": [
    "#Correcting Outliers of Age 250 years to 25 years\n",
    "ad_food_effects.loc[ad_food_effects['Report #']==110300, 'Age']=25"
   ]
  },
  {
   "cell_type": "code",
   "execution_count": 15,
   "metadata": {},
   "outputs": [],
   "source": [
    "#Correcting Outliers of Age 155 years to 55 years\n",
    "ad_food_effects.loc[ad_food_effects['Report #']==175186, 'Age']=55"
   ]
  },
  {
   "cell_type": "code",
   "execution_count": 16,
   "metadata": {},
   "outputs": [],
   "source": [
    "#Correcting Outliers of Age 151 years to 51 years\n",
    "ad_food_effects.loc[ad_food_effects['Report #']==178266, 'Age']=51"
   ]
  },
  {
   "cell_type": "code",
   "execution_count": 17,
   "metadata": {},
   "outputs": [],
   "source": [
    "#Correcting Outliers of Age 167 years to 67 years\n",
    "ad_food_effects.loc[ad_food_effects['Report #']==182151, 'Age']=67"
   ]
  },
  {
   "cell_type": "code",
   "execution_count": 18,
   "metadata": {},
   "outputs": [],
   "source": [
    "#Correcting Outliers of Age 156 years to 56 years\n",
    "ad_food_effects.loc[ad_food_effects['Report #']==197010, 'Age']=56"
   ]
  },
  {
   "cell_type": "code",
   "execution_count": 19,
   "metadata": {},
   "outputs": [],
   "source": [
    "#Correcting Outliers of Age 115 years to 15 years\n",
    "ad_food_effects.loc[ad_food_effects['Report #']==193984, 'Age']=15"
   ]
  },
  {
   "cell_type": "code",
   "execution_count": 20,
   "metadata": {},
   "outputs": [],
   "source": [
    "#Correcting Outliers of Age 76 Decades to years\n",
    "ad_food_effects.loc[ad_food_effects['Report #']==71436, 'Age Unit']= 'Year(s)'"
   ]
  },
  {
   "cell_type": "code",
   "execution_count": 21,
   "metadata": {},
   "outputs": [
    {
     "data": {
      "text/html": [
       "<div>\n",
       "<style scoped>\n",
       "    .dataframe tbody tr th:only-of-type {\n",
       "        vertical-align: middle;\n",
       "    }\n",
       "\n",
       "    .dataframe tbody tr th {\n",
       "        vertical-align: top;\n",
       "    }\n",
       "\n",
       "    .dataframe thead th {\n",
       "        text-align: right;\n",
       "    }\n",
       "</style>\n",
       "<table border=\"1\" class=\"dataframe\">\n",
       "  <thead>\n",
       "    <tr style=\"text-align: right;\">\n",
       "      <th></th>\n",
       "      <th>Report #</th>\n",
       "      <th>Created Date</th>\n",
       "      <th>Start Date</th>\n",
       "      <th>Product Role</th>\n",
       "      <th>Product Brand/Name</th>\n",
       "      <th>Industry Code</th>\n",
       "      <th>Industry Name</th>\n",
       "      <th>Age</th>\n",
       "      <th>Age Unit</th>\n",
       "      <th>Gender</th>\n",
       "      <th>Outcomes</th>\n",
       "      <th>Symptoms</th>\n",
       "    </tr>\n",
       "  </thead>\n",
       "  <tbody>\n",
       "    <tr>\n",
       "      <th>0</th>\n",
       "      <td>65325</td>\n",
       "      <td>1/1/2004</td>\n",
       "      <td>8/4/2003</td>\n",
       "      <td>Suspect</td>\n",
       "      <td>MIDWEST COUNTRY FAIR CHOCOLATE FLAVORED CHIPS</td>\n",
       "      <td>3</td>\n",
       "      <td>Bakery Prod/Dough/Mix/Icing</td>\n",
       "      <td>2.0</td>\n",
       "      <td>Year(s)</td>\n",
       "      <td>Female</td>\n",
       "      <td>VISITED AN ER, VISITED A HEALTH CARE PROVIDER,...</td>\n",
       "      <td>SWELLING FACE, RASH, WHEEZING, COUGH, HOSPITAL...</td>\n",
       "    </tr>\n",
       "    <tr>\n",
       "      <th>3</th>\n",
       "      <td>65335</td>\n",
       "      <td>1/1/2004</td>\n",
       "      <td>11/24/2003</td>\n",
       "      <td>Suspect</td>\n",
       "      <td>ENFAMIL LIPIL BABY FORMULA</td>\n",
       "      <td>40</td>\n",
       "      <td>Baby Food Prod</td>\n",
       "      <td>3.0</td>\n",
       "      <td>Month(s)</td>\n",
       "      <td>Not Available</td>\n",
       "      <td>NON-SERIOUS INJURIES/ ILLNESS</td>\n",
       "      <td>GASTROINTESTINAL DISORDER, VOMITING</td>\n",
       "    </tr>\n",
       "    <tr>\n",
       "      <th>5</th>\n",
       "      <td>65345</td>\n",
       "      <td>1/1/2004</td>\n",
       "      <td>12/21/2003</td>\n",
       "      <td>Suspect</td>\n",
       "      <td>FRITO LAY FUNYUNS ONION FLAVOR, ONION RINGS</td>\n",
       "      <td>7</td>\n",
       "      <td>Snack Food Item</td>\n",
       "      <td>10.0</td>\n",
       "      <td>Year(s)</td>\n",
       "      <td>Male</td>\n",
       "      <td>NON-SERIOUS INJURIES/ ILLNESS</td>\n",
       "      <td>CHOKING</td>\n",
       "    </tr>\n",
       "    <tr>\n",
       "      <th>9</th>\n",
       "      <td>65354</td>\n",
       "      <td>1/2/2004</td>\n",
       "      <td>NaN</td>\n",
       "      <td>Suspect</td>\n",
       "      <td>YOHIMBE</td>\n",
       "      <td>54</td>\n",
       "      <td>Vit/Min/Prot/Unconv Diet(Human/Animal)</td>\n",
       "      <td>66.0</td>\n",
       "      <td>Year(s)</td>\n",
       "      <td>Male</td>\n",
       "      <td>REQ. INTERVENTION TO PRVNT PERM. IMPRMNT.</td>\n",
       "      <td>BLOOD PRESSURE INCREASED</td>\n",
       "    </tr>\n",
       "    <tr>\n",
       "      <th>16</th>\n",
       "      <td>65399</td>\n",
       "      <td>1/5/2004</td>\n",
       "      <td>11/22/2003</td>\n",
       "      <td>Suspect</td>\n",
       "      <td>METOBOLITE 356</td>\n",
       "      <td>54</td>\n",
       "      <td>Vit/Min/Prot/Unconv Diet(Human/Animal)</td>\n",
       "      <td>51.0</td>\n",
       "      <td>Year(s)</td>\n",
       "      <td>Male</td>\n",
       "      <td>DEATH</td>\n",
       "      <td>COMPLETED SUICIDE, STRESS SYMPTOMS, DEATH</td>\n",
       "    </tr>\n",
       "  </tbody>\n",
       "</table>\n",
       "</div>"
      ],
      "text/plain": [
       "    Report # Created Date  Start Date Product Role  \\\n",
       "0      65325     1/1/2004    8/4/2003      Suspect   \n",
       "3      65335     1/1/2004  11/24/2003      Suspect   \n",
       "5      65345     1/1/2004  12/21/2003      Suspect   \n",
       "9      65354     1/2/2004         NaN      Suspect   \n",
       "16     65399     1/5/2004  11/22/2003      Suspect   \n",
       "\n",
       "                               Product Brand/Name  Industry Code  \\\n",
       "0   MIDWEST COUNTRY FAIR CHOCOLATE FLAVORED CHIPS              3   \n",
       "3                      ENFAMIL LIPIL BABY FORMULA             40   \n",
       "5     FRITO LAY FUNYUNS ONION FLAVOR, ONION RINGS              7   \n",
       "9                                         YOHIMBE             54   \n",
       "16                                 METOBOLITE 356             54   \n",
       "\n",
       "                             Industry Name   Age  Age Unit         Gender  \\\n",
       "0              Bakery Prod/Dough/Mix/Icing   2.0   Year(s)         Female   \n",
       "3                           Baby Food Prod   3.0  Month(s)  Not Available   \n",
       "5                          Snack Food Item  10.0   Year(s)           Male   \n",
       "9   Vit/Min/Prot/Unconv Diet(Human/Animal)  66.0   Year(s)           Male   \n",
       "16  Vit/Min/Prot/Unconv Diet(Human/Animal)  51.0   Year(s)           Male   \n",
       "\n",
       "                                             Outcomes  \\\n",
       "0   VISITED AN ER, VISITED A HEALTH CARE PROVIDER,...   \n",
       "3                       NON-SERIOUS INJURIES/ ILLNESS   \n",
       "5                       NON-SERIOUS INJURIES/ ILLNESS   \n",
       "9           REQ. INTERVENTION TO PRVNT PERM. IMPRMNT.   \n",
       "16                                              DEATH   \n",
       "\n",
       "                                             Symptoms  \n",
       "0   SWELLING FACE, RASH, WHEEZING, COUGH, HOSPITAL...  \n",
       "3                 GASTROINTESTINAL DISORDER, VOMITING  \n",
       "5                                             CHOKING  \n",
       "9                            BLOOD PRESSURE INCREASED  \n",
       "16          COMPLETED SUICIDE, STRESS SYMPTOMS, DEATH  "
      ]
     },
     "execution_count": 21,
     "metadata": {},
     "output_type": "execute_result"
    }
   ],
   "source": [
    "ad_food_effects.head()"
   ]
  },
  {
   "cell_type": "markdown",
   "metadata": {},
   "source": [
    "#### Inferential Statistics"
   ]
  },
  {
   "cell_type": "markdown",
   "metadata": {},
   "source": [
    "##### Is the Age distribution Normal?"
   ]
  },
  {
   "cell_type": "code",
   "execution_count": 22,
   "metadata": {},
   "outputs": [
    {
     "name": "stderr",
     "output_type": "stream",
     "text": [
      "C:\\ProgramData\\Anaconda3\\lib\\site-packages\\pandas\\core\\generic.py:4401: SettingWithCopyWarning: \n",
      "A value is trying to be set on a copy of a slice from a DataFrame.\n",
      "Try using .loc[row_indexer,col_indexer] = value instead\n",
      "\n",
      "See the caveats in the documentation: http://pandas.pydata.org/pandas-docs/stable/indexing.html#indexing-view-versus-copy\n",
      "  self[name] = value\n"
     ]
    }
   ],
   "source": [
    "#Converting Decades into Years\n",
    "decades_age= ad_food_effects.loc[ad_food_effects['Age Unit']=='Decade(s)']\n",
    "decades_age.Age*=10\n",
    "ad_food_effects.loc[ad_food_effects['Age Unit']=='Decade(s)']= decades_age\n",
    "ad_food_effects.loc[ad_food_effects['Age Unit']=='Decade(s)', 'Age Unit']='Year(s)'"
   ]
  },
  {
   "cell_type": "code",
   "execution_count": 23,
   "metadata": {},
   "outputs": [
    {
     "name": "stderr",
     "output_type": "stream",
     "text": [
      "C:\\ProgramData\\Anaconda3\\lib\\site-packages\\pandas\\core\\generic.py:4401: SettingWithCopyWarning: \n",
      "A value is trying to be set on a copy of a slice from a DataFrame.\n",
      "Try using .loc[row_indexer,col_indexer] = value instead\n",
      "\n",
      "See the caveats in the documentation: http://pandas.pydata.org/pandas-docs/stable/indexing.html#indexing-view-versus-copy\n",
      "  self[name] = value\n"
     ]
    }
   ],
   "source": [
    "#Converting Decades into Years\n",
    "months_age= ad_food_effects.loc[ad_food_effects['Age Unit']=='Month(s)']\n",
    "months_age.Age/=12\n",
    "ad_food_effects.loc[ad_food_effects['Age Unit']=='Month(s)']= months_age\n",
    "ad_food_effects.loc[ad_food_effects['Age Unit']=='Month(s)', 'Age Unit']='Year(s)'"
   ]
  },
  {
   "cell_type": "code",
   "execution_count": 24,
   "metadata": {},
   "outputs": [
    {
     "name": "stderr",
     "output_type": "stream",
     "text": [
      "C:\\ProgramData\\Anaconda3\\lib\\site-packages\\pandas\\core\\generic.py:4401: SettingWithCopyWarning: \n",
      "A value is trying to be set on a copy of a slice from a DataFrame.\n",
      "Try using .loc[row_indexer,col_indexer] = value instead\n",
      "\n",
      "See the caveats in the documentation: http://pandas.pydata.org/pandas-docs/stable/indexing.html#indexing-view-versus-copy\n",
      "  self[name] = value\n"
     ]
    }
   ],
   "source": [
    "#Converting Weeks into Years\n",
    "weeks_age= ad_food_effects.loc[ad_food_effects['Age Unit']=='Week(s)']\n",
    "weeks_age.Age/=52.1429\n",
    "ad_food_effects.loc[ad_food_effects['Age Unit']=='Week(s)']= weeks_age\n",
    "ad_food_effects.loc[ad_food_effects['Age Unit']=='Week(s)', 'Age Unit']='Year(s)'"
   ]
  },
  {
   "cell_type": "code",
   "execution_count": 25,
   "metadata": {},
   "outputs": [
    {
     "name": "stderr",
     "output_type": "stream",
     "text": [
      "C:\\ProgramData\\Anaconda3\\lib\\site-packages\\pandas\\core\\generic.py:4401: SettingWithCopyWarning: \n",
      "A value is trying to be set on a copy of a slice from a DataFrame.\n",
      "Try using .loc[row_indexer,col_indexer] = value instead\n",
      "\n",
      "See the caveats in the documentation: http://pandas.pydata.org/pandas-docs/stable/indexing.html#indexing-view-versus-copy\n",
      "  self[name] = value\n"
     ]
    }
   ],
   "source": [
    "#Converting Days into Years\n",
    "days_age= ad_food_effects.loc[ad_food_effects['Age Unit']=='Day(s)']\n",
    "days_age.Age/=365\n",
    "ad_food_effects.loc[ad_food_effects['Age Unit']=='Day(s)']= days_age\n",
    "ad_food_effects.loc[ad_food_effects['Age Unit']=='Day(s)', 'Age Unit']='Year(s)'"
   ]
  },
  {
   "cell_type": "code",
   "execution_count": 26,
   "metadata": {},
   "outputs": [],
   "source": [
    "#Converting Not Available unit into Years\n",
    "ad_food_effects.loc[ad_food_effects['Age Unit']=='Not Available', 'Age Unit']='Year(s)'"
   ]
  },
  {
   "cell_type": "code",
   "execution_count": 27,
   "metadata": {},
   "outputs": [],
   "source": [
    "age_sort= ad_food_effects.Age.sort_values()\n",
    "bin_values = np.arange(start=age_sort.min(), stop=age_sort.max(), step=4)"
   ]
  },
  {
   "cell_type": "code",
   "execution_count": 28,
   "metadata": {},
   "outputs": [
    {
     "name": "stderr",
     "output_type": "stream",
     "text": [
      "C:\\ProgramData\\Anaconda3\\lib\\site-packages\\matplotlib\\axes\\_axes.py:6462: UserWarning: The 'normed' kwarg is deprecated, and has been replaced by the 'density' kwarg.\n",
      "  warnings.warn(\"The 'normed' kwarg is deprecated, and has been \"\n"
     ]
    },
    {
     "data": {
      "text/plain": [
       "Text(0.5,1,'Age Distribution')"
      ]
     },
     "execution_count": 28,
     "metadata": {},
     "output_type": "execute_result"
    },
    {
     "data": {
      "image/png": "[encoded data removed]",
      "text/plain": [
       "<Figure size 432x288 with 1 Axes>"
      ]
     },
     "metadata": {},
     "output_type": "display_data"
    }
   ],
   "source": [
    "#Plotting the histogram:\n",
    "plt.hist(age_sort,bins=bin_values,stacked=True, normed=True)\n",
    "plt.xlabel('Age(Y)')\n",
    "plt.ylabel('Count')\n",
    "plt.title('Age Distribution')"
   ]
  },
  {
   "cell_type": "markdown",
   "metadata": {},
   "source": [
    "##### Is there a difference between Female and Male Mean Age? "
   ]
  },
  {
   "cell_type": "code",
   "execution_count": 29,
   "metadata": {},
   "outputs": [
    {
     "data": {
      "text/plain": [
       "count    35293.000000\n",
       "mean        52.845285\n",
       "std         21.516554\n",
       "min          0.000000\n",
       "25%         38.000000\n",
       "50%         55.000000\n",
       "75%         69.000000\n",
       "max        104.000000\n",
       "Name: Age, dtype: float64"
      ]
     },
     "execution_count": 29,
     "metadata": {},
     "output_type": "execute_result"
    }
   ],
   "source": [
    "#Extracting female reports\n",
    "female= ad_food_effects[ad_food_effects['Gender']=='Female']\n",
    "female.Age.describe()"
   ]
  },
  {
   "cell_type": "code",
   "execution_count": 30,
   "metadata": {},
   "outputs": [
    {
     "data": {
      "text/plain": [
       "count    16306.000000\n",
       "mean        46.211546\n",
       "std         24.860531\n",
       "min          0.000000\n",
       "25%         27.000000\n",
       "50%         48.000000\n",
       "75%         67.000000\n",
       "max        104.000000\n",
       "Name: Age, dtype: float64"
      ]
     },
     "execution_count": 30,
     "metadata": {},
     "output_type": "execute_result"
    }
   ],
   "source": [
    "#Extracting male reports\n",
    "male= ad_food_effects[ad_food_effects['Gender']=='Male']\n",
    "male.Age.describe()"
   ]
  },
  {
   "cell_type": "code",
   "execution_count": 31,
   "metadata": {},
   "outputs": [
    {
     "data": {
      "text/plain": [
       "6.633738839701813"
      ]
     },
     "execution_count": 31,
     "metadata": {},
     "output_type": "execute_result"
    }
   ],
   "source": [
    "#Difference of means:\n",
    "difference_of_means= np.mean(female.Age)-np.mean(male.Age)\n",
    "difference_of_means"
   ]
  },
  {
   "cell_type": "code",
   "execution_count": 32,
   "metadata": {},
   "outputs": [],
   "source": [
    "#computing two sample test:\n",
    "age_concat = np.concatenate((female.Age, male.Age))\n",
    "age_bs_replicates= np.empty(10000)\n",
    "for i in range (10000):\n",
    "    age_perm= np.random.choice(age_concat, size= len(age_concat))\n",
    "    age_bs_replicates[i]= np.mean(age_perm[:len(female.Age)]) - np.mean(age_perm[len(female.Age):])"
   ]
  },
  {
   "cell_type": "code",
   "execution_count": 33,
   "metadata": {},
   "outputs": [
    {
     "data": {
      "text/plain": [
       "0.0"
      ]
     },
     "execution_count": 33,
     "metadata": {},
     "output_type": "execute_result"
    }
   ],
   "source": [
    "#Calculating p-value\n",
    "p=np.sum(age_bs_replicates>=difference_of_means)/10000\n",
    "p"
   ]
  },
  {
   "cell_type": "markdown",
   "metadata": {},
   "source": [
    "##### The above p-value suggests that there is a significant difference between the Female and Male age reports."
   ]
  },
  {
   "cell_type": "markdown",
   "metadata": {},
   "source": [
    "##### Is there a significant difference between Female and Male serious reports?"
   ]
  },
  {
   "cell_type": "code",
   "execution_count": 34,
   "metadata": {},
   "outputs": [],
   "source": [
    "df=ad_food_effects"
   ]
  },
  {
   "cell_type": "code",
   "execution_count": 35,
   "metadata": {},
   "outputs": [],
   "source": [
    "from pandas import Series\n",
    "#Extract multiple outcomes into separate rows\n",
    "s= df['Outcomes'].str.split(',').apply(Series, 1).stack()\n",
    "s.index = s.index.droplevel(-1)\n",
    "s.name = 'Outcomes'"
   ]
  },
  {
   "cell_type": "code",
   "execution_count": 36,
   "metadata": {},
   "outputs": [],
   "source": [
    "#Joining new outcome column to the dataframe\n",
    "del df['Outcomes']\n",
    "df= df.join(s)"
   ]
  },
  {
   "cell_type": "code",
   "execution_count": 37,
   "metadata": {},
   "outputs": [
    {
     "data": {
      "text/html": [
       "<div>\n",
       "<style scoped>\n",
       "    .dataframe tbody tr th:only-of-type {\n",
       "        vertical-align: middle;\n",
       "    }\n",
       "\n",
       "    .dataframe tbody tr th {\n",
       "        vertical-align: top;\n",
       "    }\n",
       "\n",
       "    .dataframe thead th {\n",
       "        text-align: right;\n",
       "    }\n",
       "</style>\n",
       "<table border=\"1\" class=\"dataframe\">\n",
       "  <thead>\n",
       "    <tr style=\"text-align: right;\">\n",
       "      <th></th>\n",
       "      <th>Report #</th>\n",
       "      <th>Created Date</th>\n",
       "      <th>Start Date</th>\n",
       "      <th>Product Role</th>\n",
       "      <th>Product Brand/Name</th>\n",
       "      <th>Industry Code</th>\n",
       "      <th>Industry Name</th>\n",
       "      <th>Age</th>\n",
       "      <th>Age Unit</th>\n",
       "      <th>Gender</th>\n",
       "      <th>Symptoms</th>\n",
       "      <th>Outcomes</th>\n",
       "    </tr>\n",
       "  </thead>\n",
       "  <tbody>\n",
       "    <tr>\n",
       "      <th>0</th>\n",
       "      <td>65325</td>\n",
       "      <td>1/1/2004</td>\n",
       "      <td>8/4/2003</td>\n",
       "      <td>Suspect</td>\n",
       "      <td>MIDWEST COUNTRY FAIR CHOCOLATE FLAVORED CHIPS</td>\n",
       "      <td>3</td>\n",
       "      <td>Bakery Prod/Dough/Mix/Icing</td>\n",
       "      <td>2.00</td>\n",
       "      <td>Year(s)</td>\n",
       "      <td>Female</td>\n",
       "      <td>SWELLING FACE, RASH, WHEEZING, COUGH, HOSPITAL...</td>\n",
       "      <td>VISITED AN ER</td>\n",
       "    </tr>\n",
       "    <tr>\n",
       "      <th>0</th>\n",
       "      <td>65325</td>\n",
       "      <td>1/1/2004</td>\n",
       "      <td>8/4/2003</td>\n",
       "      <td>Suspect</td>\n",
       "      <td>MIDWEST COUNTRY FAIR CHOCOLATE FLAVORED CHIPS</td>\n",
       "      <td>3</td>\n",
       "      <td>Bakery Prod/Dough/Mix/Icing</td>\n",
       "      <td>2.00</td>\n",
       "      <td>Year(s)</td>\n",
       "      <td>Female</td>\n",
       "      <td>SWELLING FACE, RASH, WHEEZING, COUGH, HOSPITAL...</td>\n",
       "      <td>VISITED A HEALTH CARE PROVIDER</td>\n",
       "    </tr>\n",
       "    <tr>\n",
       "      <th>0</th>\n",
       "      <td>65325</td>\n",
       "      <td>1/1/2004</td>\n",
       "      <td>8/4/2003</td>\n",
       "      <td>Suspect</td>\n",
       "      <td>MIDWEST COUNTRY FAIR CHOCOLATE FLAVORED CHIPS</td>\n",
       "      <td>3</td>\n",
       "      <td>Bakery Prod/Dough/Mix/Icing</td>\n",
       "      <td>2.00</td>\n",
       "      <td>Year(s)</td>\n",
       "      <td>Female</td>\n",
       "      <td>SWELLING FACE, RASH, WHEEZING, COUGH, HOSPITAL...</td>\n",
       "      <td>REQ. INTERVENTION TO PRVNT PERM. IMPRMNT.</td>\n",
       "    </tr>\n",
       "    <tr>\n",
       "      <th>0</th>\n",
       "      <td>65325</td>\n",
       "      <td>1/1/2004</td>\n",
       "      <td>8/4/2003</td>\n",
       "      <td>Suspect</td>\n",
       "      <td>MIDWEST COUNTRY FAIR CHOCOLATE FLAVORED CHIPS</td>\n",
       "      <td>3</td>\n",
       "      <td>Bakery Prod/Dough/Mix/Icing</td>\n",
       "      <td>2.00</td>\n",
       "      <td>Year(s)</td>\n",
       "      <td>Female</td>\n",
       "      <td>SWELLING FACE, RASH, WHEEZING, COUGH, HOSPITAL...</td>\n",
       "      <td>HOSPITALIZATION</td>\n",
       "    </tr>\n",
       "    <tr>\n",
       "      <th>3</th>\n",
       "      <td>65335</td>\n",
       "      <td>1/1/2004</td>\n",
       "      <td>11/24/2003</td>\n",
       "      <td>Suspect</td>\n",
       "      <td>ENFAMIL LIPIL BABY FORMULA</td>\n",
       "      <td>40</td>\n",
       "      <td>Baby Food Prod</td>\n",
       "      <td>0.25</td>\n",
       "      <td>Year(s)</td>\n",
       "      <td>Not Available</td>\n",
       "      <td>GASTROINTESTINAL DISORDER, VOMITING</td>\n",
       "      <td>NON-SERIOUS INJURIES/ ILLNESS</td>\n",
       "    </tr>\n",
       "  </tbody>\n",
       "</table>\n",
       "</div>"
      ],
      "text/plain": [
       "   Report # Created Date  Start Date Product Role  \\\n",
       "0     65325     1/1/2004    8/4/2003      Suspect   \n",
       "0     65325     1/1/2004    8/4/2003      Suspect   \n",
       "0     65325     1/1/2004    8/4/2003      Suspect   \n",
       "0     65325     1/1/2004    8/4/2003      Suspect   \n",
       "3     65335     1/1/2004  11/24/2003      Suspect   \n",
       "\n",
       "                              Product Brand/Name  Industry Code  \\\n",
       "0  MIDWEST COUNTRY FAIR CHOCOLATE FLAVORED CHIPS              3   \n",
       "0  MIDWEST COUNTRY FAIR CHOCOLATE FLAVORED CHIPS              3   \n",
       "0  MIDWEST COUNTRY FAIR CHOCOLATE FLAVORED CHIPS              3   \n",
       "0  MIDWEST COUNTRY FAIR CHOCOLATE FLAVORED CHIPS              3   \n",
       "3                     ENFAMIL LIPIL BABY FORMULA             40   \n",
       "\n",
       "                 Industry Name   Age Age Unit         Gender  \\\n",
       "0  Bakery Prod/Dough/Mix/Icing  2.00  Year(s)         Female   \n",
       "0  Bakery Prod/Dough/Mix/Icing  2.00  Year(s)         Female   \n",
       "0  Bakery Prod/Dough/Mix/Icing  2.00  Year(s)         Female   \n",
       "0  Bakery Prod/Dough/Mix/Icing  2.00  Year(s)         Female   \n",
       "3               Baby Food Prod  0.25  Year(s)  Not Available   \n",
       "\n",
       "                                            Symptoms  \\\n",
       "0  SWELLING FACE, RASH, WHEEZING, COUGH, HOSPITAL...   \n",
       "0  SWELLING FACE, RASH, WHEEZING, COUGH, HOSPITAL...   \n",
       "0  SWELLING FACE, RASH, WHEEZING, COUGH, HOSPITAL...   \n",
       "0  SWELLING FACE, RASH, WHEEZING, COUGH, HOSPITAL...   \n",
       "3                GASTROINTESTINAL DISORDER, VOMITING   \n",
       "\n",
       "                                     Outcomes  \n",
       "0                               VISITED AN ER  \n",
       "0              VISITED A HEALTH CARE PROVIDER  \n",
       "0   REQ. INTERVENTION TO PRVNT PERM. IMPRMNT.  \n",
       "0                             HOSPITALIZATION  \n",
       "3               NON-SERIOUS INJURIES/ ILLNESS  "
      ]
     },
     "execution_count": 37,
     "metadata": {},
     "output_type": "execute_result"
    }
   ],
   "source": [
    "df.head()"
   ]
  },
  {
   "cell_type": "code",
   "execution_count": 38,
   "metadata": {},
   "outputs": [
    {
     "data": {
      "text/plain": [
       "OTHER SERIOUS (IMPORTANT MEDICAL EVENTS)      17331\n",
       "NON-SERIOUS INJURIES/ ILLNESS                  9009\n",
       "VISITED A HEALTH CARE PROVIDER                 8590\n",
       " OTHER SERIOUS (IMPORTANT MEDICAL EVENTS)      7754\n",
       "HOSPITALIZATION                                7164\n",
       " HOSPITALIZATION                               5800\n",
       " VISITED AN ER                                 4971\n",
       "VISITED AN ER                                  4375\n",
       " VISITED A HEALTH CARE PROVIDER                3594\n",
       " LIFE THREATENING                              2079\n",
       "LIFE THREATENING                               1941\n",
       " REQ. INTERVENTION TO PRVNT PERM. IMPRMNT.     1604\n",
       "SERIOUS INJURIES/ ILLNESS                      1508\n",
       "DISABILITY                                     1507\n",
       " SERIOUS INJURIES/ ILLNESS                     1372\n",
       " NON-SERIOUS INJURIES/ ILLNESS                 1257\n",
       " DISABILITY                                     825\n",
       "REQ. INTERVENTION TO PRVNT PERM. IMPRMNT.       748\n",
       "DEATH                                           669\n",
       " DEATH                                          356\n",
       "CONGENITAL ANOMALY                               36\n",
       "NONE                                             27\n",
       " CONGENITAL ANOMALY                               6\n",
       "Name: Outcomes, dtype: int64"
      ]
     },
     "execution_count": 38,
     "metadata": {},
     "output_type": "execute_result"
    }
   ],
   "source": [
    "df['Outcomes'].value_counts()"
   ]
  },
  {
   "cell_type": "code",
   "execution_count": 39,
   "metadata": {},
   "outputs": [],
   "source": [
    "#Extracting serious outcomes \n",
    "serious1= df[df.Outcomes=='OTHER SERIOUS (IMPORTANT MEDICAL EVENTS)']\n",
    "serious2= df[df.Outcomes=='SERIOUS INJURIES/ ILLNESS']"
   ]
  },
  {
   "cell_type": "code",
   "execution_count": 40,
   "metadata": {},
   "outputs": [],
   "source": [
    "#Joining serious and other serious outcomes\n",
    "serious= pd.concat([serious1, serious2], axis=0)"
   ]
  },
  {
   "cell_type": "code",
   "execution_count": 41,
   "metadata": {},
   "outputs": [
    {
     "data": {
      "text/plain": [
       "13711"
      ]
     },
     "execution_count": 41,
     "metadata": {},
     "output_type": "execute_result"
    }
   ],
   "source": [
    "# number of serious outcomes for female reports\n",
    "serious_F= sum(serious.Gender=='Female')\n",
    "serious_F"
   ]
  },
  {
   "cell_type": "code",
   "execution_count": 42,
   "metadata": {},
   "outputs": [
    {
     "data": {
      "text/plain": [
       "35293"
      ]
     },
     "execution_count": 42,
     "metadata": {},
     "output_type": "execute_result"
    }
   ],
   "source": [
    "# Total number of female reports\n",
    "total_F= sum(ad_food_effects['Gender']=='Female')\n",
    "total_F"
   ]
  },
  {
   "cell_type": "code",
   "execution_count": 43,
   "metadata": {},
   "outputs": [
    {
     "data": {
      "text/plain": [
       "0.388490635536792"
      ]
     },
     "execution_count": 43,
     "metadata": {},
     "output_type": "execute_result"
    }
   ],
   "source": [
    "#Proportion of serious female\n",
    "prop_serious_F= (serious_F/total_F)\n",
    "prop_serious_F"
   ]
  },
  {
   "cell_type": "code",
   "execution_count": 44,
   "metadata": {},
   "outputs": [
    {
     "data": {
      "text/plain": [
       "4803"
      ]
     },
     "execution_count": 44,
     "metadata": {},
     "output_type": "execute_result"
    }
   ],
   "source": [
    "# number of serious outcomes for male reports\n",
    "serious_M= sum(serious.Gender=='Male')\n",
    "serious_M"
   ]
  },
  {
   "cell_type": "code",
   "execution_count": 45,
   "metadata": {},
   "outputs": [
    {
     "data": {
      "text/plain": [
       "16306"
      ]
     },
     "execution_count": 45,
     "metadata": {},
     "output_type": "execute_result"
    }
   ],
   "source": [
    "# Total number of female reports\n",
    "total_M= sum(ad_food_effects['Gender']=='Male')\n",
    "total_M"
   ]
  },
  {
   "cell_type": "code",
   "execution_count": 46,
   "metadata": {},
   "outputs": [
    {
     "data": {
      "text/plain": [
       "0.2945541518459463"
      ]
     },
     "execution_count": 46,
     "metadata": {},
     "output_type": "execute_result"
    }
   ],
   "source": [
    "#Proportion of serious female\n",
    "prop_serious_M= (serious_M/total_M)\n",
    "prop_serious_M"
   ]
  },
  {
   "cell_type": "code",
   "execution_count": 47,
   "metadata": {},
   "outputs": [
    {
     "data": {
      "text/plain": [
       "0.09393648369084567"
      ]
     },
     "execution_count": 47,
     "metadata": {},
     "output_type": "execute_result"
    }
   ],
   "source": [
    "#Difference in proportion of serious outcomes\n",
    "diff_in_serious= prop_serious_F - prop_serious_M\n",
    "diff_in_serious"
   ]
  },
  {
   "cell_type": "markdown",
   "metadata": {},
   "source": [
    "##### Calculating Standard of Error, Margin of Error, and Confidence Interval"
   ]
  },
  {
   "cell_type": "code",
   "execution_count": 48,
   "metadata": {},
   "outputs": [
    {
     "data": {
      "text/plain": [
       "0.004412995029379812"
      ]
     },
     "execution_count": 48,
     "metadata": {},
     "output_type": "execute_result"
    }
   ],
   "source": [
    "#Standard of Error, SE= np.sqrt((p_hat-(1-p_hat))/n)\n",
    "SE= np.sqrt((prop_serious_F*(1-prop_serious_F)/total_F)+ (prop_serious_M*(1-prop_serious_M))/total_M)\n",
    "SE"
   ]
  },
  {
   "cell_type": "code",
   "execution_count": 49,
   "metadata": {},
   "outputs": [
    {
     "data": {
      "text/plain": [
       "0.008825990058759624"
      ]
     },
     "execution_count": 49,
     "metadata": {},
     "output_type": "execute_result"
    }
   ],
   "source": [
    "#Margin of Error, ME\n",
    "ME= SE*2\n",
    "ME"
   ]
  },
  {
   "cell_type": "code",
   "execution_count": 50,
   "metadata": {},
   "outputs": [
    {
     "data": {
      "text/plain": [
       "[0.08511049363208605, 0.1027624737496053]"
      ]
     },
     "execution_count": 50,
     "metadata": {},
     "output_type": "execute_result"
    }
   ],
   "source": [
    "#Confidence interval, CI\n",
    "CI= [diff_in_serious - ME, diff_in_serious + ME]\n",
    "CI"
   ]
  },
  {
   "cell_type": "markdown",
   "metadata": {},
   "source": [
    "##### Calculating p-value"
   ]
  },
  {
   "cell_type": "code",
   "execution_count": 51,
   "metadata": {},
   "outputs": [],
   "source": [
    "#Computing male and female serious reports\n",
    "M = serious['Gender']=='Male'\n",
    "F = serious['Gender']=='Female'"
   ]
  },
  {
   "cell_type": "code",
   "execution_count": 52,
   "metadata": {},
   "outputs": [
    {
     "data": {
      "text/plain": [
       "0.47284887732894526"
      ]
     },
     "execution_count": 52,
     "metadata": {},
     "output_type": "execute_result"
    }
   ],
   "source": [
    "diff_in_mean= np.mean(F)-np.mean(M)\n",
    "diff_in_mean"
   ]
  },
  {
   "cell_type": "code",
   "execution_count": 53,
   "metadata": {},
   "outputs": [],
   "source": [
    "#Computing permutation samples\n",
    "serious_concat= np.concatenate((F, M))\n",
    "serious_reps= np.empty(10000)\n",
    "for i in range (10000):\n",
    "    serious_perm= np.random.choice(serious_concat, size=len(serious_concat))\n",
    "    serious_reps[i]= np.mean(serious_perm[:len(F)])-np.mean(serious_perm[len(F):])"
   ]
  },
  {
   "cell_type": "code",
   "execution_count": 54,
   "metadata": {},
   "outputs": [
    {
     "data": {
      "text/plain": [
       "0.0"
      ]
     },
     "execution_count": 54,
     "metadata": {},
     "output_type": "execute_result"
    }
   ],
   "source": [
    "#Computing pvalue\n",
    "p= np.sum(serious_reps>=diff_in_mean)/len(serious_reps)\n",
    "p"
   ]
  },
  {
   "cell_type": "code",
   "execution_count": 55,
   "metadata": {},
   "outputs": [
    {
     "data": {
      "text/plain": [
       "Ttest_indResult(statistic=104.18167762880711, pvalue=0.0)"
      ]
     },
     "execution_count": 55,
     "metadata": {},
     "output_type": "execute_result"
    }
   ],
   "source": [
    "#T-test Statistic\n",
    "from scipy import stats\n",
    "stats.ttest_ind(F, M)"
   ]
  },
  {
   "cell_type": "markdown",
   "metadata": {},
   "source": [
    "##### The above p-value is the evidence for the significant difference between Male and Female serious reports."
   ]
  },
  {
   "cell_type": "markdown",
   "metadata": {},
   "source": [
    "##### Serious reports Analysis on Age group "
   ]
  },
  {
   "cell_type": "code",
   "execution_count": 56,
   "metadata": {},
   "outputs": [],
   "source": [
    "#Computing Age distribution\n",
    "age_sort_s= serious.Age.sort_values()\n",
    "bin_values1 = np.arange(start=age_sort_s.min(), stop=age_sort_s.max(), step=4)"
   ]
  },
  {
   "cell_type": "code",
   "execution_count": 57,
   "metadata": {},
   "outputs": [
    {
     "name": "stderr",
     "output_type": "stream",
     "text": [
      "C:\\ProgramData\\Anaconda3\\lib\\site-packages\\matplotlib\\axes\\_axes.py:6462: UserWarning: The 'normed' kwarg is deprecated, and has been replaced by the 'density' kwarg.\n",
      "  warnings.warn(\"The 'normed' kwarg is deprecated, and has been \"\n"
     ]
    },
    {
     "data": {
      "text/plain": [
       "Text(0.5,1,'Serious reports Age Distribution')"
      ]
     },
     "execution_count": 57,
     "metadata": {},
     "output_type": "execute_result"
    },
    {
     "data": {
      "image/png": "[encoded data removed]",
      "text/plain": [
       "<Figure size 432x288 with 1 Axes>"
      ]
     },
     "metadata": {},
     "output_type": "display_data"
    }
   ],
   "source": [
    "#Plotting the histogram:\n",
    "plt.hist(age_sort_s,bins=bin_values1,stacked=True, normed=True)\n",
    "plt.xlabel('Age(Y)')\n",
    "plt.ylabel('Count')\n",
    "plt.title('Serious reports Age Distribution')"
   ]
  },
  {
   "cell_type": "markdown",
   "metadata": {},
   "source": [
    "##### The above visualization shows that Age > 50 have more serious reports. "
   ]
  },
  {
   "cell_type": "code",
   "execution_count": 58,
   "metadata": {},
   "outputs": [
    {
     "data": {
      "text/plain": [
       "12610"
      ]
     },
     "execution_count": 58,
     "metadata": {},
     "output_type": "execute_result"
    }
   ],
   "source": [
    "# number of serious outcomes for age >= 50\n",
    "serious_50= sum(serious.Age>= 50)\n",
    "serious_50"
   ]
  },
  {
   "cell_type": "code",
   "execution_count": 59,
   "metadata": {},
   "outputs": [
    {
     "data": {
      "text/plain": [
       "29533"
      ]
     },
     "execution_count": 59,
     "metadata": {},
     "output_type": "execute_result"
    }
   ],
   "source": [
    "# Total number of reports of age > 50\n",
    "total_50= sum(ad_food_effects['Age']>=50)\n",
    "total_50"
   ]
  },
  {
   "cell_type": "code",
   "execution_count": 60,
   "metadata": {},
   "outputs": [
    {
     "data": {
      "text/plain": [
       "0.4269799884874547"
      ]
     },
     "execution_count": 60,
     "metadata": {},
     "output_type": "execute_result"
    }
   ],
   "source": [
    "#Proportion of serious reports of age >=50\n",
    "prop_serious_50= (serious_50/total_50)\n",
    "prop_serious_50"
   ]
  },
  {
   "cell_type": "code",
   "execution_count": 61,
   "metadata": {},
   "outputs": [
    {
     "data": {
      "text/plain": [
       "6229"
      ]
     },
     "execution_count": 61,
     "metadata": {},
     "output_type": "execute_result"
    }
   ],
   "source": [
    "# number of serious outcomes for age < 50\n",
    "serious_49= sum(serious.Age < 50)\n",
    "serious_49"
   ]
  },
  {
   "cell_type": "code",
   "execution_count": 62,
   "metadata": {},
   "outputs": [
    {
     "data": {
      "text/plain": [
       "23372"
      ]
     },
     "execution_count": 62,
     "metadata": {},
     "output_type": "execute_result"
    }
   ],
   "source": [
    "# Total number of reports of age < 50\n",
    "total_49= sum(ad_food_effects['Age'] < 50)\n",
    "total_49"
   ]
  },
  {
   "cell_type": "code",
   "execution_count": 63,
   "metadata": {},
   "outputs": [
    {
     "data": {
      "text/plain": [
       "0.26651548861886015"
      ]
     },
     "execution_count": 63,
     "metadata": {},
     "output_type": "execute_result"
    }
   ],
   "source": [
    "#Proportion of serious female\n",
    "prop_serious_49= (serious_49/total_49)\n",
    "prop_serious_49"
   ]
  },
  {
   "cell_type": "markdown",
   "metadata": {},
   "source": [
    "##### Calculating p-value"
   ]
  },
  {
   "cell_type": "code",
   "execution_count": 64,
   "metadata": {},
   "outputs": [],
   "source": [
    "#Computing serious reports for age <50 and >=50\n",
    "age50 = serious['Age']>=50\n",
    "age49 = serious['Age']<50"
   ]
  },
  {
   "cell_type": "code",
   "execution_count": 65,
   "metadata": {},
   "outputs": [
    {
     "data": {
      "text/plain": [
       "0.3387122458729232"
      ]
     },
     "execution_count": 65,
     "metadata": {},
     "output_type": "execute_result"
    }
   ],
   "source": [
    "diff_in_mean_age= np.mean(age50)-np.mean(age49)\n",
    "diff_in_mean_age"
   ]
  },
  {
   "cell_type": "code",
   "execution_count": 111,
   "metadata": {},
   "outputs": [
    {
     "data": {
      "text/plain": [
       "Ttest_indResult(statistic=21.01172572535338, pvalue=6.935631932850038e-98)"
      ]
     },
     "execution_count": 111,
     "metadata": {},
     "output_type": "execute_result"
    }
   ],
   "source": [
    "#T-test Statistic\n",
    "from scipy import stats\n",
    "stats.ttest_ind(f_serious,m_serious)"
   ]
  },
  {
   "cell_type": "code",
   "execution_count": 66,
   "metadata": {},
   "outputs": [],
   "source": [
    "#Computing permutation samples\n",
    "serious_age_concat= np.concatenate((age50,age49 ))\n",
    "serious_age_reps= np.empty(10000)\n",
    "for i in range (10000):\n",
    "    serious_age_perm= np.random.choice(serious_age_concat, size=len(serious_age_concat))\n",
    "    serious_age_reps[i]= np.mean(serious_age_perm[:len(age50)])-np.mean(serious_age_perm[len(age50):])"
   ]
  },
  {
   "cell_type": "code",
   "execution_count": 67,
   "metadata": {},
   "outputs": [
    {
     "data": {
      "text/plain": [
       "0.0"
      ]
     },
     "execution_count": 67,
     "metadata": {},
     "output_type": "execute_result"
    }
   ],
   "source": [
    "#Computing pvalue\n",
    "p= np.sum(serious_age_reps>=diff_in_mean_age)/len(serious_age_reps)\n",
    "p"
   ]
  },
  {
   "cell_type": "code",
   "execution_count": 68,
   "metadata": {},
   "outputs": [
    {
     "data": {
      "text/plain": [
       "Ttest_indResult(statistic=69.87542048790854, pvalue=0.0)"
      ]
     },
     "execution_count": 68,
     "metadata": {},
     "output_type": "execute_result"
    }
   ],
   "source": [
    "#T-test Statistic\n",
    "from scipy import stats\n",
    "stats.ttest_ind(age50, age49)"
   ]
  },
  {
   "cell_type": "markdown",
   "metadata": {},
   "source": [
    "##### The above p-value is the evidence for the significant difference between serious reports for age group of age less than 50 and age greater than 50"
   ]
  },
  {
   "cell_type": "code",
   "execution_count": null,
   "metadata": {},
   "outputs": [],
   "source": []
  }
 ],
 "metadata": {
  "kernelspec": {
   "display_name": "Python 3",
   "language": "python",
   "name": "python3"
  },
  "language_info": {
   "codemirror_mode": {
    "name": "ipython",
    "version": 3
   },
   "file_extension": ".py",
   "mimetype": "text/x-python",
   "name": "python",
   "nbconvert_exporter": "python",
   "pygments_lexer": "ipython3",
   "version": "3.6.5"
  }
 },
 "nbformat": 4,
 "nbformat_minor": 2
}
